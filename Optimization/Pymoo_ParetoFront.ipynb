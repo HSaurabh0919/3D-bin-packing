{
  "nbformat": 4,
  "nbformat_minor": 0,
  "metadata": {
    "colab": {
      "provenance": [],
      "authorship_tag": "ABX9TyN6L+3XmBKbuSn1O2xutKU9"
    },
    "kernelspec": {
      "name": "python3",
      "display_name": "Python 3"
    },
    "language_info": {
      "name": "python"
    }
  },
  "cells": [
    {
      "cell_type": "code",
      "source": [
        "!pip install pyomo"
      ],
      "metadata": {
        "colab": {
          "base_uri": "https://localhost:8080/"
        },
        "id": "LDInlStEuLDV",
        "outputId": "21bfe6b0-b74f-4c92-f196-89cc57b5e42b"
      },
      "execution_count": 1,
      "outputs": [
        {
          "output_type": "stream",
          "name": "stdout",
          "text": [
            "Looking in indexes: https://pypi.org/simple, https://us-python.pkg.dev/colab-wheels/public/simple/\n",
            "Collecting pyomo\n",
            "  Downloading Pyomo-6.4.3-cp38-cp38-manylinux_2_17_x86_64.manylinux2014_x86_64.whl (11.1 MB)\n",
            "\u001b[K     |████████████████████████████████| 11.1 MB 5.2 MB/s \n",
            "\u001b[?25hCollecting ply\n",
            "  Downloading ply-3.11-py2.py3-none-any.whl (49 kB)\n",
            "\u001b[K     |████████████████████████████████| 49 kB 3.5 MB/s \n",
            "\u001b[?25hInstalling collected packages: ply, pyomo\n",
            "Successfully installed ply-3.11 pyomo-6.4.3\n"
          ]
        }
      ]
    },
    {
      "cell_type": "code",
      "source": [
        "!pip install cplex"
      ],
      "metadata": {
        "colab": {
          "base_uri": "https://localhost:8080/"
        },
        "id": "Jv4--u0uu4nh",
        "outputId": "4f948736-1c17-412e-f692-bfff23ba131f"
      },
      "execution_count": 4,
      "outputs": [
        {
          "output_type": "stream",
          "name": "stdout",
          "text": [
            "Looking in indexes: https://pypi.org/simple, https://us-python.pkg.dev/colab-wheels/public/simple/\n",
            "Collecting cplex\n",
            "  Downloading cplex-22.1.0.0-cp38-cp38-manylinux1_x86_64.whl (43.3 MB)\n",
            "\u001b[K     |████████████████████████████████| 43.3 MB 1.2 MB/s \n",
            "\u001b[?25hInstalling collected packages: cplex\n",
            "Successfully installed cplex-22.1.0.0\n"
          ]
        }
      ]
    },
    {
      "cell_type": "code",
      "execution_count": 10,
      "metadata": {
        "colab": {
          "base_uri": "https://localhost:8080/",
          "height": 403
        },
        "id": "3GszFAeiuIEw",
        "outputId": "a1be379a-2a6f-4bb5-b221-5372a076e8aa"
      },
      "outputs": [
        {
          "output_type": "stream",
          "name": "stdout",
          "text": [
            "( X1 , X2 ) = ( 20.0 , 0.0 )\n",
            "f1 = 20.0\n",
            "f2 = 60.0\n",
            "( X1 , X2 ) = ( 8.0 , 40.0 )\n",
            "f1 = 8.0\n",
            "f2 = 184.0\n",
            "Each iteration will keep f2 lower than some values between f2_min and f2_max, so [60.0, 184.0]\n"
          ]
        },
        {
          "output_type": "display_data",
          "data": {
            "text/plain": [
              "<Figure size 432x288 with 1 Axes>"
            ],
            "image/png": "[encoded data removed]"
          },
          "metadata": {
            "needs_background": "light"
          }
        }
      ],
      "source": [
        "from pyomo.environ import *\n",
        "import matplotlib.pyplot as plt\n",
        "\n",
        "\n",
        "# max f1 = X1 <br>\n",
        "# max f2 = 3 X1 + 4 X2 <br>\n",
        "# st  X1 <= 20 <br>\n",
        "#     X2 <= 40 <br>\n",
        "#     5 X1 + 4 X2 <= 200 <br>\n",
        "\n",
        "model = ConcreteModel()\n",
        "\n",
        "model.X1 = Var(within=NonNegativeReals)\n",
        "model.X2 = Var(within=NonNegativeReals)\n",
        "\n",
        "model.C1 = Constraint(expr = model.X1 <= 20)\n",
        "model.C2 = Constraint(expr = model.X2 <= 40)\n",
        "model.C3 = Constraint(expr = 5 * model.X1 + 4 * model.X2 <= 200)\n",
        "\n",
        "model.f1 = Var()\n",
        "model.f2 = Var()\n",
        "model.C_f1 = Constraint(expr= model.f1 == model.X1)\n",
        "model.C_f2 = Constraint(expr= model.f2 == 3 * model.X1 + 4 * model.X2)\n",
        "model.O_f1 = Objective(expr= model.f1  , sense=maximize)\n",
        "model.O_f2 = Objective(expr= model.f2  , sense=maximize)\n",
        "\n",
        "model.O_f2.deactivate()\n",
        "\n",
        "solver = SolverFactory('cplex_direct')\n",
        "solver.solve(model);\n",
        "\n",
        "print( '( X1 , X2 ) = ( ' + str(value(model.X1)) + ' , ' + str(value(model.X2)) + ' )')\n",
        "print( 'f1 = ' + str(value(model.f1)) )\n",
        "print( 'f2 = ' + str(value(model.f2)) )\n",
        "f2_min = value(model.f2)\n",
        "\n",
        "# ## max f2\n",
        "\n",
        "model.O_f2.activate()\n",
        "model.O_f1.deactivate()\n",
        "\n",
        "solver = SolverFactory('cplex_direct')\n",
        "solver.solve(model);\n",
        "\n",
        "print( '( X1 , X2 ) = ( ' + str(value(model.X1)) + ' , ' + str(value(model.X2)) + ' )')\n",
        "print( 'f1 = ' + str(value(model.f1)) )\n",
        "print( 'f2 = ' + str(value(model.f2)) )\n",
        "f2_max = value(model.f2)\n",
        "\n",
        "\n",
        "# ## apply normal $\\epsilon$-Constraint\n",
        "\n",
        "model.O_f1.activate()\n",
        "model.O_f2.deactivate()\n",
        "\n",
        "model.e = Param(initialize=0, mutable=True)\n",
        "\n",
        "model.C_epsilon = Constraint(expr = model.f2 == model.e)\n",
        "\n",
        "solver.solve(model);\n",
        "\n",
        "print('Each iteration will keep f2 lower than some values between f2_min and f2_max, so ['       + str(f2_min) + ', ' + str(f2_max) + ']')\n",
        "\n",
        "n = 4\n",
        "step = int((f2_max - f2_min) / n)\n",
        "steps = list(range(int(f2_min),int(f2_max),step)) + [f2_max]\n",
        "\n",
        "x1_l = []\n",
        "x2_l = []\n",
        "for i in steps:\n",
        "    model.e = i\n",
        "    solver.solve(model);\n",
        "    x1_l.append(value(model.X1))\n",
        "    x2_l.append(value(model.X2))\n",
        "plt.plot(x1_l,x2_l,'o-.');\n",
        "plt.title('inefficient Pareto-front');\n",
        "plt.grid(True);\n",
        "\n",
        "\n"
      ]
    },
    {
      "cell_type": "code",
      "source": [
        "# ## apply augmented $\\epsilon$-Constraint\n",
        "\n",
        "# max   f2 + delta*epsilon <br>\n",
        "#  s.t. f2 - s = e\n",
        "\n",
        "model.del_component(model.O_f1)\n",
        "model.del_component(model.O_f2)\n",
        "model.del_component(model.C_epsilon)\n",
        "\n",
        "model.delta = Param(initialize=0.00001)\n",
        "\n",
        "model.s = Var(within=NonNegativeReals)\n",
        "\n",
        "model.O_f1 = Objective(expr = model.f1 + model.delta * model.s, sense=maximize)\n",
        "\n",
        "model.C_e = Constraint(expr = model.f2 - model.s == model.e)\n",
        "\n",
        "x1_l = []\n",
        "x2_l = []\n",
        "for i in range(160,190,6):\n",
        "    model.e = i\n",
        "    solver.solve(model);\n",
        "    x1_l.append(value(model.X1))\n",
        "    x2_l.append(value(model.X2))\n",
        "plt.plot(x1_l,x2_l,'o-.');\n",
        "plt.title('efficient Pareto-front');\n",
        "plt.grid(True);\n"
      ],
      "metadata": {
        "colab": {
          "base_uri": "https://localhost:8080/",
          "height": 281
        },
        "id": "Dg52cldSwqzt",
        "outputId": "e4bde446-8b6d-485f-952f-c5a8b592ccef"
      },
      "execution_count": 11,
      "outputs": [
        {
          "output_type": "display_data",
          "data": {
            "text/plain": [
              "<Figure size 432x288 with 1 Axes>"
            ],
            "image/png": "[encoded data removed]"
          },
          "metadata": {
            "needs_background": "light"
          }
        }
      ]
    },
    {
      "cell_type": "code",
      "source": [],
      "metadata": {
        "id": "e9vjoQYixZkE"
      },
      "execution_count": null,
      "outputs": []
    },
    {
      "cell_type": "code",
      "source": [],
      "metadata": {
        "id": "SimbVgjgxd1S"
      },
      "execution_count": null,
      "outputs": []
    }
  ]
}