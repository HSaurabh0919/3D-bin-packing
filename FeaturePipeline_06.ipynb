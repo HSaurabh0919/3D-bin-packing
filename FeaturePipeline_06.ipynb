{
  "cells": [
    {
      "cell_type": "markdown",
      "metadata": {
        "id": "WM3tFMxCAsG6"
      },
      "source": [
        "### 0. Import Modules"
      ]
    },
    {
      "cell_type": "code",
      "execution_count": 1,
      "metadata": {
        "colab": {
          "base_uri": "https://localhost:8080/"
        },
        "id": "ksEA-LzjHLBc",
        "outputId": "52c70f3a-6814-427b-9f62-fc1a4023038a"
      },
      "outputs": [
        {
          "output_type": "stream",
          "name": "stdout",
          "text": [
            "Looking in indexes: https://pypi.org/simple, https://us-python.pkg.dev/colab-wheels/public/simple/\n",
            "Collecting featurewiz\n",
            "  Downloading featurewiz-0.2.1-py3-none-any.whl (115 kB)\n",
            "\u001b[K     |████████████████████████████████| 115 kB 7.8 MB/s \n",
            "\u001b[?25hInstalling collected packages: featurewiz\n",
            "Successfully installed featurewiz-0.2.1\n"
          ]
        }
      ],
      "source": [
        "!pip install featurewiz --ignore-installed --no-deps"
      ]
    },
    {
      "cell_type": "code",
      "execution_count": 2,
      "metadata": {
        "id": "WU4Xtm0OHLD8"
      },
      "outputs": [],
      "source": [
        "#!pip install xlrd --ignore-installed --no-deps "
      ]
    },
    {
      "cell_type": "code",
      "execution_count": 3,
      "metadata": {
        "colab": {
          "base_uri": "https://localhost:8080/"
        },
        "id": "pud4qcUjHLGx",
        "outputId": "786254e0-f266-4a64-a984-b62809461b4f"
      },
      "outputs": [
        {
          "output_type": "stream",
          "name": "stdout",
          "text": [
            "Looking in indexes: https://pypi.org/simple, https://us-python.pkg.dev/colab-wheels/public/simple/\n",
            "Collecting category-encoders\n",
            "  Downloading category_encoders-2.5.1.post0-py2.py3-none-any.whl (72 kB)\n",
            "\u001b[?25l\r\u001b[K     |████▌                           | 10 kB 31.3 MB/s eta 0:00:01\r\u001b[K     |█████████                       | 20 kB 11.1 MB/s eta 0:00:01\r\u001b[K     |█████████████▋                  | 30 kB 15.2 MB/s eta 0:00:01\r\u001b[K     |██████████████████              | 40 kB 8.2 MB/s eta 0:00:01\r\u001b[K     |██████████████████████▋         | 51 kB 8.9 MB/s eta 0:00:01\r\u001b[K     |███████████████████████████▏    | 61 kB 10.5 MB/s eta 0:00:01\r\u001b[K     |███████████████████████████████▊| 71 kB 10.5 MB/s eta 0:00:01\r\u001b[K     |████████████████████████████████| 72 kB 845 kB/s \n",
            "\u001b[?25hRequirement already satisfied: patsy>=0.5.1 in /usr/local/lib/python3.7/dist-packages (from category-encoders) (0.5.3)\n",
            "Requirement already satisfied: scikit-learn>=0.20.0 in /usr/local/lib/python3.7/dist-packages (from category-encoders) (1.0.2)\n",
            "Requirement already satisfied: pandas>=1.0.5 in /usr/local/lib/python3.7/dist-packages (from category-encoders) (1.3.5)\n",
            "Requirement already satisfied: statsmodels>=0.9.0 in /usr/local/lib/python3.7/dist-packages (from category-encoders) (0.12.2)\n",
            "Requirement already satisfied: numpy>=1.14.0 in /usr/local/lib/python3.7/dist-packages (from category-encoders) (1.21.6)\n",
            "Requirement already satisfied: scipy>=1.0.0 in /usr/local/lib/python3.7/dist-packages (from category-encoders) (1.7.3)\n",
            "Requirement already satisfied: pytz>=2017.3 in /usr/local/lib/python3.7/dist-packages (from pandas>=1.0.5->category-encoders) (2022.4)\n",
            "Requirement already satisfied: python-dateutil>=2.7.3 in /usr/local/lib/python3.7/dist-packages (from pandas>=1.0.5->category-encoders) (2.8.2)\n",
            "Requirement already satisfied: six in /usr/local/lib/python3.7/dist-packages (from patsy>=0.5.1->category-encoders) (1.15.0)\n",
            "Requirement already satisfied: threadpoolctl>=2.0.0 in /usr/local/lib/python3.7/dist-packages (from scikit-learn>=0.20.0->category-encoders) (3.1.0)\n",
            "Requirement already satisfied: joblib>=0.11 in /usr/local/lib/python3.7/dist-packages (from scikit-learn>=0.20.0->category-encoders) (1.2.0)\n",
            "Installing collected packages: category-encoders\n",
            "\u001b[31mERROR: pip's dependency resolver does not currently take into account all the packages that are installed. This behaviour is the source of the following dependency conflicts.\n",
            "featurewiz 0.2.1 requires jupyter, which is not installed.\n",
            "featurewiz 0.2.1 requires lightgbm>=3.2.1, but you have lightgbm 2.2.3 which is incompatible.\n",
            "featurewiz 0.2.1 requires Pillow>=9.0.0, but you have pillow 7.1.2 which is incompatible.\n",
            "featurewiz 0.2.1 requires pyarrow~=7.0.0, but you have pyarrow 6.0.1 which is incompatible.\n",
            "featurewiz 0.2.1 requires xgboost>=1.5.1, but you have xgboost 0.90 which is incompatible.\n",
            "featurewiz 0.2.1 requires xlrd>=2.0.0, but you have xlrd 1.1.0 which is incompatible.\u001b[0m\n",
            "Successfully installed category-encoders-2.5.1.post0\n"
          ]
        }
      ],
      "source": [
        "#!pip install Pillow==9.0.0\n",
        "!pip install category-encoders"
      ]
    },
    {
      "cell_type": "code",
      "execution_count": 4,
      "metadata": {
        "id": "0k1aUSrfHKYN"
      },
      "outputs": [],
      "source": [
        "\n",
        "from sklearn.linear_model import LogisticRegressionCV, RidgeClassifierCV\n",
        "from sklearn.ensemble import GradientBoostingClassifier, ExtraTreesClassifier\n",
        "from sklearn.model_selection import train_test_split\n",
        "from sklearn.metrics import accuracy_score"
      ]
    },
    {
      "cell_type": "code",
      "execution_count": 5,
      "metadata": {
        "id": "HK1_mvjbHBye"
      },
      "outputs": [],
      "source": [
        "import numpy as np\n",
        "import pandas as pd\n",
        "from numba import njit\n",
        "import multiprocessing as mp\n",
        "import timeit\n",
        "from sklearn.metrics import f1_score\n",
        "from sklearn.metrics import confusion_matrix\n",
        "import datetime as dt"
      ]
    },
    {
      "cell_type": "code",
      "execution_count": 6,
      "metadata": {
        "id": "ROBj_ithZ6Cr"
      },
      "outputs": [],
      "source": [
        "from lightgbm import LGBMClassifier"
      ]
    },
    {
      "cell_type": "code",
      "execution_count": 7,
      "metadata": {
        "id": "kg7gAt9GfqXo"
      },
      "outputs": [],
      "source": [
        "from sklearn.preprocessing import StandardScaler, MinMaxScaler\n",
        "from sklearn.model_selection import train_test_split, TimeSeriesSplit"
      ]
    },
    {
      "cell_type": "code",
      "execution_count": 8,
      "metadata": {
        "colab": {
          "base_uri": "https://localhost:8080/"
        },
        "id": "xUdJ_QkkHUzq",
        "outputId": "6d69e4dd-3430-4713-e670-910d12e8521a"
      },
      "outputs": [
        {
          "output_type": "stream",
          "name": "stdout",
          "text": [
            "Imported 0.2.01 version. Select nrows to a small number when running on huge datasets.\n",
            "output = featurewiz(dataname, target, corr_limit=0.90, verbose=2, sep=',', \n",
            "\t\theader=0, test_data='',feature_engg='', category_encoders='',\n",
            "\t\tdask_xgboost_flag=False, nrows=None, skip_sulov=False)\n",
            "Create new features via 'feature_engg' flag : ['interactions','groupby','target']\n",
            "\n"
          ]
        }
      ],
      "source": [
        "from featurewiz import FeatureWiz"
      ]
    },
    {
      "cell_type": "code",
      "execution_count": 9,
      "metadata": {
        "id": "n6xOeOlGRduJ"
      },
      "outputs": [],
      "source": [
        "from sklearn.metrics import roc_auc_score\n",
        "from sklearn.metrics import f1_score\n",
        "from sklearn.metrics import confusion_matrix\n",
        "from imblearn.over_sampling import SMOTE "
      ]
    },
    {
      "cell_type": "code",
      "execution_count": 10,
      "metadata": {
        "id": "qyshHcrfRg9G"
      },
      "outputs": [],
      "source": [
        "import scipy"
      ]
    },
    {
      "cell_type": "markdown",
      "metadata": {
        "id": "hjBy17eCydHY"
      },
      "source": [
        "### A. Feature Addition Revised"
      ]
    },
    {
      "cell_type": "markdown",
      "metadata": {
        "id": "zF1Cg6-Xyfmp"
      },
      "source": [
        "#### Data Download"
      ]
    },
    {
      "cell_type": "code",
      "execution_count": null,
      "metadata": {
        "id": "J1bOfka_yfmq"
      },
      "outputs": [],
      "source": [
        "X_train_a = pd.read_parquet(\"https://storage.googleapis.com/public-quant/bankrupt_2022/X_train_1.park\")\n",
        "knowledge = pd.read_parquet(\"https://storage.googleapis.com/public-quant/bankrupt_2022/knowledge.park\")\n",
        "y_train_a = pd.read_parquet(\"https://storage.googleapis.com/public-quant/bankrupt_2022/y_train_1.park\")"
      ]
    },
    {
      "cell_type": "code",
      "execution_count": null,
      "metadata": {
        "id": "Kcm0YfyDyfmq"
      },
      "outputs": [],
      "source": [
        "def reduce_mem_usage(df, verbose=True):\n",
        "    numerics = ['int16', 'int32', 'int64', 'float16', 'float32', 'float64']\n",
        "    start_mem = df.memory_usage().sum() / 1024**2    \n",
        "    for col in df.columns:\n",
        "        col_type = df[col].dtypes\n",
        "        if col_type in numerics:\n",
        "            c_min = df[col].min()\n",
        "            c_max = df[col].max()\n",
        "            if str(col_type)[:3] == 'int':\n",
        "                if c_min > np.iinfo(np.int8).min and c_max < np.iinfo(np.int8).max:\n",
        "                    df[col] = df[col].astype(np.int8)\n",
        "                elif c_min > np.iinfo(np.int16).min and c_max < np.iinfo(np.int16).max:\n",
        "                    df[col] = df[col].astype(np.int16)\n",
        "                elif c_min > np.iinfo(np.int32).min and c_max < np.iinfo(np.int32).max:\n",
        "                    df[col] = df[col].astype(np.int32)\n",
        "                elif c_min > np.iinfo(np.int64).min and c_max < np.iinfo(np.int64).max:\n",
        "                    df[col] = df[col].astype(np.int64)  \n",
        "            else:\n",
        "                if c_min > np.finfo(np.float16).min and c_max < np.finfo(np.float16).max:\n",
        "                    df[col] = df[col].astype(np.float16)\n",
        "                elif c_min > np.finfo(np.float32).min and c_max < np.finfo(np.float32).max:\n",
        "                    df[col] = df[col].astype(np.float32)\n",
        "                else:\n",
        "                    df[col] = df[col].astype(np.float64)    \n",
        "    end_mem = df.memory_usage().sum() / 1024**2\n",
        "    if verbose: print('Mem. usage decreased to {:5.2f} Mb ({:.1f}% reduction)'.format(end_mem, 100 * (start_mem - end_mem) / start_mem))\n",
        "    return df"
      ]
    },
    {
      "cell_type": "code",
      "execution_count": null,
      "metadata": {
        "colab": {
          "base_uri": "https://localhost:8080/"
        },
        "id": "CFYn5cE4yfmq",
        "outputId": "4da28c54-2a63-4536-8670-8a5f92980b52"
      },
      "outputs": [
        {
          "name": "stdout",
          "output_type": "stream",
          "text": [
            "Mem. usage decreased to 555.58 Mb (54.1% reduction)\n"
          ]
        }
      ],
      "source": [
        "df = reduce_mem_usage(X_train_a, verbose=True)"
      ]
    },
    {
      "cell_type": "code",
      "execution_count": null,
      "metadata": {
        "colab": {
          "base_uri": "https://localhost:8080/"
        },
        "id": "73R4Rljmyfmr",
        "outputId": "7da51cc4-42f5-4f3e-c1c1-13bce85405e2"
      },
      "outputs": [
        {
          "data": {
            "text/plain": [
              "(1300365, 121)"
            ]
          },
          "execution_count": 86,
          "metadata": {},
          "output_type": "execute_result"
        }
      ],
      "source": [
        "df.shape"
      ]
    },
    {
      "cell_type": "code",
      "execution_count": null,
      "metadata": {
        "colab": {
          "base_uri": "https://localhost:8080/"
        },
        "id": "mL6iKWKLyfmr",
        "outputId": "26e61dd6-cb9f-4001-c686-734790b03be0"
      },
      "outputs": [
        {
          "name": "stdout",
          "output_type": "stream",
          "text": [
            "wiz = FeatureWiz(verbose=1)\n",
            "        X_train_selected = wiz.fit_transform(X_train, y_train)\n",
            "        X_test_selected = wiz.transform(X_test)\n",
            "        wiz.features  ### provides a list of selected features ###            \n",
            "        \n",
            "############################################################################################\n",
            "############       F A S T   F E A T U R E  E N G G    A N D    S E L E C T I O N ! ########\n",
            "# Be judicious with featurewiz. Don't use it to create too many un-interpretable features! #\n",
            "############################################################################################\n",
            "correlation limit = 0.6\n",
            "Skipping feature engineering since no feature_engg input...\n",
            "Skipping category encoding since no category encoders specified in input...\n",
            "#### Single_Label Binary_Classification problem ####\n",
            "    Caution: We will try to reduce the memory usage of dataframe from 565.50 MB\n",
            "        memory usage after optimization is: 558.06 MB\n",
            "        decreased by 1.3%\n",
            "    Loaded train data. Shape = (1300365, 122)\n",
            "#### Single_Label Binary_Classification problem ####\n",
            "No test data filename given...\n",
            "Classifying features using a random sample of 10000 rows from dataset...\n",
            "#### Single_Label Binary_Classification problem ####\n",
            "    loading a random sample of 10000 rows into pandas for EDA\n",
            "#######################################################################################\n",
            "######################## C L A S S I F Y I N G  V A R I A B L E S  ####################\n",
            "#######################################################################################\n",
            "        No variables were removed since no ID or low-information variables found in data set\n",
            "    Running SULOV on smaller dataset sample since data size 158 m > 50 m. Continuing ...\n",
            "#######################################################################################\n",
            "#####  Searching for Uncorrelated List Of Variables (SULOV) in 121 features ############\n",
            "#######################################################################################\n",
            "    there are no null values in dataset...\n",
            "    Removing (75) highly correlated variables:\n",
            "Completed SULOV. 46 features selected\n",
            "Time taken for SULOV method = 5 seconds\n",
            "Finally 46 vars selected after SULOV\n",
            "Converting all features to numeric before sending to XGBoost...\n",
            "#######################################################################################\n",
            "#####    R E C U R S I V E   X G B O O S T : F E A T U R E   S E L E C T I O N  #######\n",
            "#######################################################################################\n",
            "Current number of predictors before recursive XGBoost = 46 \n",
            "Number of booster rounds = 20\n",
            "Regular XGBoost is crashing due to: [04:45:02] /workspace/src/tree/updater_gpu_hist.cu:1407: Exception in gpu_hist: NCCL failure :unhandled cuda error /workspace/src/tree/../common/device_helpers.cuh(896)\n",
            "\n",
            "Stack trace:\n",
            "  [bt] (0) /usr/local/lib/python3.7/dist-packages/xgboost/./lib/libxgboost.so(dmlc::LogMessageFatal::~LogMessageFatal()+0x24) [0x7fed36f54cb4]\n",
            "  [bt] (1) /usr/local/lib/python3.7/dist-packages/xgboost/./lib/libxgboost.so(xgboost::tree::GPUHistMakerSpecialised<xgboost::detail::GradientPairInternal<double> >::Update(xgboost::HostDeviceVector<xgboost::detail::GradientPairInternal<float> >*, xgboost::DMatrix*, std::vector<xgboost::RegTree*, std::allocator<xgboost::RegTree*> > const&)+0x1270) [0x7fed371907f0]\n",
            "  [bt] (2) /usr/local/lib/python3.7/dist-packages/xgboost/./lib/libxgboost.so(xgboost::gbm::GBTree::BoostNewTrees(xgboost::HostDeviceVector<xgboost::detail::GradientPairInternal<float> >*, xgboost::DMatrix*, int, std::vector<std::unique_ptr<xgboost::RegTree, std::default_delete<xgboost::RegTree> >, std::allocator<std::unique_ptr<xgboost::RegTree, std::default_delete<xgboost::RegTree> > > >*)+0xa81) [0x7fed36fda791]\n",
            "  [bt] (3) /usr/local/lib/python3.7/dist-packages/xgboost/./lib/libxgboost.so(xgboost::gbm::GBTree::DoBoost(xgboost::DMatrix*, xgboost::HostDeviceVector<xgboost::detail::GradientPairInternal<float> >*, xgboost::ObjFunction*)+0xd65) [0x7fed36fdbc95]\n",
            "  [bt] (4) /usr/local/lib/python3.7/dist-packages/xgboost/./lib/libxgboost.so(xgboost::LearnerImpl::UpdateOneIter(int, xgboost::DMatrix*)+0x396) [0x7fed36fee556]\n",
            "  [bt] (5) /usr/local/lib/python3.7/dist-packages/xgboost/./lib/libxgboost.so(XGBoosterUpdateOneIter+0x35) [0x7fed36f51aa5]\n",
            "  [bt] (6) /usr/lib/x86_64-linux-gnu/libffi.so.6(ffi_call_unix64+0x4c) [0x7fed6e098dae]\n",
            "  [bt] (7) /usr/lib/x86_64-linux-gnu/libffi.so.6(ffi_call+0x22f) [0x7fed6e09871f]\n",
            "  [bt] (8) /usr/lib/python3.7/lib-dynload/_ctypes.cpython-37m-x86_64-linux-gnu.so(+0xd849) [0x7fed6e2a8849]\n",
            "\n",
            "\n",
            "[04:45:02] /workspace/src/tree/updater_gpu_hist.cu:1407: Exception in gpu_hist: NCCL failure :unhandled cuda error /workspace/src/tree/../common/device_helpers.cuh(896)\n",
            "\n",
            "Stack trace:\n",
            "  [bt] (0) /usr/local/lib/python3.7/dist-packages/xgboost/./lib/libxgboost.so(dmlc::LogMessageFatal::~LogMessageFatal()+0x24) [0x7fed36f54cb4]\n",
            "  [bt] (1) /usr/local/lib/python3.7/dist-packages/xgboost/./lib/libxgboost.so(xgboost::tree::GPUHistMakerSpecialised<xgboost::detail::GradientPairInternal<double> >::Update(xgboost::HostDeviceVector<xgboost::detail::GradientPairInternal<float> >*, xgboost::DMatrix*, std::vector<xgboost::RegTree*, std::allocator<xgboost::RegTree*> > const&)+0x1270) [0x7fed371907f0]\n",
            "  [bt] (2) /usr/local/lib/python3.7/dist-packages/xgboost/./lib/libxgboost.so(xgboost::gbm::GBTree::BoostNewTrees(xgboost::HostDeviceVector<xgboost::detail::GradientPairInternal<float> >*, xgboost::DMatrix*, int, std::vector<std::unique_ptr<xgboost::RegTree, std::default_delete<xgboost::RegTree> >, std::allocator<std::unique_ptr<xgboost::RegTree, std::default_delete<xgboost::RegTree> > > >*)+0xa81) [0x7fed36fda791]\n",
            "  [bt] (3) /usr/local/lib/python3.7/dist-packages/xgboost/./lib/libxgboost.so(xgboost::gbm::GBTree::DoBoost(xgboost::DMatrix*, xgboost::HostDeviceVector<xgboost::detail::GradientPairInternal<float> >*, xgboost::ObjFunction*)+0xd65) [0x7fed36fdbc95]\n",
            "  [bt] (4) /usr/local/lib/python3.7/dist-packages/xgboost/./lib/libxgboost.so(xgboost::LearnerImpl::UpdateOneIter(int, xgboost::DMatrix*)+0x396) [0x7fed36fee556]\n",
            "  [bt] (5) /usr/local/lib/python3.7/dist-packages/xgboost/./lib/libxgboost.so(XGBoosterUpdateOneIter+0x35) [0x7fed36f51aa5]\n",
            "  [bt] (6) /usr/lib/x86_64-linux-gnu/libffi.so.6(ffi_call_unix64+0x4c) [0x7fed6e098dae]\n",
            "  [bt] (7) /usr/lib/x86_64-linux-gnu/libffi.so.6(ffi_call+0x22f) [0x7fed6e09871f]\n",
            "  [bt] (8) /usr/lib/python3.7/lib-dynload/_ctypes.cpython-37m-x86_64-linux-gnu.so(+0xd849) [0x7fed6e2a8849]\n",
            "\n",
            "\n",
            "Regular XGBoost is crashing due to Invalid Parameter format for gpu_id expect int but value='None'. Returning with currently selected features...\n",
            "    Completed XGBoost feature selection in 1 seconds\n",
            "#######################################################################################\n",
            "#####          F E A T U R E   S E L E C T I O N   C O M P L E T E D            #######\n",
            "#######################################################################################\n",
            "Selected 46 important features. Too many to print...\n",
            "Total Time taken for featurewiz selection = 8 seconds\n",
            "Output contains a list of 46 important features and a train dataframe\n",
            "    Time taken to create entire pipeline = 27 second(s)\n"
          ]
        }
      ],
      "source": [
        "\n",
        "#X_train_a[\"ticker\"] = knowledge[\"ticker\"]\n",
        "#X_train_a[\"date\"] = knowledge[\"date\"]\n",
        "#X_train_a = X_train_a.sort_values(by=['date'])\n",
        "#y_train_a = y_train_a.reset_index(drop=True)\n",
        "#X_train_a = X_train_a.drop(['date'],axis=1)\n",
        "X_train_a = X_train_a.select_dtypes(include=['float64','int64'])\n",
        "\n",
        "\n",
        "#X_train_a[\"ticker\"] = knowledge[\"ticker\"]\n",
        "features = FeatureWiz(corr_limit=0.60, feature_engg='', category_encoders='',dask_xgboost_flag=False, nrows=None, verbose=0)\n",
        "X_train_a = features.fit_transform(df,y_train_a)\n",
        "\n"
      ]
    },
    {
      "cell_type": "code",
      "execution_count": null,
      "metadata": {
        "colab": {
          "base_uri": "https://localhost:8080/"
        },
        "id": "5MuVQK2Fyfmr",
        "outputId": "0377f6e6-8e3d-40a4-f2a8-332f2f9f3cac"
      },
      "outputs": [
        {
          "data": {
            "text/plain": [
              "(1300365, 46)"
            ]
          },
          "execution_count": 88,
          "metadata": {},
          "output_type": "execute_result"
        }
      ],
      "source": [
        "X_train_a.shape"
      ]
    },
    {
      "cell_type": "code",
      "execution_count": null,
      "metadata": {
        "id": "aVTDV6hnyfms"
      },
      "outputs": [],
      "source": [
        "del df"
      ]
    },
    {
      "cell_type": "code",
      "execution_count": null,
      "metadata": {
        "id": "nru9Err9yfms"
      },
      "outputs": [],
      "source": [
        "X_train_a[\"ticker\"] = knowledge[\"ticker\"]"
      ]
    },
    {
      "cell_type": "markdown",
      "metadata": {
        "id": "duuI0pByyfms"
      },
      "source": [
        "#### Feature Generation Functions"
      ]
    },
    {
      "cell_type": "code",
      "execution_count": null,
      "metadata": {
        "id": "HNquKZsJyfms"
      },
      "outputs": [],
      "source": [
        "\n",
        "\n",
        "def pk_pk_distance(signal):\n",
        "    \"\"\"Computes the peak to peak distance.\n",
        "    Feature computational cost: 1\n",
        "    Parameters\n",
        "    ----------\n",
        "    signal : nd-array\n",
        "        Input from which the area under the curve is computed\n",
        "    Returns\n",
        "    -------\n",
        "    float\n",
        "        peak to peak distance\n",
        "    \"\"\"\n",
        "    return np.abs(np.max(signal) - np.min(signal))\n",
        "    #return [np.abs(np.max(signal) - np.min(signal))]*len(signal)\n",
        "\n",
        "def median_abs_diff(signal):\n",
        "    \"\"\"Computes median absolute differences of the signal.\n",
        "   Feature computational cost: 1\n",
        "   Parameters\n",
        "   ----------\n",
        "   signal : nd-array\n",
        "       Input from which median absolute difference is computed\n",
        "   Returns\n",
        "   -------\n",
        "   float\n",
        "       Median absolute difference result\n",
        "   \"\"\"\n",
        "    return np.median(np.abs(np.diff(signal)))\n",
        "\n",
        "def slope(signal):\n",
        "    \"\"\"Computes the slope of the signal.\n",
        "    Slope is computed by fitting a linear equation to the observed data.\n",
        "    Feature computational cost: 1\n",
        "    Parameters\n",
        "    ----------\n",
        "    signal : nd-array\n",
        "        Input from which linear equation is computed\n",
        "    Returns\n",
        "    -------\n",
        "    float\n",
        "        Slope\n",
        "    \"\"\"\n",
        "    t = np.linspace(0, len(signal) - 1, len(signal))\n",
        "  \n",
        "    return np.polyfit(t, signal, 1)[0]\n",
        "\n",
        "def distance(signal):\n",
        "    \"\"\"Computes signal traveled distance.\n",
        "    Calculates the total distance traveled by the signal\n",
        "    using the hipotenusa between 2 datapoints.\n",
        "   Feature computational cost: 1\n",
        "    Parameters\n",
        "    ----------\n",
        "    signal : nd-array\n",
        "        Input from which distance is computed\n",
        "    Returns\n",
        "    -------\n",
        "    float\n",
        "        Signal distance\n",
        "    \"\"\"\n",
        "    diff_sig = np.diff(signal).astype(float)\n",
        "    return np.sum([np.sqrt(1 + diff_sig ** 2)])\n",
        "\n",
        "def zero_cross(signal):\n",
        "    \"\"\"Computes Zero-crossing rate of the signal.\n",
        "    Corresponds to the total number of times that the signal changes from\n",
        "    positive to negative or vice versa.\n",
        "    Feature computational cost: 1\n",
        "    Parameters\n",
        "    ----------\n",
        "    signal : nd-array\n",
        "        Input from which the zero-crossing rate are computed\n",
        "    Returns\n",
        "    -------\n",
        "    int\n",
        "        Number of times that signal value cross the zero axis\n",
        "    \"\"\"\n",
        "    return len(np.where(np.diff(np.sign(signal)))[0])\n",
        "\n",
        "\n",
        "def autocorr_norm(signal):\n",
        "    \"\"\"Computes the autocorrelation.\n",
        "    Implementation details and description in:\n",
        "    https://ccrma.stanford.edu/~orchi/Documents/speaker_recognition_report.pdf\n",
        "    Parameters\n",
        "    ----------\n",
        "    signal : nd-array\n",
        "        Input from linear prediction coefficients are computed\n",
        "    Returns\n",
        "    -------\n",
        "    nd-array\n",
        "        Autocorrelation result\n",
        "    \"\"\"\n",
        "\n",
        "    variance = np.var(signal)\n",
        "    signal = np.copy(signal - signal.mean())\n",
        "    r = scipy.signal.correlate(signal, signal)[-len(signal):]\n",
        "\n",
        "    if (signal == 0).all():\n",
        "        return np.zeros(len(signal))\n",
        "\n",
        "    acf = r / variance / len(signal)\n",
        "\n",
        "    return acf\n",
        "\n",
        "def create_xx(features):\n",
        "    \"\"\"Computes the range of features amplitude for the probability density function calculus.\n",
        "    Parameters\n",
        "    ----------\n",
        "    features : nd-array\n",
        "        Input features\n",
        "    Returns\n",
        "    -------\n",
        "    nd-array\n",
        "        range of features amplitude\n",
        "    \"\"\"\n",
        "\n",
        "    features_ = np.copy(features)\n",
        "\n",
        "    if max(features_) < 0:\n",
        "        max_f = - max(features_)\n",
        "        min_f = min(features_)\n",
        "    else:\n",
        "        min_f = min(features_)\n",
        "        max_f = max(features_)\n",
        "\n",
        "    if min(features_) == max(features_):\n",
        "        xx = np.linspace(min_f, min_f + 10, len(features_))\n",
        "    else:\n",
        "        xx = np.linspace(min_f, max_f, len(features_))\n",
        "\n",
        "    return xx\n",
        "\n",
        "def kde(features):\n",
        "    \"\"\"Computes the probability density function of the input signal using a Gaussian KDE (Kernel Density Estimate)\n",
        "    Parameters\n",
        "    ----------\n",
        "    features : nd-array\n",
        "        Input from which probability density function is computed\n",
        "    Returns\n",
        "    -------\n",
        "    nd-array\n",
        "        probability density values\n",
        "    \"\"\"\n",
        "    features_ = np.copy(features)\n",
        "    xx = create_xx(features_)\n",
        "\n",
        "    if min(features_) == max(features_):\n",
        "        noise = np.random.randn(len(features_)) * 0.0001\n",
        "        features_ = np.copy(features_ + noise)\n",
        "\n",
        "    kernel = scipy.stats.gaussian_kde(features_, bw_method='silverman')\n",
        "\n",
        "    return np.array(kernel(xx) / np.sum(kernel(xx)))\n",
        "\n",
        "def calc_ecdf(signal):\n",
        "    \"\"\"Computes the ECDF of the signal.\n",
        "      Parameters\n",
        "      ----------\n",
        "      signal : nd-array\n",
        "          Input from which ECDF is computed\n",
        "      Returns\n",
        "      -------\n",
        "      nd-array\n",
        "        Sorted signal and computed ECDF.\n",
        "      \"\"\"\n",
        "    return np.sort(signal), np.arange(1, len(signal)+1)/len(signal)\n",
        "\n",
        "def calc_centroid(signal, fs):\n",
        "    \"\"\"Computes the centroid along the time axis.\n",
        "    Feature computational cost: 1\n",
        "    Parameters\n",
        "    ----------\n",
        "    signal : nd-array\n",
        "        Input from which centroid is computed\n",
        "    fs: int\n",
        "        Signal sampling frequency\n",
        "    Returns\n",
        "    -------\n",
        "    float\n",
        "        Temporal centroid\n",
        "    \"\"\"\n",
        "\n",
        "    time = compute_time(signal, fs)\n",
        "\n",
        "    energy = np.array(signal) ** 2\n",
        "\n",
        "    t_energy = np.dot(np.array(time), np.array(energy))\n",
        "    energy_sum = np.sum(energy)\n",
        "\n",
        "    if energy_sum == 0 or t_energy == 0:\n",
        "        centroid = 0\n",
        "    else:\n",
        "        centroid = t_energy / energy_sum\n",
        "\n",
        "    return \n",
        "\n",
        "def compute_time(signal, fs):\n",
        "    \"\"\"Creates the signal correspondent time array.\n",
        "    Parameters\n",
        "    ----------\n",
        "    signal: nd-array\n",
        "        Input from which the time is computed.\n",
        "    fs: int\n",
        "        Sampling Frequency\n",
        "    Returns\n",
        "    -------\n",
        "    time : float list\n",
        "        Signal time\n",
        "    \"\"\"\n",
        "\n",
        "    return np.arange(0, len(signal))/fs\n",
        "\n",
        "def gaussian(features):\n",
        "    \"\"\"Computes the probability density function of the input signal using a Gaussian function\n",
        "    Parameters\n",
        "    ----------\n",
        "    features : nd-array\n",
        "        Input from which probability density function is computed\n",
        "    Returns\n",
        "    -------\n",
        "    nd-array\n",
        "        probability density values\n",
        "    \"\"\"\n",
        "\n",
        "    features_ = np.copy(features)\n",
        "\n",
        "    xx = create_xx(features_)\n",
        "    std_value = np.std(features_)\n",
        "    mean_value = np.mean(features_)\n",
        "\n",
        "    if std_value == 0:\n",
        "        return 0.0\n",
        "    pdf_gauss = scipy.stats.norm.pdf(xx, mean_value, std_value)\n",
        "\n",
        "    return np.array(pdf_gauss / np.sum(pdf_gauss))\n",
        "\n",
        "\n",
        "def calc_ecdf(signal):\n",
        "    \"\"\"Computes the ECDF of the signal.\n",
        "      Parameters\n",
        "      ----------\n",
        "      signal : nd-array\n",
        "          Input from which ECDF is computed\n",
        "      Returns\n",
        "      -------\n",
        "      nd-array\n",
        "        Sorted signal and computed ECDF.\n",
        "      \"\"\"\n",
        "    return np.sort(signal), np.arange(1, len(signal)+1)/len(signal)\n",
        "\n",
        "def positive_turning(signal):\n",
        "    \"\"\"Computes number of positive turning points of the signal.\n",
        "    Feature computational cost: 1\n",
        "    Parameters\n",
        "    ----------\n",
        "    signal : nd-array\n",
        "        Input from which  positive turning points are counted\n",
        "    Returns\n",
        "    -------\n",
        "    float\n",
        "        Number of positive turning points\n",
        "    \"\"\"\n",
        "    diff_sig = np.diff(signal)\n",
        "\n",
        "    array_signal = np.arange(len(diff_sig[:-1]))\n",
        "\n",
        "    positive_turning_pts = np.where((diff_sig[array_signal + 1] < 0) & (diff_sig[array_signal] > 0))[0]\n",
        "\n",
        "    return len(positive_turning_pts)\n",
        "\n",
        "def abs_energy(signal):\n",
        "    \"\"\"Computes the absolute energy of the signal.\n",
        "    Feature computational cost: 1\n",
        "    Parameters\n",
        "    ----------\n",
        "    signal : nd-array\n",
        "        Input from which the area under the curve is computed\n",
        "    Returns\n",
        "    -------\n",
        "    float\n",
        "        Absolute energy\n",
        "    \"\"\"\n",
        "    return np.sum(np.abs(signal) ** 2)\n",
        "\n",
        "def skewness(signal):\n",
        "    \"\"\"Computes skewness of the signal.\n",
        "    Feature computational cost: 1\n",
        "    Parameters\n",
        "    ----------\n",
        "    signal : nd-array\n",
        "        Input from which skewness is computed\n",
        "    Returns\n",
        "    -------\n",
        "    int\n",
        "        Skewness result\n",
        "    \"\"\"\n",
        "    return scipy.stats.skew(signal)\n",
        "\n",
        "def kurtosis(signal):\n",
        "    \"\"\"Computes kurtosis of the signal.\n",
        "    Feature computational cost: 1\n",
        "    Parameters\n",
        "    ----------\n",
        "    signal : nd-array\n",
        "        Input from which kurtosis is computed\n",
        "    Returns\n",
        "    -------\n",
        "    float\n",
        "        Kurtosis result\n",
        "    \"\"\"\n",
        "    return scipy.stats.kurtosis(signal)\n",
        "def negative_turning(signal):\n",
        "    \"\"\"Computes number of negative turning points of the signal.\n",
        "    Feature computational cost: 1\n",
        "    Parameters\n",
        "    ----------\n",
        "    signal : nd-array\n",
        "        Input from which minimum number of negative turning points are counted\n",
        "    Returns\n",
        "    -------\n",
        "    float\n",
        "        Number of negative turning points\n",
        "    \"\"\"\n",
        "    diff_sig = np.diff(signal)\n",
        "    array_signal = np.arange(len(diff_sig[:-1]))\n",
        "    negative_turning_pts = np.where((diff_sig[array_signal] < 0) & (diff_sig[array_signal + 1] > 0))[0]\n",
        "\n",
        "    return len(negative_turning_pts)\n",
        "\n",
        "def mean_diff(signal):\n",
        "    \"\"\"Computes mean of differences of the signal.\n",
        "   Feature computational cost: 1\n",
        "   Parameters\n",
        "   ----------\n",
        "   signal : nd-array\n",
        "       Input from which mean of differences is computed\n",
        "   Returns\n",
        "   -------\n",
        "   float\n",
        "       Mean difference result\n",
        "   \"\"\"\n",
        "    return np.mean(np.diff(signal))\n",
        "\n",
        "def median_abs_diff(signal):\n",
        "    \"\"\"Computes median absolute differences of the signal.\n",
        "   Feature computational cost: 1\n",
        "   Parameters\n",
        "   ----------\n",
        "   signal : nd-array\n",
        "       Input from which median absolute difference is computed\n",
        "   Returns\n",
        "   -------\n",
        "   float\n",
        "       Median absolute difference result\n",
        "   \"\"\"\n",
        "    return np.median(np.abs(np.diff(signal)))\n",
        "\n",
        "def median_diff(signal):\n",
        "    \"\"\"Computes median of differences of the signal.\n",
        "   Feature computational cost: 1\n",
        "   Parameters\n",
        "   ----------\n",
        "   signal : nd-array\n",
        "       Input from which median of differences is computed\n",
        "   Returns\n",
        "   -------\n",
        "   float\n",
        "       Median difference result\n",
        "   \"\"\"\n",
        "    return np.median(np.diff(signal))\n",
        "\n",
        "def total_energy(signal, fs):\n",
        "    \"\"\"Computes the total energy of the signal.\n",
        "    Feature computational cost: 1\n",
        "    Parameters\n",
        "    ----------\n",
        "    signal : nd-array\n",
        "        Signal from which total energy is computed\n",
        "    fs : int\n",
        "        Sampling frequency\n",
        "    Returns\n",
        "    -------\n",
        "    float\n",
        "        Total energy\n",
        "    \"\"\"\n",
        "    time = compute_time(signal, fs)\n",
        "\n",
        "    return np.sum(np.array(signal) ** 2) / (time[-1] - time[0])\n",
        "\n",
        "def distance(signal):\n",
        "    \"\"\"Computes signal traveled distance.\n",
        "    Calculates the total distance traveled by the signal\n",
        "    using the hipotenusa between 2 datapoints.\n",
        "   Feature computational cost: 1\n",
        "    Parameters\n",
        "    ----------\n",
        "    signal : nd-array\n",
        "        Input from which distance is computed\n",
        "    Returns\n",
        "    -------\n",
        "    float\n",
        "        Signal distance\n",
        "    \"\"\"\n",
        "    diff_sig = np.diff(signal).astype(float)\n",
        "    return np.sum([np.sqrt(1 + diff_sig ** 2)])\n",
        "\n",
        "def auc(signal, fs):\n",
        "    \"\"\"Computes the area under the curve of the signal computed with trapezoid rule.\n",
        "    Feature computational cost: 1\n",
        "    Parameters\n",
        "    ----------\n",
        "    signal : nd-array\n",
        "        Input from which the area under the curve is computed\n",
        "    fs : int\n",
        "        Sampling Frequency\n",
        "    Returns\n",
        "    -------\n",
        "    float\n",
        "        The area under the curve value\n",
        "    \"\"\"\n",
        "    t = compute_time(signal, fs)\n",
        "\n",
        "    return np.sum(0.5 * np.diff(t) * np.abs(np.array(signal[:-1]) + np.array(signal[1:])))\n",
        "\n",
        "### Numba not supported :\n",
        "#  skewness, kurtosis, distance, \n",
        "\n",
        "###Not working:\n",
        "# calc_centroid, \n"
      ]
    },
    {
      "cell_type": "markdown",
      "metadata": {
        "id": "ddktLO7SwU_v"
      },
      "source": [
        "#### New Features"
      ]
    },
    {
      "cell_type": "code",
      "execution_count": null,
      "metadata": {
        "id": "PiTulekAwlef"
      },
      "outputs": [],
      "source": [
        "from scipy import signal"
      ]
    },
    {
      "cell_type": "code",
      "execution_count": null,
      "metadata": {
        "id": "NAIt6KT7wXAt"
      },
      "outputs": [],
      "source": [
        "def variance_larger_than_standard_deviation(x):\n",
        "    \"\"\"\n",
        "    Is variance higher than the standard deviation?\n",
        "    Boolean variable denoting if the variance of x is greater than its standard deviation. Is equal to variance of x\n",
        "    being larger than 1\n",
        "    :param x: the time series to calculate the feature of\n",
        "    :type x: numpy.ndarray\n",
        "    :return: the value of this feature\n",
        "    :return type: bool\n",
        "    \"\"\"\n",
        "    y = np.var(x)\n",
        "    return y > np.sqrt(y)\n",
        "\n",
        "def sum_values(x):\n",
        "    \"\"\"\n",
        "    Calculates the sum over the time series values\n",
        "    :param x: the time series to calculate the feature of\n",
        "    :type x: numpy.ndarray\n",
        "    :return: the value of this feature\n",
        "    :return type: float\n",
        "    \"\"\"\n",
        "    if len(x) == 0:\n",
        "        return 0\n",
        "\n",
        "    return np.sum(x)\n",
        "\n",
        "def cid_ce(x, normalize=False):\n",
        "    \"\"\"\n",
        "    This function calculator is an estimate for a time series complexity [1] (A more complex time series has more peaks,\n",
        "    valleys etc.). It calculates the value of\n",
        "    .. math::\n",
        "        \\\\sqrt{ \\\\sum_{i=1}^{n-1} ( x_{i} - x_{i-1})^2 }\n",
        "    .. rubric:: References\n",
        "    |  [1] Batista, Gustavo EAPA, et al (2014).\n",
        "    |  CID: an efficient complexity-invariant distance for time series.\n",
        "    |  Data Mining and Knowledge Discovery 28.3 (2014): 634-669.\n",
        "    :param x: the time series to calculate the feature of\n",
        "    :type x: numpy.ndarray\n",
        "    :param normalize: should the time series be z-transformed?\n",
        "    :type normalize: bool\n",
        "    :return: the value of this feature\n",
        "    :return type: float\n",
        "    \"\"\"\n",
        "    if not isinstance(x, (np.ndarray, pd.Series)):\n",
        "        x = np.asarray(x)\n",
        "    if normalize:\n",
        "        s = np.std(x)\n",
        "        if s != 0:\n",
        "            x = (x - np.mean(x)) / s\n",
        "        else:\n",
        "            return 0.0\n",
        "\n",
        "    x = np.diff(x)\n",
        "    return np.sqrt(np.dot(x, x))\n",
        "\n",
        "def mean_second_derivative_central(x):\n",
        "    \"\"\"\n",
        "    Returns the mean value of a central approximation of the second derivative\n",
        "    .. math::\n",
        "        \\\\frac{1}{2(n-2)} \\\\sum_{i=1,\\\\ldots, n-1}  \\\\frac{1}{2} (x_{i+2} - 2 \\\\cdot x_{i+1} + x_i)\n",
        "    :param x: the time series to calculate the feature of\n",
        "    :type x: numpy.ndarray\n",
        "    :return: the value of this feature\n",
        "    :return type: float\n",
        "    \"\"\"\n",
        "    x = np.asarray(x)\n",
        "    return (x[-1] - x[-2] - x[1] + x[0]) / (2 * (len(x) - 2)) if len(x) > 2 else np.NaN\n",
        "\n",
        "def standard_deviation(x):\n",
        "    \"\"\"\n",
        "    Returns the standard deviation of x\n",
        "    :param x: the time series to calculate the feature of\n",
        "    :type x: numpy.ndarray\n",
        "    :return: the value of this feature\n",
        "    :return type: float\n",
        "    \"\"\"\n",
        "    return np.std(x)\n",
        "\n",
        "def variance(x):\n",
        "    \"\"\"\n",
        "    Returns the variance of x\n",
        "    :param x: the time series to calculate the feature of\n",
        "    :type x: numpy.ndarray\n",
        "    :return: the value of this feature\n",
        "    :return type: float\n",
        "    \"\"\"\n",
        "    return np.var(x)\n",
        "def skewness(x):\n",
        "    \"\"\"\n",
        "    Returns the sample skewness of x (calculated with the adjusted Fisher-Pearson standardized\n",
        "    moment coefficient G1).\n",
        "    :param x: the time series to calculate the feature of\n",
        "    :type x: numpy.ndarray\n",
        "    :return: the value of this feature\n",
        "    :return type: float\n",
        "    \"\"\"\n",
        "    if not isinstance(x, pd.Series):\n",
        "        x = pd.Series(x)\n",
        "    return pd.Series.skew(x)\n",
        "\n",
        "def kurtosis(x):\n",
        "    \"\"\"\n",
        "    Returns the kurtosis of x (calculated with the adjusted Fisher-Pearson standardized\n",
        "    moment coefficient G2).\n",
        "    :param x: the time series to calculate the feature of\n",
        "    :type x: numpy.ndarray\n",
        "    :return: the value of this feature\n",
        "    :return type: float\n",
        "    \"\"\"\n",
        "    if not isinstance(x, pd.Series):\n",
        "        x = pd.Series(x)\n",
        "    return pd.Series.kurtosis(x)\n",
        "\n",
        "def count_above_mean(x):\n",
        "    \"\"\"\n",
        "    Returns the number of values in x that are higher than the mean of x\n",
        "    :param x: the time series to calculate the feature of\n",
        "    :type x: numpy.ndarray\n",
        "    :return: the value of this feature\n",
        "    :return type: float\n",
        "    \"\"\"\n",
        "    m = np.mean(x)\n",
        "    return np.where(x > m)[0].size\n",
        "\n",
        "def count_below_mean(x):\n",
        "    \"\"\"\n",
        "    Returns the number of values in x that are lower than the mean of x\n",
        "    :param x: the time series to calculate the feature of\n",
        "    :type x: numpy.ndarray\n",
        "    :return: the value of this feature\n",
        "    :return type: float\n",
        "    \"\"\"\n",
        "    m = np.mean(x)\n",
        "    return np.where(x < m)[0].size\n",
        "\n",
        "def percentage_of_reoccurring_values_to_all_values(x):\n",
        "    \"\"\"\n",
        "    Returns the percentage of values that are present in the time series\n",
        "    more than once.\n",
        "        len(different values occurring more than once) / len(different values)\n",
        "    This means the percentage is normalized to the number of unique values,\n",
        "    in contrast to the percentage_of_reoccurring_datapoints_to_all_datapoints.\n",
        "    :param x: the time series to calculate the feature of\n",
        "    :type x: numpy.ndarray\n",
        "    :return: the value of this feature\n",
        "    :return type: float\n",
        "    \"\"\"\n",
        "    if len(x) == 0:\n",
        "        return np.nan\n",
        "\n",
        "    unique, counts = np.unique(x, return_counts=True)\n",
        "\n",
        "    if counts.shape[0] == 0:\n",
        "        return 0\n",
        "\n",
        "    return np.sum(counts > 1) / float(counts.shape[0])\n",
        "\n",
        "def ratio_value_number_to_time_series_length(x):\n",
        "    \"\"\"\n",
        "    Returns a factor which is 1 if all values in the time series occur only once,\n",
        "    and below one if this is not the case.\n",
        "    In principle, it just returns\n",
        "        # unique values / # values\n",
        "    :param x: the time series to calculate the feature of\n",
        "    :type x: numpy.ndarray\n",
        "    :return: the value of this feature\n",
        "    :return type: float\n",
        "    \"\"\"\n",
        "    if not isinstance(x, (np.ndarray, pd.Series)):\n",
        "        x = np.asarray(x)\n",
        "    if x.size == 0:\n",
        "        return np.nan\n",
        "\n",
        "    return np.unique(x).size / x.size\n"
      ]
    },
    {
      "cell_type": "code",
      "execution_count": null,
      "metadata": {
        "id": "5xensWikwXDk"
      },
      "outputs": [],
      "source": [
        "### Not working: fft_mean_coeff"
      ]
    },
    {
      "cell_type": "code",
      "execution_count": null,
      "metadata": {
        "id": "uYFgE_DTTvVm"
      },
      "outputs": [],
      "source": [
        "###https://github.com/blue-yonder/tsfresh/blob/main/tsfresh/feature_extraction/feature_calculators.py"
      ]
    },
    {
      "cell_type": "markdown",
      "metadata": {
        "id": "-lyfHC9kyfmt"
      },
      "source": [
        "#### Store Features"
      ]
    },
    {
      "cell_type": "code",
      "execution_count": null,
      "metadata": {
        "id": "tupAkrYTyfmu"
      },
      "outputs": [],
      "source": [
        "y_train_a = y_train_a.reset_index(drop=True)"
      ]
    },
    {
      "cell_type": "code",
      "execution_count": null,
      "metadata": {
        "colab": {
          "base_uri": "https://localhost:8080/"
        },
        "id": "jDvNUmESyfmu",
        "outputId": "26eb777d-5897-45d6-9ec2-f95c9156aedb"
      },
      "outputs": [
        {
          "name": "stdout",
          "output_type": "stream",
          "text": [
            "wiz = FeatureWiz(verbose=1)\n",
            "        X_train_selected = wiz.fit_transform(X_train, y_train)\n",
            "        X_test_selected = wiz.transform(X_test)\n",
            "        wiz.features  ### provides a list of selected features ###            \n",
            "        \n",
            "############################################################################################\n",
            "############       F A S T   F E A T U R E  E N G G    A N D    S E L E C T I O N ! ########\n",
            "# Be judicious with featurewiz. Don't use it to create too many un-interpretable features! #\n",
            "############################################################################################\n",
            "correlation limit = 0.3\n",
            "Skipping feature engineering since no feature_engg input...\n",
            "Skipping category encoding since no category encoders specified in input...\n",
            "#### Single_Label Binary_Classification problem ####\n",
            "    Loaded train data. Shape = (1300365, 47)\n",
            "#### Single_Label Binary_Classification problem ####\n",
            "No test data filename given...\n",
            "Classifying features using a random sample of 10000 rows from dataset...\n",
            "#### Single_Label Binary_Classification problem ####\n",
            "    loading a random sample of 10000 rows into pandas for EDA\n",
            "#######################################################################################\n",
            "######################## C L A S S I F Y I N G  V A R I A B L E S  ####################\n",
            "#######################################################################################\n",
            "        2 variable(s) to be removed since ID or low-information variables\n",
            "    \tvariables removed = ['log_return_7_mean_mean_monthlyvariance_larger_than_standard_deviation4', 'log_return_7_mean_std_monthlyvariance_larger_than_standard_deviation4']\n",
            "train data shape before dropping 2 columns = (1300365, 47)\n",
            "\ttrain data shape after dropping columns = (1300365, 45)\n",
            "    Running SULOV on smaller dataset sample since data size 58 m > 50 m. Continuing ...\n",
            "#######################################################################################\n",
            "#####  Searching for Uncorrelated List Of Variables (SULOV) in 44 features ############\n",
            "#######################################################################################\n",
            "    there are no null values in dataset...\n",
            "    Removing (19) highly correlated variables:\n",
            "    ['accocivariance_larger_than_standard_deviation4', 'delayvariance_larger_than_standard_deviation4', 'evebitvariance_larger_than_standard_deviation4', 'log_volume_pct_mean_monthlyvariance_larger_than_standard_deviation4', 'marketcap_ratiosvariance_larger_than_standard_deviation4', 'ncfcommonvariance_larger_than_standard_deviation4', 'ncffvariance_larger_than_standard_deviation4', 'ncfinvvariance_larger_than_standard_deviation4', 'netinccmnusdvariance_larger_than_standard_deviation4', 'netmarginvariance_larger_than_standard_deviation4', 'pb_ratiosvariance_larger_than_standard_deviation4', 'pe1variance_larger_than_standard_deviation4', 'pe_ratiosvariance_larger_than_standard_deviation4', 'pevariance_larger_than_standard_deviation4', 'return_std_monthlyvariance_larger_than_standard_deviation4', 'sbcompvariance_larger_than_standard_deviation4', 'sharesbasvariance_larger_than_standard_deviation4', 'taxexpvariance_larger_than_standard_deviation4', 'workingcapitalvariance_larger_than_standard_deviation4']\n",
            "    Following (25) vars selected: ['currentratiovariance_larger_than_standard_deviation4', 'divyieldvariance_larger_than_standard_deviation4', 'dpsvariance_larger_than_standard_deviation4', 'grossmarginvariance_larger_than_standard_deviation4', 'log_return_7_std_mean_monthlyvariance_larger_than_standard_deviation4', 'log_return_7_std_std_monthlyvariance_larger_than_standard_deviation4', 'log_return_mean_monthlyvariance_larger_than_standard_deviation4', 'log_volume_pct_7_mean_mean_monthlyvariance_larger_than_standard_deviation4', 'log_volume_pct_7_mean_std_monthlyvariance_larger_than_standard_deviation4', 'log_volume_pct_7_std_mean_monthlyvariance_larger_than_standard_deviation4', 'log_volume_pct_7_std_std_monthlyvariance_larger_than_standard_deviation4', 'log_volume_pct_std_monthlyvariance_larger_than_standard_deviation4', 'netincdisvariance_larger_than_standard_deviation4', 'payoutratiovariance_larger_than_standard_deviation4', 'sharefactorvariance_larger_than_standard_deviation4', 'cashnequsdvariance_larger_than_standard_deviation4', 'ev_ratiosvariance_larger_than_standard_deviation4', 'ncfbusvariance_larger_than_standard_deviation4', 'volume_pct_std_monthlyvariance_larger_than_standard_deviation4', 'deferredrevvariance_larger_than_standard_deviation4', 'evebitdavariance_larger_than_standard_deviation4', 'ncfdivvariance_larger_than_standard_deviation4', 'pricevariance_larger_than_standard_deviation4', 'ps_ratiosvariance_larger_than_standard_deviation4', 'log_return_std_monthlyvariance_larger_than_standard_deviation4']\n",
            "Completed SULOV. 25 features selected\n",
            "Time taken for SULOV method = 2 seconds\n",
            "Finally 25 vars selected after SULOV\n",
            "Converting all features to numeric before sending to XGBoost...\n",
            "#######################################################################################\n",
            "#####    R E C U R S I V E   X G B O O S T : F E A T U R E   S E L E C T I O N  #######\n",
            "#######################################################################################\n",
            "Current number of predictors before recursive XGBoost = 25 \n",
            "Number of booster rounds = 20\n",
            "Regular XGBoost is crashing due to: [04:45:54] /workspace/src/tree/updater_gpu_hist.cu:1407: Exception in gpu_hist: NCCL failure :unhandled cuda error /workspace/src/tree/../common/device_helpers.cuh(896)\n",
            "\n",
            "Stack trace:\n",
            "  [bt] (0) /usr/local/lib/python3.7/dist-packages/xgboost/./lib/libxgboost.so(dmlc::LogMessageFatal::~LogMessageFatal()+0x24) [0x7fed36f54cb4]\n",
            "  [bt] (1) /usr/local/lib/python3.7/dist-packages/xgboost/./lib/libxgboost.so(xgboost::tree::GPUHistMakerSpecialised<xgboost::detail::GradientPairInternal<double> >::Update(xgboost::HostDeviceVector<xgboost::detail::GradientPairInternal<float> >*, xgboost::DMatrix*, std::vector<xgboost::RegTree*, std::allocator<xgboost::RegTree*> > const&)+0x1270) [0x7fed371907f0]\n",
            "  [bt] (2) /usr/local/lib/python3.7/dist-packages/xgboost/./lib/libxgboost.so(xgboost::gbm::GBTree::BoostNewTrees(xgboost::HostDeviceVector<xgboost::detail::GradientPairInternal<float> >*, xgboost::DMatrix*, int, std::vector<std::unique_ptr<xgboost::RegTree, std::default_delete<xgboost::RegTree> >, std::allocator<std::unique_ptr<xgboost::RegTree, std::default_delete<xgboost::RegTree> > > >*)+0xa81) [0x7fed36fda791]\n",
            "  [bt] (3) /usr/local/lib/python3.7/dist-packages/xgboost/./lib/libxgboost.so(xgboost::gbm::GBTree::DoBoost(xgboost::DMatrix*, xgboost::HostDeviceVector<xgboost::detail::GradientPairInternal<float> >*, xgboost::ObjFunction*)+0xd65) [0x7fed36fdbc95]\n",
            "  [bt] (4) /usr/local/lib/python3.7/dist-packages/xgboost/./lib/libxgboost.so(xgboost::LearnerImpl::UpdateOneIter(int, xgboost::DMatrix*)+0x396) [0x7fed36fee556]\n",
            "  [bt] (5) /usr/local/lib/python3.7/dist-packages/xgboost/./lib/libxgboost.so(XGBoosterUpdateOneIter+0x35) [0x7fed36f51aa5]\n",
            "  [bt] (6) /usr/lib/x86_64-linux-gnu/libffi.so.6(ffi_call_unix64+0x4c) [0x7fed6e098dae]\n",
            "  [bt] (7) /usr/lib/x86_64-linux-gnu/libffi.so.6(ffi_call+0x22f) [0x7fed6e09871f]\n",
            "  [bt] (8) /usr/lib/python3.7/lib-dynload/_ctypes.cpython-37m-x86_64-linux-gnu.so(+0xd849) [0x7fed6e2a8849]\n",
            "\n",
            "\n",
            "[04:45:54] /workspace/src/tree/updater_gpu_hist.cu:1407: Exception in gpu_hist: NCCL failure :unhandled cuda error /workspace/src/tree/../common/device_helpers.cuh(896)\n",
            "\n",
            "Stack trace:\n",
            "  [bt] (0) /usr/local/lib/python3.7/dist-packages/xgboost/./lib/libxgboost.so(dmlc::LogMessageFatal::~LogMessageFatal()+0x24) [0x7fed36f54cb4]\n",
            "  [bt] (1) /usr/local/lib/python3.7/dist-packages/xgboost/./lib/libxgboost.so(xgboost::tree::GPUHistMakerSpecialised<xgboost::detail::GradientPairInternal<double> >::Update(xgboost::HostDeviceVector<xgboost::detail::GradientPairInternal<float> >*, xgboost::DMatrix*, std::vector<xgboost::RegTree*, std::allocator<xgboost::RegTree*> > const&)+0x1270) [0x7fed371907f0]\n",
            "  [bt] (2) /usr/local/lib/python3.7/dist-packages/xgboost/./lib/libxgboost.so(xgboost::gbm::GBTree::BoostNewTrees(xgboost::HostDeviceVector<xgboost::detail::GradientPairInternal<float> >*, xgboost::DMatrix*, int, std::vector<std::unique_ptr<xgboost::RegTree, std::default_delete<xgboost::RegTree> >, std::allocator<std::unique_ptr<xgboost::RegTree, std::default_delete<xgboost::RegTree> > > >*)+0xa81) [0x7fed36fda791]\n",
            "  [bt] (3) /usr/local/lib/python3.7/dist-packages/xgboost/./lib/libxgboost.so(xgboost::gbm::GBTree::DoBoost(xgboost::DMatrix*, xgboost::HostDeviceVector<xgboost::detail::GradientPairInternal<float> >*, xgboost::ObjFunction*)+0xd65) [0x7fed36fdbc95]\n",
            "  [bt] (4) /usr/local/lib/python3.7/dist-packages/xgboost/./lib/libxgboost.so(xgboost::LearnerImpl::UpdateOneIter(int, xgboost::DMatrix*)+0x396) [0x7fed36fee556]\n",
            "  [bt] (5) /usr/local/lib/python3.7/dist-packages/xgboost/./lib/libxgboost.so(XGBoosterUpdateOneIter+0x35) [0x7fed36f51aa5]\n",
            "  [bt] (6) /usr/lib/x86_64-linux-gnu/libffi.so.6(ffi_call_unix64+0x4c) [0x7fed6e098dae]\n",
            "  [bt] (7) /usr/lib/x86_64-linux-gnu/libffi.so.6(ffi_call+0x22f) [0x7fed6e09871f]\n",
            "  [bt] (8) /usr/lib/python3.7/lib-dynload/_ctypes.cpython-37m-x86_64-linux-gnu.so(+0xd849) [0x7fed6e2a8849]\n",
            "\n",
            "\n",
            "Regular XGBoost is crashing due to Invalid Parameter format for gpu_id expect int but value='None'. Returning with currently selected features...\n",
            "    Completed XGBoost feature selection in 1 seconds\n",
            "#######################################################################################\n",
            "#####          F E A T U R E   S E L E C T I O N   C O M P L E T E D            #######\n",
            "#######################################################################################\n",
            "Selected 25 important features:\n",
            "['currentratiovariance_larger_than_standard_deviation4', 'divyieldvariance_larger_than_standard_deviation4', 'dpsvariance_larger_than_standard_deviation4', 'grossmarginvariance_larger_than_standard_deviation4', 'log_return_7_std_mean_monthlyvariance_larger_than_standard_deviation4', 'log_return_7_std_std_monthlyvariance_larger_than_standard_deviation4', 'log_return_mean_monthlyvariance_larger_than_standard_deviation4', 'log_volume_pct_7_mean_mean_monthlyvariance_larger_than_standard_deviation4', 'log_volume_pct_7_mean_std_monthlyvariance_larger_than_standard_deviation4', 'log_volume_pct_7_std_mean_monthlyvariance_larger_than_standard_deviation4', 'log_volume_pct_7_std_std_monthlyvariance_larger_than_standard_deviation4', 'log_volume_pct_std_monthlyvariance_larger_than_standard_deviation4', 'netincdisvariance_larger_than_standard_deviation4', 'payoutratiovariance_larger_than_standard_deviation4', 'sharefactorvariance_larger_than_standard_deviation4', 'cashnequsdvariance_larger_than_standard_deviation4', 'ev_ratiosvariance_larger_than_standard_deviation4', 'ncfbusvariance_larger_than_standard_deviation4', 'volume_pct_std_monthlyvariance_larger_than_standard_deviation4', 'deferredrevvariance_larger_than_standard_deviation4', 'evebitdavariance_larger_than_standard_deviation4', 'ncfdivvariance_larger_than_standard_deviation4', 'pricevariance_larger_than_standard_deviation4', 'ps_ratiosvariance_larger_than_standard_deviation4', 'log_return_std_monthlyvariance_larger_than_standard_deviation4']\n",
            "Total Time taken for featurewiz selection = 3 seconds\n",
            "Output contains a list of 25 important features and a train dataframe\n",
            "    Time taken to create entire pipeline = 13 second(s)\n"
          ]
        }
      ],
      "source": [
        "#functs = ['zero_cross','mean','abs_energy','pk_pk_distance','mean_diff']\n",
        "#functions = [zero_cross,np.mean,abs_energy,pk_pk_distance,mean_diff]\n",
        "#functs =    ['count_above_mean','ratio_value_number_to_time_series_length','mean_second_derivative_central']\n",
        "#functions = [count_above_mean,ratio_value_number_to_time_series_length,mean_second_derivative_central]\n",
        "functs = ['variance_larger_than_standard_deviation','zero_cross','mean','abs_energy','pk_pk_distance','mean_diff']\n",
        "functions = [variance_larger_than_standard_deviation,zero_cross,np.mean,abs_energy,pk_pk_distance,mean_diff]\n",
        "\n",
        "\n",
        "res = []\n",
        "windows = [4]\n",
        "for window in windows:\n",
        "  for i in range(len(functs)):\n",
        "    try:\n",
        "      X = X_train_a.groupby('ticker').rolling(window).apply(functions[i],engine='numba',raw=True).add_suffix(\"{}\".format(functs[i]+str(window)))\n",
        "    except:\n",
        "      X = X_train_a.groupby('ticker').rolling(window).apply(functions[i]).add_suffix(\"{}\".format(functs[i]))\n",
        "    X = X.reset_index(drop=True)\n",
        "    features = FeatureWiz(corr_limit=0.30, feature_engg='', category_encoders='',dask_xgboost_flag=False, nrows=None, verbose=0)\n",
        "    X = features.fit_transform(X,y_train_a)\n",
        "    res.append(X)"
      ]
    },
    {
      "cell_type": "code",
      "execution_count": null,
      "metadata": {
        "id": "yiOrhIhC9ZNM"
      },
      "outputs": [],
      "source": []
    },
    {
      "cell_type": "markdown",
      "metadata": {
        "id": "eOLThRnzyfmu"
      },
      "source": [
        "#### Append the results"
      ]
    },
    {
      "cell_type": "code",
      "execution_count": null,
      "metadata": {
        "id": "OLHrDyvFyfmu"
      },
      "outputs": [],
      "source": [
        "res.append(X_train_a)"
      ]
    },
    {
      "cell_type": "code",
      "execution_count": null,
      "metadata": {
        "id": "RByU0Phsyfmu"
      },
      "outputs": [],
      "source": [
        "from functools import reduce\n",
        "df = reduce(lambda x, y: x.join(y), res)"
      ]
    },
    {
      "cell_type": "code",
      "execution_count": null,
      "metadata": {
        "id": "Um39IeaVyfmu"
      },
      "outputs": [],
      "source": [
        "del res\n",
        "del X_train_a"
      ]
    },
    {
      "cell_type": "code",
      "execution_count": null,
      "metadata": {
        "id": "Ux_DS3Lp74uv"
      },
      "outputs": [],
      "source": [
        "#df = df2.copy()\n",
        "#del df2"
      ]
    },
    {
      "cell_type": "code",
      "execution_count": null,
      "metadata": {
        "colab": {
          "base_uri": "https://localhost:8080/"
        },
        "id": "vxQmztOByfmu",
        "outputId": "204bde55-56bb-4d81-96df-b4a2b9c882fd"
      },
      "outputs": [
        {
          "data": {
            "text/plain": [
              "(1300365, 72)"
            ]
          },
          "execution_count": 102,
          "metadata": {},
          "output_type": "execute_result"
        }
      ],
      "source": [
        "df.shape"
      ]
    },
    {
      "cell_type": "code",
      "execution_count": null,
      "metadata": {
        "colab": {
          "base_uri": "https://localhost:8080/"
        },
        "id": "Uv0nRrsUyfmv",
        "outputId": "2cda94d0-830a-46fb-e2a4-35550fdb60d7"
      },
      "outputs": [
        {
          "name": "stdout",
          "output_type": "stream",
          "text": [
            "wiz = FeatureWiz(verbose=1)\n",
            "        X_train_selected = wiz.fit_transform(X_train, y_train)\n",
            "        X_test_selected = wiz.transform(X_test)\n",
            "        wiz.features  ### provides a list of selected features ###            \n",
            "        \n",
            "############################################################################################\n",
            "############       F A S T   F E A T U R E  E N G G    A N D    S E L E C T I O N ! ########\n",
            "# Be judicious with featurewiz. Don't use it to create too many un-interpretable features! #\n",
            "############################################################################################\n",
            "correlation limit = 0.6\n",
            "Skipping feature engineering since no feature_engg input...\n",
            "Skipping category encoding since no category encoders specified in input...\n",
            "#### Single_Label Binary_Classification problem ####\n",
            "    Caution: We will try to reduce the memory usage of dataframe from 488.62 MB\n",
            "        memory usage after optimization is: 564.26 MB\n",
            "        decreased by -15.5%\n",
            "    Loaded train data. Shape = (1300365, 73)\n",
            "#### Single_Label Binary_Classification problem ####\n",
            "No test data filename given...\n",
            "Classifying features using a random sample of 10000 rows from dataset...\n",
            "#### Single_Label Binary_Classification problem ####\n",
            "    loading a random sample of 10000 rows into pandas for EDA\n",
            "#######################################################################################\n",
            "######################## C L A S S I F Y I N G  V A R I A B L E S  ####################\n",
            "#######################################################################################\n",
            "        52 variable(s) to be removed since ID or low-information variables\n",
            "    \tmore than 52 variables to be removed; too many to print...\n",
            "train data shape before dropping 52 columns = (1300365, 73)\n",
            "\ttrain data shape after dropping columns = (1300365, 21)\n",
            "#######################################################################################\n",
            "#####  Searching for Uncorrelated List Of Variables (SULOV) in 20 features ############\n",
            "#######################################################################################\n",
            "    there are no null values in dataset...\n",
            "    Removing (1) highly correlated variables:\n",
            "    ['log_volume_pct_std_monthlyvariance_larger_than_standard_deviation4']\n",
            "    Following (19) vars selected: ['cashnequsdvariance_larger_than_standard_deviation4', 'currentratiovariance_larger_than_standard_deviation4', 'deferredrevvariance_larger_than_standard_deviation4', 'divyieldvariance_larger_than_standard_deviation4', 'dpsvariance_larger_than_standard_deviation4', 'ev_ratiosvariance_larger_than_standard_deviation4', 'evebitdavariance_larger_than_standard_deviation4', 'grossmarginvariance_larger_than_standard_deviation4', 'log_return_mean_monthlyvariance_larger_than_standard_deviation4', 'log_return_std_monthlyvariance_larger_than_standard_deviation4', 'log_volume_pct_7_std_mean_monthlyvariance_larger_than_standard_deviation4', 'log_volume_pct_7_std_std_monthlyvariance_larger_than_standard_deviation4', 'ncfbusvariance_larger_than_standard_deviation4', 'ncfdivvariance_larger_than_standard_deviation4', 'netincdisvariance_larger_than_standard_deviation4', 'payoutratiovariance_larger_than_standard_deviation4', 'pricevariance_larger_than_standard_deviation4', 'ps_ratiosvariance_larger_than_standard_deviation4', 'volume_pct_std_monthlyvariance_larger_than_standard_deviation4']\n",
            "Completed SULOV. 19 features selected\n",
            "Time taken for SULOV method = 33 seconds\n",
            "Finally 19 vars selected after SULOV\n",
            "Converting all features to numeric before sending to XGBoost...\n",
            "#######################################################################################\n",
            "#####    R E C U R S I V E   X G B O O S T : F E A T U R E   S E L E C T I O N  #######\n",
            "#######################################################################################\n",
            "Current number of predictors before recursive XGBoost = 19 \n",
            "Number of booster rounds = 20\n",
            "Regular XGBoost is crashing due to: [04:46:46] /workspace/src/tree/updater_gpu_hist.cu:1407: Exception in gpu_hist: NCCL failure :unhandled cuda error /workspace/src/tree/../common/device_helpers.cuh(896)\n",
            "\n",
            "Stack trace:\n",
            "  [bt] (0) /usr/local/lib/python3.7/dist-packages/xgboost/./lib/libxgboost.so(dmlc::LogMessageFatal::~LogMessageFatal()+0x24) [0x7fed36f54cb4]\n",
            "  [bt] (1) /usr/local/lib/python3.7/dist-packages/xgboost/./lib/libxgboost.so(xgboost::tree::GPUHistMakerSpecialised<xgboost::detail::GradientPairInternal<double> >::Update(xgboost::HostDeviceVector<xgboost::detail::GradientPairInternal<float> >*, xgboost::DMatrix*, std::vector<xgboost::RegTree*, std::allocator<xgboost::RegTree*> > const&)+0x1270) [0x7fed371907f0]\n",
            "  [bt] (2) /usr/local/lib/python3.7/dist-packages/xgboost/./lib/libxgboost.so(xgboost::gbm::GBTree::BoostNewTrees(xgboost::HostDeviceVector<xgboost::detail::GradientPairInternal<float> >*, xgboost::DMatrix*, int, std::vector<std::unique_ptr<xgboost::RegTree, std::default_delete<xgboost::RegTree> >, std::allocator<std::unique_ptr<xgboost::RegTree, std::default_delete<xgboost::RegTree> > > >*)+0xa81) [0x7fed36fda791]\n",
            "  [bt] (3) /usr/local/lib/python3.7/dist-packages/xgboost/./lib/libxgboost.so(xgboost::gbm::GBTree::DoBoost(xgboost::DMatrix*, xgboost::HostDeviceVector<xgboost::detail::GradientPairInternal<float> >*, xgboost::ObjFunction*)+0xd65) [0x7fed36fdbc95]\n",
            "  [bt] (4) /usr/local/lib/python3.7/dist-packages/xgboost/./lib/libxgboost.so(xgboost::LearnerImpl::UpdateOneIter(int, xgboost::DMatrix*)+0x396) [0x7fed36fee556]\n",
            "  [bt] (5) /usr/local/lib/python3.7/dist-packages/xgboost/./lib/libxgboost.so(XGBoosterUpdateOneIter+0x35) [0x7fed36f51aa5]\n",
            "  [bt] (6) /usr/lib/x86_64-linux-gnu/libffi.so.6(ffi_call_unix64+0x4c) [0x7fed6e098dae]\n",
            "  [bt] (7) /usr/lib/x86_64-linux-gnu/libffi.so.6(ffi_call+0x22f) [0x7fed6e09871f]\n",
            "  [bt] (8) /usr/lib/python3.7/lib-dynload/_ctypes.cpython-37m-x86_64-linux-gnu.so(+0xd849) [0x7fed6e2a8849]\n",
            "\n",
            "\n",
            "[04:46:46] /workspace/src/tree/updater_gpu_hist.cu:1407: Exception in gpu_hist: NCCL failure :unhandled cuda error /workspace/src/tree/../common/device_helpers.cuh(896)\n",
            "\n",
            "Stack trace:\n",
            "  [bt] (0) /usr/local/lib/python3.7/dist-packages/xgboost/./lib/libxgboost.so(dmlc::LogMessageFatal::~LogMessageFatal()+0x24) [0x7fed36f54cb4]\n",
            "  [bt] (1) /usr/local/lib/python3.7/dist-packages/xgboost/./lib/libxgboost.so(xgboost::tree::GPUHistMakerSpecialised<xgboost::detail::GradientPairInternal<double> >::Update(xgboost::HostDeviceVector<xgboost::detail::GradientPairInternal<float> >*, xgboost::DMatrix*, std::vector<xgboost::RegTree*, std::allocator<xgboost::RegTree*> > const&)+0x1270) [0x7fed371907f0]\n",
            "  [bt] (2) /usr/local/lib/python3.7/dist-packages/xgboost/./lib/libxgboost.so(xgboost::gbm::GBTree::BoostNewTrees(xgboost::HostDeviceVector<xgboost::detail::GradientPairInternal<float> >*, xgboost::DMatrix*, int, std::vector<std::unique_ptr<xgboost::RegTree, std::default_delete<xgboost::RegTree> >, std::allocator<std::unique_ptr<xgboost::RegTree, std::default_delete<xgboost::RegTree> > > >*)+0xa81) [0x7fed36fda791]\n",
            "  [bt] (3) /usr/local/lib/python3.7/dist-packages/xgboost/./lib/libxgboost.so(xgboost::gbm::GBTree::DoBoost(xgboost::DMatrix*, xgboost::HostDeviceVector<xgboost::detail::GradientPairInternal<float> >*, xgboost::ObjFunction*)+0xd65) [0x7fed36fdbc95]\n",
            "  [bt] (4) /usr/local/lib/python3.7/dist-packages/xgboost/./lib/libxgboost.so(xgboost::LearnerImpl::UpdateOneIter(int, xgboost::DMatrix*)+0x396) [0x7fed36fee556]\n",
            "  [bt] (5) /usr/local/lib/python3.7/dist-packages/xgboost/./lib/libxgboost.so(XGBoosterUpdateOneIter+0x35) [0x7fed36f51aa5]\n",
            "  [bt] (6) /usr/lib/x86_64-linux-gnu/libffi.so.6(ffi_call_unix64+0x4c) [0x7fed6e098dae]\n",
            "  [bt] (7) /usr/lib/x86_64-linux-gnu/libffi.so.6(ffi_call+0x22f) [0x7fed6e09871f]\n",
            "  [bt] (8) /usr/lib/python3.7/lib-dynload/_ctypes.cpython-37m-x86_64-linux-gnu.so(+0xd849) [0x7fed6e2a8849]\n",
            "\n",
            "\n",
            "Regular XGBoost is crashing due to Invalid Parameter format for gpu_id expect int but value='None'. Returning with currently selected features...\n",
            "    Completed XGBoost feature selection in 0 seconds\n",
            "#######################################################################################\n",
            "#####          F E A T U R E   S E L E C T I O N   C O M P L E T E D            #######\n",
            "#######################################################################################\n",
            "Selected 19 important features:\n",
            "['cashnequsdvariance_larger_than_standard_deviation4', 'currentratiovariance_larger_than_standard_deviation4', 'deferredrevvariance_larger_than_standard_deviation4', 'divyieldvariance_larger_than_standard_deviation4', 'dpsvariance_larger_than_standard_deviation4', 'ev_ratiosvariance_larger_than_standard_deviation4', 'evebitdavariance_larger_than_standard_deviation4', 'grossmarginvariance_larger_than_standard_deviation4', 'log_return_mean_monthlyvariance_larger_than_standard_deviation4', 'log_return_std_monthlyvariance_larger_than_standard_deviation4', 'log_volume_pct_7_std_mean_monthlyvariance_larger_than_standard_deviation4', 'log_volume_pct_7_std_std_monthlyvariance_larger_than_standard_deviation4', 'ncfbusvariance_larger_than_standard_deviation4', 'ncfdivvariance_larger_than_standard_deviation4', 'netincdisvariance_larger_than_standard_deviation4', 'payoutratiovariance_larger_than_standard_deviation4', 'pricevariance_larger_than_standard_deviation4', 'ps_ratiosvariance_larger_than_standard_deviation4', 'volume_pct_std_monthlyvariance_larger_than_standard_deviation4']\n",
            "Total Time taken for featurewiz selection = 34 seconds\n",
            "Output contains a list of 19 important features and a train dataframe\n",
            "    Time taken to create entire pipeline = 48 second(s)\n"
          ]
        }
      ],
      "source": [
        "### Feature Selection at each stage to reduce data size\n",
        "features = FeatureWiz(corr_limit=0.60, feature_engg='', category_encoders='',dask_xgboost_flag=False, nrows=None, verbose=0)\n",
        "df = features.fit_transform(df,y_train_a)\n"
      ]
    },
    {
      "cell_type": "code",
      "execution_count": null,
      "metadata": {
        "colab": {
          "base_uri": "https://localhost:8080/"
        },
        "id": "Sa3NKNHuyfmv",
        "outputId": "066a2499-a6a9-49f6-e854-cd30a8b67fdd"
      },
      "outputs": [
        {
          "data": {
            "text/plain": [
              "(1300365, 19)"
            ]
          },
          "execution_count": 104,
          "metadata": {},
          "output_type": "execute_result"
        }
      ],
      "source": [
        "df.shape"
      ]
    },
    {
      "cell_type": "markdown",
      "metadata": {
        "id": "JUKnPMBSyfmv"
      },
      "source": [
        "#### Training Preparations"
      ]
    },
    {
      "cell_type": "code",
      "execution_count": null,
      "metadata": {
        "id": "8E-1eXcQ6IJE"
      },
      "outputs": [],
      "source": [
        "#df2 = df.copy()"
      ]
    },
    {
      "cell_type": "code",
      "execution_count": null,
      "metadata": {
        "id": "Z3jbpdNk5ofi"
      },
      "outputs": [],
      "source": [
        "y_train_a = y_train_a.reset_index(drop=True)"
      ]
    },
    {
      "cell_type": "code",
      "execution_count": null,
      "metadata": {
        "id": "nLejzCAgyfmv"
      },
      "outputs": [],
      "source": [
        "df['target'] = y_train_a['target']\n"
      ]
    },
    {
      "cell_type": "code",
      "execution_count": null,
      "metadata": {
        "id": "MC0s4S6W6G3W"
      },
      "outputs": [],
      "source": [
        "df = df.dropna(axis=0)\n",
        "df = df.reset_index(drop=True)"
      ]
    },
    {
      "cell_type": "code",
      "execution_count": null,
      "metadata": {
        "id": "AIwzYocWyfmv"
      },
      "outputs": [],
      "source": [
        "y = df['target']\n",
        "df = df.drop(['target'],axis=1)\n"
      ]
    },
    {
      "cell_type": "code",
      "execution_count": null,
      "metadata": {
        "colab": {
          "base_uri": "https://localhost:8080/"
        },
        "id": "9Su9r-OL5fq1",
        "outputId": "0f7b886b-46be-405d-fbae-1274dcb10d3b"
      },
      "outputs": [
        {
          "data": {
            "text/plain": [
              "(1266867, 19)"
            ]
          },
          "execution_count": 110,
          "metadata": {},
          "output_type": "execute_result"
        }
      ],
      "source": [
        "df.shape"
      ]
    },
    {
      "cell_type": "code",
      "execution_count": null,
      "metadata": {
        "colab": {
          "base_uri": "https://localhost:8080/"
        },
        "id": "gApt0JPz_Xnn",
        "outputId": "fcca5968-0bea-4579-d9c2-6fd5b8075bde"
      },
      "outputs": [
        {
          "name": "stdout",
          "output_type": "stream",
          "text": [
            "Mem. usage decreased to 45.91 Mb (75.0% reduction)\n"
          ]
        }
      ],
      "source": [
        "#del df2\n",
        "df2 = reduce_mem_usage(df, verbose=True)"
      ]
    },
    {
      "cell_type": "code",
      "execution_count": null,
      "metadata": {
        "colab": {
          "base_uri": "https://localhost:8080/"
        },
        "id": "hspSooJL_4FH",
        "outputId": "72a59ab1-e248-41cf-902f-f0d4d3ee6250"
      },
      "outputs": [
        {
          "data": {
            "text/plain": [
              "(1266867, 19)"
            ]
          },
          "execution_count": 112,
          "metadata": {},
          "output_type": "execute_result"
        }
      ],
      "source": [
        "df2.shape"
      ]
    },
    {
      "cell_type": "code",
      "execution_count": null,
      "metadata": {
        "id": "p16Ofkk-_58o"
      },
      "outputs": [],
      "source": [
        "del df"
      ]
    },
    {
      "cell_type": "code",
      "execution_count": null,
      "metadata": {
        "id": "p90NLl-0BavN"
      },
      "outputs": [],
      "source": []
    },
    {
      "cell_type": "code",
      "execution_count": null,
      "metadata": {
        "id": "D37N70uFyfmv"
      },
      "outputs": [],
      "source": [
        "#sm = SMOTE(random_state=42)\n",
        "#df, y = sm.fit_resample(df, y)\n",
        "df_train, df_test, y_train, y_test = train_test_split(df2, y, test_size=0.33, shuffle=False, random_state=42)"
      ]
    },
    {
      "cell_type": "code",
      "execution_count": null,
      "metadata": {
        "id": "4oqzxasByfmw"
      },
      "outputs": [],
      "source": [
        "###Model training and testing\n",
        "#clf = LGBMClassifier()\n",
        "#clf.fit(df_train, y_train)"
      ]
    },
    {
      "cell_type": "code",
      "execution_count": null,
      "metadata": {
        "colab": {
          "base_uri": "https://localhost:8080/"
        },
        "id": "K1hj_EsRCHdh",
        "outputId": "dfabfbf4-791a-46a8-c811-6e36a7f41611"
      },
      "outputs": [
        {
          "data": {
            "text/plain": [
              "LGBMClassifier()"
            ]
          },
          "execution_count": 116,
          "metadata": {},
          "output_type": "execute_result"
        }
      ],
      "source": [
        "###https://www.kaggle.com/code/mlisovyi/lighgbm-hyperoptimisation-with-f1-macro/notebook\n",
        "clf = LGBMClassifier()\n",
        "clf.fit(df_train, y_train)"
      ]
    },
    {
      "cell_type": "markdown",
      "metadata": {
        "id": "Ttq0zpTiyfmx"
      },
      "source": [
        "####Evaluations"
      ]
    },
    {
      "cell_type": "code",
      "execution_count": null,
      "metadata": {
        "id": "flBWoZ4byfmy"
      },
      "outputs": [],
      "source": [
        "### Perform the prediction and compute the scores\n",
        "ypred = clf.predict(df_test)\n",
        "accuracyscore = accuracy_score(ypred,y_test)\n",
        "f1score = f1_score(ypred,y_test)\n",
        "cnfscore = confusion_matrix(ypred,y_test)\n",
        "roc_score = roc_auc_score(ypred,y_test)"
      ]
    },
    {
      "cell_type": "code",
      "execution_count": null,
      "metadata": {
        "colab": {
          "base_uri": "https://localhost:8080/"
        },
        "id": "ywKAPNGYyfmy",
        "outputId": "b6c941f2-430f-4ea6-af31-b79118c3555e"
      },
      "outputs": [
        {
          "name": "stdout",
          "output_type": "stream",
          "text": [
            "Accuracy  0.9794697979032069\n",
            "F1 Score  0.0\n",
            "[[409484   8577]\n",
            " [     6      0]]\n",
            "Baseline roc_auc score 0.490\n"
          ]
        }
      ],
      "source": [
        "### Print the Results\n",
        "print(\"Accuracy \",accuracyscore)\n",
        "print(\"F1 Score \",f1score)\n",
        "print(cnfscore)\n",
        "print(\"Baseline roc_auc score {:.3f}\".format(roc_score))"
      ]
    },
    {
      "cell_type": "code",
      "execution_count": null,
      "metadata": {
        "id": "NoVabacrerna"
      },
      "outputs": [],
      "source": [
        "##### Smote predictions\n",
        "#from imblearn.over_sampling import ADASYN \n",
        "#ada = ADASYN(random_state=42)\n",
        "#df_train_res, y_train_res = ada.fit_resample(df_train, y_train)\n",
        "# clf2 = LGBMClassifier()\n",
        "# clf2.fit(df_train_res, y_train_res)\n",
        "# ypred = clf2.predict(df_test)\n",
        "# accuracyscore = accuracy_score(ypred,y_test)\n",
        "# f1score = f1_score(ypred,y_test)\n",
        "# cnfscore = confusion_matrix(ypred,y_test)\n",
        "# roc_score = roc_auc_score(ypred,y_test)\n",
        "# ### Print the Results\n",
        "# print(\"Accuracy \",accuracyscore)\n",
        "# print(\"F1 Score \",f1score)\n",
        "# print(cnfscore)\n",
        "# print(\"Baseline roc_auc score {:.3f}\".format(roc_score))"
      ]
    },
    {
      "cell_type": "markdown",
      "metadata": {
        "id": "kHtcaxrIOBxm"
      },
      "source": [
        "**Performance Scores**\n",
        "1. Baseline +np.mean (4,8,12) = 0.544\n",
        "2. Baseline +np.mean(4,8,12) + Adasyn = 0.546"
      ]
    },
    {
      "cell_type": "code",
      "execution_count": null,
      "metadata": {
        "id": "uRkKUpBJOFRo"
      },
      "outputs": [],
      "source": []
    },
    {
      "cell_type": "code",
      "execution_count": null,
      "metadata": {
        "id": "JSuJOolIF72A"
      },
      "outputs": [],
      "source": []
    },
    {
      "cell_type": "markdown",
      "metadata": {
        "id": "O5_N96lxF8Km"
      },
      "source": [
        "### B. Feature Addition - 2 -:Active"
      ]
    },
    {
      "cell_type": "markdown",
      "metadata": {
        "id": "SlSNwWqpF_Ze"
      },
      "source": [
        "#### Data Download"
      ]
    },
    {
      "cell_type": "code",
      "execution_count": 11,
      "metadata": {
        "id": "ZEhFmG7OF_Ze"
      },
      "outputs": [],
      "source": [
        "X_train_a = pd.read_parquet(\"https://storage.googleapis.com/public-quant/bankrupt_2022/X_train_1.park\")\n",
        "knowledge = pd.read_parquet(\"https://storage.googleapis.com/public-quant/bankrupt_2022/knowledge.park\")\n",
        "y_train_a = pd.read_parquet(\"https://storage.googleapis.com/public-quant/bankrupt_2022/y_train_1.park\")"
      ]
    },
    {
      "cell_type": "code",
      "execution_count": 12,
      "metadata": {
        "id": "2tO7dCjXF_Zf"
      },
      "outputs": [],
      "source": [
        "def reduce_mem_usage(df, verbose=True):\n",
        "    numerics = ['int16', 'int32', 'int64', 'float16', 'float32', 'float64']\n",
        "    start_mem = df.memory_usage().sum() / 1024**2    \n",
        "    for col in df.columns:\n",
        "        col_type = df[col].dtypes\n",
        "        if col_type in numerics:\n",
        "            c_min = df[col].min()\n",
        "            c_max = df[col].max()\n",
        "            if str(col_type)[:3] == 'int':\n",
        "                if c_min > np.iinfo(np.int8).min and c_max < np.iinfo(np.int8).max:\n",
        "                    df[col] = df[col].astype(np.int8)\n",
        "                elif c_min > np.iinfo(np.int16).min and c_max < np.iinfo(np.int16).max:\n",
        "                    df[col] = df[col].astype(np.int16)\n",
        "                elif c_min > np.iinfo(np.int32).min and c_max < np.iinfo(np.int32).max:\n",
        "                    df[col] = df[col].astype(np.int32)\n",
        "                elif c_min > np.iinfo(np.int64).min and c_max < np.iinfo(np.int64).max:\n",
        "                    df[col] = df[col].astype(np.int64)  \n",
        "            else:\n",
        "                if c_min > np.finfo(np.float16).min and c_max < np.finfo(np.float16).max:\n",
        "                    df[col] = df[col].astype(np.float16)\n",
        "                elif c_min > np.finfo(np.float32).min and c_max < np.finfo(np.float32).max:\n",
        "                    df[col] = df[col].astype(np.float32)\n",
        "                else:\n",
        "                    df[col] = df[col].astype(np.float64)    \n",
        "    end_mem = df.memory_usage().sum() / 1024**2\n",
        "    if verbose: print('Mem. usage decreased to {:5.2f} Mb ({:.1f}% reduction)'.format(end_mem, 100 * (start_mem - end_mem) / start_mem))\n",
        "    return df"
      ]
    },
    {
      "cell_type": "code",
      "execution_count": 13,
      "metadata": {
        "colab": {
          "base_uri": "https://localhost:8080/"
        },
        "id": "E6WtjuBQF_Zf",
        "outputId": "c4002a4c-991e-4b00-c512-0e9bb20145f0"
      },
      "outputs": [
        {
          "output_type": "stream",
          "name": "stdout",
          "text": [
            "Mem. usage decreased to 555.58 Mb (54.1% reduction)\n"
          ]
        }
      ],
      "source": [
        "df = reduce_mem_usage(X_train_a, verbose=True)"
      ]
    },
    {
      "cell_type": "code",
      "execution_count": 14,
      "metadata": {
        "colab": {
          "base_uri": "https://localhost:8080/"
        },
        "id": "V83TX0nYF_Zg",
        "outputId": "c241908c-f70f-40c4-bae3-2e42cf66ff90"
      },
      "outputs": [
        {
          "output_type": "execute_result",
          "data": {
            "text/plain": [
              "(1300365, 121)"
            ]
          },
          "metadata": {},
          "execution_count": 14
        }
      ],
      "source": [
        "df.shape"
      ]
    },
    {
      "cell_type": "code",
      "execution_count": 15,
      "metadata": {
        "colab": {
          "base_uri": "https://localhost:8080/"
        },
        "id": "AUs_8hthF_Zg",
        "outputId": "5917be14-08e7-4b66-a427-afb0b94b13a0"
      },
      "outputs": [
        {
          "output_type": "stream",
          "name": "stdout",
          "text": [
            "wiz = FeatureWiz(verbose=1)\n",
            "        X_train_selected = wiz.fit_transform(X_train, y_train)\n",
            "        X_test_selected = wiz.transform(X_test)\n",
            "        wiz.features  ### provides a list of selected features ###            \n",
            "        \n",
            "############################################################################################\n",
            "############       F A S T   F E A T U R E  E N G G    A N D    S E L E C T I O N ! ########\n",
            "# Be judicious with featurewiz. Don't use it to create too many un-interpretable features! #\n",
            "############################################################################################\n",
            "correlation limit = 0.6\n",
            "Skipping feature engineering since no feature_engg input...\n",
            "Skipping category encoding since no category encoders specified in input...\n",
            "#### Single_Label Binary_Classification problem ####\n",
            "    Caution: We will try to reduce the memory usage of dataframe from 565.50 MB\n",
            "        memory usage after optimization is: 558.06 MB\n",
            "        decreased by 1.3%\n",
            "    Loaded train data. Shape = (1300365, 122)\n",
            "#### Single_Label Binary_Classification problem ####\n",
            "No test data filename given...\n",
            "Classifying features using a random sample of 10000 rows from dataset...\n",
            "#### Single_Label Binary_Classification problem ####\n",
            "    loading a random sample of 10000 rows into pandas for EDA\n",
            "#######################################################################################\n",
            "######################## C L A S S I F Y I N G  V A R I A B L E S  ####################\n",
            "#######################################################################################\n",
            "        No variables were removed since no ID or low-information variables found in data set\n",
            "    Running SULOV on smaller dataset sample since data size 158 m > 50 m. Continuing ...\n",
            "#######################################################################################\n",
            "#####  Searching for Uncorrelated List Of Variables (SULOV) in 121 features ############\n",
            "#######################################################################################\n",
            "    there are no null values in dataset...\n",
            "    Removing (75) highly correlated variables:\n",
            "Completed SULOV. 46 features selected\n",
            "Time taken for SULOV method = 5 seconds\n",
            "Finally 46 vars selected after SULOV\n",
            "Converting all features to numeric before sending to XGBoost...\n",
            "#######################################################################################\n",
            "#####    R E C U R S I V E   X G B O O S T : F E A T U R E   S E L E C T I O N  #######\n",
            "#######################################################################################\n",
            "Current number of predictors before recursive XGBoost = 46 \n",
            "Number of booster rounds = 20\n",
            "Regular XGBoost is crashing due to: [16:13:02] /workspace/src/tree/updater_gpu_hist.cu:1407: Exception in gpu_hist: NCCL failure :unhandled cuda error /workspace/src/tree/../common/device_helpers.cuh(896)\n",
            "\n",
            "Stack trace:\n",
            "  [bt] (0) /usr/local/lib/python3.7/dist-packages/xgboost/./lib/libxgboost.so(dmlc::LogMessageFatal::~LogMessageFatal()+0x24) [0x7f63b8b42cb4]\n",
            "  [bt] (1) /usr/local/lib/python3.7/dist-packages/xgboost/./lib/libxgboost.so(xgboost::tree::GPUHistMakerSpecialised<xgboost::detail::GradientPairInternal<double> >::Update(xgboost::HostDeviceVector<xgboost::detail::GradientPairInternal<float> >*, xgboost::DMatrix*, std::vector<xgboost::RegTree*, std::allocator<xgboost::RegTree*> > const&)+0x1270) [0x7f63b8d7e7f0]\n",
            "  [bt] (2) /usr/local/lib/python3.7/dist-packages/xgboost/./lib/libxgboost.so(xgboost::gbm::GBTree::BoostNewTrees(xgboost::HostDeviceVector<xgboost::detail::GradientPairInternal<float> >*, xgboost::DMatrix*, int, std::vector<std::unique_ptr<xgboost::RegTree, std::default_delete<xgboost::RegTree> >, std::allocator<std::unique_ptr<xgboost::RegTree, std::default_delete<xgboost::RegTree> > > >*)+0xa81) [0x7f63b8bc8791]\n",
            "  [bt] (3) /usr/local/lib/python3.7/dist-packages/xgboost/./lib/libxgboost.so(xgboost::gbm::GBTree::DoBoost(xgboost::DMatrix*, xgboost::HostDeviceVector<xgboost::detail::GradientPairInternal<float> >*, xgboost::ObjFunction*)+0xd65) [0x7f63b8bc9c95]\n",
            "  [bt] (4) /usr/local/lib/python3.7/dist-packages/xgboost/./lib/libxgboost.so(xgboost::LearnerImpl::UpdateOneIter(int, xgboost::DMatrix*)+0x396) [0x7f63b8bdc556]\n",
            "  [bt] (5) /usr/local/lib/python3.7/dist-packages/xgboost/./lib/libxgboost.so(XGBoosterUpdateOneIter+0x35) [0x7f63b8b3faa5]\n",
            "  [bt] (6) /usr/lib/x86_64-linux-gnu/libffi.so.6(ffi_call_unix64+0x4c) [0x7f63ef1c3dae]\n",
            "  [bt] (7) /usr/lib/x86_64-linux-gnu/libffi.so.6(ffi_call+0x22f) [0x7f63ef1c371f]\n",
            "  [bt] (8) /usr/lib/python3.7/lib-dynload/_ctypes.cpython-37m-x86_64-linux-gnu.so(+0xd849) [0x7f63ef3d3849]\n",
            "\n",
            "\n",
            "[16:13:02] /workspace/src/tree/updater_gpu_hist.cu:1407: Exception in gpu_hist: NCCL failure :unhandled cuda error /workspace/src/tree/../common/device_helpers.cuh(896)\n",
            "\n",
            "Stack trace:\n",
            "  [bt] (0) /usr/local/lib/python3.7/dist-packages/xgboost/./lib/libxgboost.so(dmlc::LogMessageFatal::~LogMessageFatal()+0x24) [0x7f63b8b42cb4]\n",
            "  [bt] (1) /usr/local/lib/python3.7/dist-packages/xgboost/./lib/libxgboost.so(xgboost::tree::GPUHistMakerSpecialised<xgboost::detail::GradientPairInternal<double> >::Update(xgboost::HostDeviceVector<xgboost::detail::GradientPairInternal<float> >*, xgboost::DMatrix*, std::vector<xgboost::RegTree*, std::allocator<xgboost::RegTree*> > const&)+0x1270) [0x7f63b8d7e7f0]\n",
            "  [bt] (2) /usr/local/lib/python3.7/dist-packages/xgboost/./lib/libxgboost.so(xgboost::gbm::GBTree::BoostNewTrees(xgboost::HostDeviceVector<xgboost::detail::GradientPairInternal<float> >*, xgboost::DMatrix*, int, std::vector<std::unique_ptr<xgboost::RegTree, std::default_delete<xgboost::RegTree> >, std::allocator<std::unique_ptr<xgboost::RegTree, std::default_delete<xgboost::RegTree> > > >*)+0xa81) [0x7f63b8bc8791]\n",
            "  [bt] (3) /usr/local/lib/python3.7/dist-packages/xgboost/./lib/libxgboost.so(xgboost::gbm::GBTree::DoBoost(xgboost::DMatrix*, xgboost::HostDeviceVector<xgboost::detail::GradientPairInternal<float> >*, xgboost::ObjFunction*)+0xd65) [0x7f63b8bc9c95]\n",
            "  [bt] (4) /usr/local/lib/python3.7/dist-packages/xgboost/./lib/libxgboost.so(xgboost::LearnerImpl::UpdateOneIter(int, xgboost::DMatrix*)+0x396) [0x7f63b8bdc556]\n",
            "  [bt] (5) /usr/local/lib/python3.7/dist-packages/xgboost/./lib/libxgboost.so(XGBoosterUpdateOneIter+0x35) [0x7f63b8b3faa5]\n",
            "  [bt] (6) /usr/lib/x86_64-linux-gnu/libffi.so.6(ffi_call_unix64+0x4c) [0x7f63ef1c3dae]\n",
            "  [bt] (7) /usr/lib/x86_64-linux-gnu/libffi.so.6(ffi_call+0x22f) [0x7f63ef1c371f]\n",
            "  [bt] (8) /usr/lib/python3.7/lib-dynload/_ctypes.cpython-37m-x86_64-linux-gnu.so(+0xd849) [0x7f63ef3d3849]\n",
            "\n",
            "\n",
            "Regular XGBoost is crashing due to Invalid Parameter format for gpu_id expect int but value='None'. Returning with currently selected features...\n",
            "    Completed XGBoost feature selection in 1 seconds\n",
            "#######################################################################################\n",
            "#####          F E A T U R E   S E L E C T I O N   C O M P L E T E D            #######\n",
            "#######################################################################################\n",
            "Selected 46 important features. Too many to print...\n",
            "Total Time taken for featurewiz selection = 7 seconds\n",
            "Output contains a list of 46 important features and a train dataframe\n",
            "    Time taken to create entire pipeline = 24 second(s)\n"
          ]
        }
      ],
      "source": [
        "\n",
        "#X_train_a[\"ticker\"] = knowledge[\"ticker\"]\n",
        "#X_train_a[\"date\"] = knowledge[\"date\"]\n",
        "#X_train_a = X_train_a.sort_values(by=['date'])\n",
        "#y_train_a = y_train_a.reset_index(drop=True)\n",
        "#X_train_a = X_train_a.drop(['date'],axis=1)\n",
        "X_train_a = X_train_a.select_dtypes(include=['float64','int64'])\n",
        "\n",
        "\n",
        "#X_train_a[\"ticker\"] = knowledge[\"ticker\"]\n",
        "features = FeatureWiz(corr_limit=0.60, feature_engg='', category_encoders='',dask_xgboost_flag=False, nrows=None, verbose=0)\n",
        "X_train_a = features.fit_transform(df,y_train_a)\n",
        "\n"
      ]
    },
    {
      "cell_type": "code",
      "execution_count": 16,
      "metadata": {
        "colab": {
          "base_uri": "https://localhost:8080/"
        },
        "id": "gdM3cfJ5F_Zh",
        "outputId": "712d10f1-6715-4660-c80e-46e7028f1398"
      },
      "outputs": [
        {
          "output_type": "execute_result",
          "data": {
            "text/plain": [
              "(1300365, 46)"
            ]
          },
          "metadata": {},
          "execution_count": 16
        }
      ],
      "source": [
        "X_train_a.shape"
      ]
    },
    {
      "cell_type": "code",
      "execution_count": 17,
      "metadata": {
        "id": "AefTbhf_F_Zh"
      },
      "outputs": [],
      "source": [
        "del df"
      ]
    },
    {
      "cell_type": "code",
      "execution_count": 18,
      "metadata": {
        "id": "N74L3mvwF_Zh"
      },
      "outputs": [],
      "source": [
        "X_train_a[\"ticker\"] = knowledge[\"ticker\"]"
      ]
    },
    {
      "cell_type": "markdown",
      "metadata": {
        "id": "r2wE_xd6F_Zi"
      },
      "source": [
        "#### Feature Generation Functions"
      ]
    },
    {
      "cell_type": "code",
      "execution_count": 19,
      "metadata": {
        "id": "aRHOLFrDF_Zi"
      },
      "outputs": [],
      "source": [
        "\n",
        "def pk_pk_distance(signal):\n",
        "    \"\"\"Computes the peak to peak distance.\n",
        "    Feature computational cost: 1\n",
        "    Parameters\n",
        "    ----------\n",
        "    signal : nd-array\n",
        "        Input from which the area under the curve is computed\n",
        "    Returns\n",
        "    -------\n",
        "    float\n",
        "        peak to peak distance\n",
        "    \"\"\"\n",
        "    return np.abs(np.max(signal) - np.min(signal))\n",
        "    #return [np.abs(np.max(signal) - np.min(signal))]*len(signal)\n",
        "\n",
        "def median_abs_diff(signal):\n",
        "    \"\"\"Computes median absolute differences of the signal.\n",
        "   Feature computational cost: 1\n",
        "   Parameters\n",
        "   ----------\n",
        "   signal : nd-array\n",
        "       Input from which median absolute difference is computed\n",
        "   Returns\n",
        "   -------\n",
        "   float\n",
        "       Median absolute difference result\n",
        "   \"\"\"\n",
        "    return np.median(np.abs(np.diff(signal)))\n",
        "\n",
        "def slope(signal):\n",
        "    \"\"\"Computes the slope of the signal.\n",
        "    Slope is computed by fitting a linear equation to the observed data.\n",
        "    Feature computational cost: 1\n",
        "    Parameters\n",
        "    ----------\n",
        "    signal : nd-array\n",
        "        Input from which linear equation is computed\n",
        "    Returns\n",
        "    -------\n",
        "    float\n",
        "        Slope\n",
        "    \"\"\"\n",
        "    t = np.linspace(0, len(signal) - 1, len(signal))\n",
        "  \n",
        "    return np.polyfit(t, signal, 1)[0]\n",
        "\n",
        "def distance(signal):\n",
        "    \"\"\"Computes signal traveled distance.\n",
        "    Calculates the total distance traveled by the signal\n",
        "    using the hipotenusa between 2 datapoints.\n",
        "   Feature computational cost: 1\n",
        "    Parameters\n",
        "    ----------\n",
        "    signal : nd-array\n",
        "        Input from which distance is computed\n",
        "    Returns\n",
        "    -------\n",
        "    float\n",
        "        Signal distance\n",
        "    \"\"\"\n",
        "    diff_sig = np.diff(signal).astype(float)\n",
        "    return np.sum([np.sqrt(1 + diff_sig ** 2)])\n",
        "\n",
        "def zero_cross(signal):\n",
        "    \"\"\"Computes Zero-crossing rate of the signal.\n",
        "    Corresponds to the total number of times that the signal changes from\n",
        "    positive to negative or vice versa.\n",
        "    Feature computational cost: 1\n",
        "    Parameters\n",
        "    ----------\n",
        "    signal : nd-array\n",
        "        Input from which the zero-crossing rate are computed\n",
        "    Returns\n",
        "    -------\n",
        "    int\n",
        "        Number of times that signal value cross the zero axis\n",
        "    \"\"\"\n",
        "    return len(np.where(np.diff(np.sign(signal)))[0])\n",
        "\n",
        "\n",
        "def autocorr_norm(signal):\n",
        "    \"\"\"Computes the autocorrelation.\n",
        "    Implementation details and description in:\n",
        "    https://ccrma.stanford.edu/~orchi/Documents/speaker_recognition_report.pdf\n",
        "    Parameters\n",
        "    ----------\n",
        "    signal : nd-array\n",
        "        Input from linear prediction coefficients are computed\n",
        "    Returns\n",
        "    -------\n",
        "    nd-array\n",
        "        Autocorrelation result\n",
        "    \"\"\"\n",
        "\n",
        "    variance = np.var(signal)\n",
        "    signal = np.copy(signal - signal.mean())\n",
        "    r = scipy.signal.correlate(signal, signal)[-len(signal):]\n",
        "\n",
        "    if (signal == 0).all():\n",
        "        return np.zeros(len(signal))\n",
        "\n",
        "    acf = r / variance / len(signal)\n",
        "\n",
        "    return acf\n",
        "\n",
        "def create_xx(features):\n",
        "    \"\"\"Computes the range of features amplitude for the probability density function calculus.\n",
        "    Parameters\n",
        "    ----------\n",
        "    features : nd-array\n",
        "        Input features\n",
        "    Returns\n",
        "    -------\n",
        "    nd-array\n",
        "        range of features amplitude\n",
        "    \"\"\"\n",
        "\n",
        "    features_ = np.copy(features)\n",
        "\n",
        "    if max(features_) < 0:\n",
        "        max_f = - max(features_)\n",
        "        min_f = min(features_)\n",
        "    else:\n",
        "        min_f = min(features_)\n",
        "        max_f = max(features_)\n",
        "\n",
        "    if min(features_) == max(features_):\n",
        "        xx = np.linspace(min_f, min_f + 10, len(features_))\n",
        "    else:\n",
        "        xx = np.linspace(min_f, max_f, len(features_))\n",
        "\n",
        "    return xx\n",
        "\n",
        "def kde(features):\n",
        "    \"\"\"Computes the probability density function of the input signal using a Gaussian KDE (Kernel Density Estimate)\n",
        "    Parameters\n",
        "    ----------\n",
        "    features : nd-array\n",
        "        Input from which probability density function is computed\n",
        "    Returns\n",
        "    -------\n",
        "    nd-array\n",
        "        probability density values\n",
        "    \"\"\"\n",
        "    features_ = np.copy(features)\n",
        "    xx = create_xx(features_)\n",
        "\n",
        "    if min(features_) == max(features_):\n",
        "        noise = np.random.randn(len(features_)) * 0.0001\n",
        "        features_ = np.copy(features_ + noise)\n",
        "\n",
        "    kernel = scipy.stats.gaussian_kde(features_, bw_method='silverman')\n",
        "\n",
        "    return np.array(kernel(xx) / np.sum(kernel(xx)))\n",
        "\n",
        "def calc_ecdf(signal):\n",
        "    \"\"\"Computes the ECDF of the signal.\n",
        "      Parameters\n",
        "      ----------\n",
        "      signal : nd-array\n",
        "          Input from which ECDF is computed\n",
        "      Returns\n",
        "      -------\n",
        "      nd-array\n",
        "        Sorted signal and computed ECDF.\n",
        "      \"\"\"\n",
        "    return np.sort(signal), np.arange(1, len(signal)+1)/len(signal)\n",
        "\n",
        "def calc_centroid(signal, fs):\n",
        "    \"\"\"Computes the centroid along the time axis.\n",
        "    Feature computational cost: 1\n",
        "    Parameters\n",
        "    ----------\n",
        "    signal : nd-array\n",
        "        Input from which centroid is computed\n",
        "    fs: int\n",
        "        Signal sampling frequency\n",
        "    Returns\n",
        "    -------\n",
        "    float\n",
        "        Temporal centroid\n",
        "    \"\"\"\n",
        "\n",
        "    time = compute_time(signal, fs)\n",
        "\n",
        "    energy = np.array(signal) ** 2\n",
        "\n",
        "    t_energy = np.dot(np.array(time), np.array(energy))\n",
        "    energy_sum = np.sum(energy)\n",
        "\n",
        "    if energy_sum == 0 or t_energy == 0:\n",
        "        centroid = 0\n",
        "    else:\n",
        "        centroid = t_energy / energy_sum\n",
        "\n",
        "    return \n",
        "\n",
        "def compute_time(signal, fs):\n",
        "    \"\"\"Creates the signal correspondent time array.\n",
        "    Parameters\n",
        "    ----------\n",
        "    signal: nd-array\n",
        "        Input from which the time is computed.\n",
        "    fs: int\n",
        "        Sampling Frequency\n",
        "    Returns\n",
        "    -------\n",
        "    time : float list\n",
        "        Signal time\n",
        "    \"\"\"\n",
        "\n",
        "    return np.arange(0, len(signal))/fs\n",
        "\n",
        "def gaussian(features):\n",
        "    \"\"\"Computes the probability density function of the input signal using a Gaussian function\n",
        "    Parameters\n",
        "    ----------\n",
        "    features : nd-array\n",
        "        Input from which probability density function is computed\n",
        "    Returns\n",
        "    -------\n",
        "    nd-array\n",
        "        probability density values\n",
        "    \"\"\"\n",
        "\n",
        "    features_ = np.copy(features)\n",
        "\n",
        "    xx = create_xx(features_)\n",
        "    std_value = np.std(features_)\n",
        "    mean_value = np.mean(features_)\n",
        "\n",
        "    if std_value == 0:\n",
        "        return 0.0\n",
        "    pdf_gauss = scipy.stats.norm.pdf(xx, mean_value, std_value)\n",
        "\n",
        "    return np.array(pdf_gauss / np.sum(pdf_gauss))\n",
        "\n",
        "\n",
        "def calc_ecdf(signal):\n",
        "    \"\"\"Computes the ECDF of the signal.\n",
        "      Parameters\n",
        "      ----------\n",
        "      signal : nd-array\n",
        "          Input from which ECDF is computed\n",
        "      Returns\n",
        "      -------\n",
        "      nd-array\n",
        "        Sorted signal and computed ECDF.\n",
        "      \"\"\"\n",
        "    return np.sort(signal), np.arange(1, len(signal)+1)/len(signal)\n",
        "\n",
        "def positive_turning(signal):\n",
        "    \"\"\"Computes number of positive turning points of the signal.\n",
        "    Feature computational cost: 1\n",
        "    Parameters\n",
        "    ----------\n",
        "    signal : nd-array\n",
        "        Input from which  positive turning points are counted\n",
        "    Returns\n",
        "    -------\n",
        "    float\n",
        "        Number of positive turning points\n",
        "    \"\"\"\n",
        "    diff_sig = np.diff(signal)\n",
        "\n",
        "    array_signal = np.arange(len(diff_sig[:-1]))\n",
        "\n",
        "    positive_turning_pts = np.where((diff_sig[array_signal + 1] < 0) & (diff_sig[array_signal] > 0))[0]\n",
        "\n",
        "    return len(positive_turning_pts)\n",
        "\n",
        "def abs_energy(signal):\n",
        "    \"\"\"Computes the absolute energy of the signal.\n",
        "    Feature computational cost: 1\n",
        "    Parameters\n",
        "    ----------\n",
        "    signal : nd-array\n",
        "        Input from which the area under the curve is computed\n",
        "    Returns\n",
        "    -------\n",
        "    float\n",
        "        Absolute energy\n",
        "    \"\"\"\n",
        "    return np.sum(np.abs(signal) ** 2)\n",
        "\n",
        "def skewness(signal):\n",
        "    \"\"\"Computes skewness of the signal.\n",
        "    Feature computational cost: 1\n",
        "    Parameters\n",
        "    ----------\n",
        "    signal : nd-array\n",
        "        Input from which skewness is computed\n",
        "    Returns\n",
        "    -------\n",
        "    int\n",
        "        Skewness result\n",
        "    \"\"\"\n",
        "    return scipy.stats.skew(signal)\n",
        "\n",
        "def kurtosis(signal):\n",
        "    \"\"\"Computes kurtosis of the signal.\n",
        "    Feature computational cost: 1\n",
        "    Parameters\n",
        "    ----------\n",
        "    signal : nd-array\n",
        "        Input from which kurtosis is computed\n",
        "    Returns\n",
        "    -------\n",
        "    float\n",
        "        Kurtosis result\n",
        "    \"\"\"\n",
        "    return scipy.stats.kurtosis(signal)\n",
        "def negative_turning(signal):\n",
        "    \"\"\"Computes number of negative turning points of the signal.\n",
        "    Feature computational cost: 1\n",
        "    Parameters\n",
        "    ----------\n",
        "    signal : nd-array\n",
        "        Input from which minimum number of negative turning points are counted\n",
        "    Returns\n",
        "    -------\n",
        "    float\n",
        "        Number of negative turning points\n",
        "    \"\"\"\n",
        "    diff_sig = np.diff(signal)\n",
        "    array_signal = np.arange(len(diff_sig[:-1]))\n",
        "    negative_turning_pts = np.where((diff_sig[array_signal] < 0) & (diff_sig[array_signal + 1] > 0))[0]\n",
        "\n",
        "    return len(negative_turning_pts)\n",
        "\n",
        "def mean_diff(signal):\n",
        "    \"\"\"Computes mean of differences of the signal.\n",
        "   Feature computational cost: 1\n",
        "   Parameters\n",
        "   ----------\n",
        "   signal : nd-array\n",
        "       Input from which mean of differences is computed\n",
        "   Returns\n",
        "   -------\n",
        "   float\n",
        "       Mean difference result\n",
        "   \"\"\"\n",
        "    return np.mean(np.diff(signal))\n",
        "\n",
        "def median_abs_diff(signal):\n",
        "    \"\"\"Computes median absolute differences of the signal.\n",
        "   Feature computational cost: 1\n",
        "   Parameters\n",
        "   ----------\n",
        "   signal : nd-array\n",
        "       Input from which median absolute difference is computed\n",
        "   Returns\n",
        "   -------\n",
        "   float\n",
        "       Median absolute difference result\n",
        "   \"\"\"\n",
        "    return np.median(np.abs(np.diff(signal)))\n",
        "\n",
        "def median_diff(signal):\n",
        "    \"\"\"Computes median of differences of the signal.\n",
        "   Feature computational cost: 1\n",
        "   Parameters\n",
        "   ----------\n",
        "   signal : nd-array\n",
        "       Input from which median of differences is computed\n",
        "   Returns\n",
        "   -------\n",
        "   float\n",
        "       Median difference result\n",
        "   \"\"\"\n",
        "    return np.median(np.diff(signal))\n",
        "\n",
        "def total_energy(signal, fs):\n",
        "    \"\"\"Computes the total energy of the signal.\n",
        "    Feature computational cost: 1\n",
        "    Parameters\n",
        "    ----------\n",
        "    signal : nd-array\n",
        "        Signal from which total energy is computed\n",
        "    fs : int\n",
        "        Sampling frequency\n",
        "    Returns\n",
        "    -------\n",
        "    float\n",
        "        Total energy\n",
        "    \"\"\"\n",
        "    time = compute_time(signal, fs)\n",
        "\n",
        "    return np.sum(np.array(signal) ** 2) / (time[-1] - time[0])\n",
        "\n",
        "def distance(signal):\n",
        "    \"\"\"Computes signal traveled distance.\n",
        "    Calculates the total distance traveled by the signal\n",
        "    using the hipotenusa between 2 datapoints.\n",
        "   Feature computational cost: 1\n",
        "    Parameters\n",
        "    ----------\n",
        "    signal : nd-array\n",
        "        Input from which distance is computed\n",
        "    Returns\n",
        "    -------\n",
        "    float\n",
        "        Signal distance\n",
        "    \"\"\"\n",
        "    diff_sig = np.diff(signal).astype(float)\n",
        "    return np.sum([np.sqrt(1 + diff_sig ** 2)])\n",
        "\n",
        "def auc(signal, fs):\n",
        "    \"\"\"Computes the area under the curve of the signal computed with trapezoid rule.\n",
        "    Feature computational cost: 1\n",
        "    Parameters\n",
        "    ----------\n",
        "    signal : nd-array\n",
        "        Input from which the area under the curve is computed\n",
        "    fs : int\n",
        "        Sampling Frequency\n",
        "    Returns\n",
        "    -------\n",
        "    float\n",
        "        The area under the curve value\n",
        "    \"\"\"\n",
        "    t = compute_time(signal, fs)\n",
        "\n",
        "    return np.sum(0.5 * np.diff(t) * np.abs(np.array(signal[:-1]) + np.array(signal[1:])))\n",
        "\n",
        "### Numba not supported :\n",
        "#  skewness, kurtosis, distance, \n",
        "\n",
        "###Not working:\n",
        "# calc_centroid, \n"
      ]
    },
    {
      "cell_type": "markdown",
      "metadata": {
        "id": "8FbB_CSbF_Zk"
      },
      "source": [
        "#### New Features"
      ]
    },
    {
      "cell_type": "code",
      "execution_count": 20,
      "metadata": {
        "id": "GX-ZYWdJF_Zk"
      },
      "outputs": [],
      "source": [
        "from scipy import signal"
      ]
    },
    {
      "cell_type": "code",
      "execution_count": 21,
      "metadata": {
        "id": "Tva52NZqF_Zk"
      },
      "outputs": [],
      "source": [
        "def variance_larger_than_standard_deviation(x):\n",
        "    \"\"\"\n",
        "    Is variance higher than the standard deviation?\n",
        "    Boolean variable denoting if the variance of x is greater than its standard deviation. Is equal to variance of x\n",
        "    being larger than 1\n",
        "    :param x: the time series to calculate the feature of\n",
        "    :type x: numpy.ndarray\n",
        "    :return: the value of this feature\n",
        "    :return type: bool\n",
        "    \"\"\"\n",
        "    y = np.var(x)\n",
        "    return y > np.sqrt(y)\n",
        "\n",
        "def sum_values(x):\n",
        "    \"\"\"\n",
        "    Calculates the sum over the time series values\n",
        "    :param x: the time series to calculate the feature of\n",
        "    :type x: numpy.ndarray\n",
        "    :return: the value of this feature\n",
        "    :return type: float\n",
        "    \"\"\"\n",
        "    if len(x) == 0:\n",
        "        return 0\n",
        "\n",
        "    return np.sum(x)\n",
        "\n",
        "def cid_ce(x, normalize=False):\n",
        "    \"\"\"\n",
        "    This function calculator is an estimate for a time series complexity [1] (A more complex time series has more peaks,\n",
        "    valleys etc.). It calculates the value of\n",
        "    .. math::\n",
        "        \\\\sqrt{ \\\\sum_{i=1}^{n-1} ( x_{i} - x_{i-1})^2 }\n",
        "    .. rubric:: References\n",
        "    |  [1] Batista, Gustavo EAPA, et al (2014).\n",
        "    |  CID: an efficient complexity-invariant distance for time series.\n",
        "    |  Data Mining and Knowledge Discovery 28.3 (2014): 634-669.\n",
        "    :param x: the time series to calculate the feature of\n",
        "    :type x: numpy.ndarray\n",
        "    :param normalize: should the time series be z-transformed?\n",
        "    :type normalize: bool\n",
        "    :return: the value of this feature\n",
        "    :return type: float\n",
        "    \"\"\"\n",
        "    if not isinstance(x, (np.ndarray, pd.Series)):\n",
        "        x = np.asarray(x)\n",
        "    if normalize:\n",
        "        s = np.std(x)\n",
        "        if s != 0:\n",
        "            x = (x - np.mean(x)) / s\n",
        "        else:\n",
        "            return 0.0\n",
        "\n",
        "    x = np.diff(x)\n",
        "    return np.sqrt(np.dot(x, x))\n",
        "\n",
        "def mean_second_derivative_central(x):\n",
        "    \"\"\"\n",
        "    Returns the mean value of a central approximation of the second derivative\n",
        "    .. math::\n",
        "        \\\\frac{1}{2(n-2)} \\\\sum_{i=1,\\\\ldots, n-1}  \\\\frac{1}{2} (x_{i+2} - 2 \\\\cdot x_{i+1} + x_i)\n",
        "    :param x: the time series to calculate the feature of\n",
        "    :type x: numpy.ndarray\n",
        "    :return: the value of this feature\n",
        "    :return type: float\n",
        "    \"\"\"\n",
        "    x = np.asarray(x)\n",
        "    return (x[-1] - x[-2] - x[1] + x[0]) / (2 * (len(x) - 2)) if len(x) > 2 else np.NaN\n",
        "\n",
        "def standard_deviation(x):\n",
        "    \"\"\"\n",
        "    Returns the standard deviation of x\n",
        "    :param x: the time series to calculate the feature of\n",
        "    :type x: numpy.ndarray\n",
        "    :return: the value of this feature\n",
        "    :return type: float\n",
        "    \"\"\"\n",
        "    return np.std(x)\n",
        "\n",
        "def variance(x):\n",
        "    \"\"\"\n",
        "    Returns the variance of x\n",
        "    :param x: the time series to calculate the feature of\n",
        "    :type x: numpy.ndarray\n",
        "    :return: the value of this feature\n",
        "    :return type: float\n",
        "    \"\"\"\n",
        "    return np.var(x)\n",
        "def skewness(x):\n",
        "    \"\"\"\n",
        "    Returns the sample skewness of x (calculated with the adjusted Fisher-Pearson standardized\n",
        "    moment coefficient G1).\n",
        "    :param x: the time series to calculate the feature of\n",
        "    :type x: numpy.ndarray\n",
        "    :return: the value of this feature\n",
        "    :return type: float\n",
        "    \"\"\"\n",
        "    if not isinstance(x, pd.Series):\n",
        "        x = pd.Series(x)\n",
        "    return pd.Series.skew(x)\n",
        "\n",
        "def kurtosis(x):\n",
        "    \"\"\"\n",
        "    Returns the kurtosis of x (calculated with the adjusted Fisher-Pearson standardized\n",
        "    moment coefficient G2).\n",
        "    :param x: the time series to calculate the feature of\n",
        "    :type x: numpy.ndarray\n",
        "    :return: the value of this feature\n",
        "    :return type: float\n",
        "    \"\"\"\n",
        "    if not isinstance(x, pd.Series):\n",
        "        x = pd.Series(x)\n",
        "    return pd.Series.kurtosis(x)\n",
        "\n",
        "def count_above_mean(x):\n",
        "    \"\"\"\n",
        "    Returns the number of values in x that are higher than the mean of x\n",
        "    :param x: the time series to calculate the feature of\n",
        "    :type x: numpy.ndarray\n",
        "    :return: the value of this feature\n",
        "    :return type: float\n",
        "    \"\"\"\n",
        "    m = np.mean(x)\n",
        "    return np.where(x > m)[0].size\n",
        "\n",
        "def count_below_mean(x):\n",
        "    \"\"\"\n",
        "    Returns the number of values in x that are lower than the mean of x\n",
        "    :param x: the time series to calculate the feature of\n",
        "    :type x: numpy.ndarray\n",
        "    :return: the value of this feature\n",
        "    :return type: float\n",
        "    \"\"\"\n",
        "    m = np.mean(x)\n",
        "    return np.where(x < m)[0].size\n",
        "\n",
        "def percentage_of_reoccurring_values_to_all_values(x):\n",
        "    \"\"\"\n",
        "    Returns the percentage of values that are present in the time series\n",
        "    more than once.\n",
        "        len(different values occurring more than once) / len(different values)\n",
        "    This means the percentage is normalized to the number of unique values,\n",
        "    in contrast to the percentage_of_reoccurring_datapoints_to_all_datapoints.\n",
        "    :param x: the time series to calculate the feature of\n",
        "    :type x: numpy.ndarray\n",
        "    :return: the value of this feature\n",
        "    :return type: float\n",
        "    \"\"\"\n",
        "    if len(x) == 0:\n",
        "        return np.nan\n",
        "\n",
        "    unique, counts = np.unique(x, return_counts=True)\n",
        "\n",
        "    if counts.shape[0] == 0:\n",
        "        return 0\n",
        "\n",
        "    return np.sum(counts > 1) / float(counts.shape[0])\n",
        "\n",
        "def ratio_value_number_to_time_series_length(x):\n",
        "    \"\"\"\n",
        "    Returns a factor which is 1 if all values in the time series occur only once,\n",
        "    and below one if this is not the case.\n",
        "    In principle, it just returns\n",
        "        # unique values / # values\n",
        "    :param x: the time series to calculate the feature of\n",
        "    :type x: numpy.ndarray\n",
        "    :return: the value of this feature\n",
        "    :return type: float\n",
        "    \"\"\"\n",
        "    if not isinstance(x, (np.ndarray, pd.Series)):\n",
        "        x = np.asarray(x)\n",
        "    if x.size == 0:\n",
        "        return np.nan\n",
        "\n",
        "    return np.unique(x).size / x.size\n",
        "\n",
        "def ratio_beyond_r_sigma(x, r=1.61):\n",
        "    \"\"\"\n",
        "    Ratio of values that are more than r * std(x) (so r times sigma) away from the mean of x.\n",
        "    :param x: the time series to calculate the feature of\n",
        "    :type x: iterable\n",
        "    :param r: the ratio to compare with\n",
        "    :type r: float\n",
        "    :return: the value of this feature\n",
        "    :return type: float\n",
        "    \"\"\"\n",
        "    if not isinstance(x, (np.ndarray, pd.Series)):\n",
        "        x = np.asarray(x)\n",
        "    return np.sum(np.abs(x - np.mean(x)) > r * np.std(x)) / x.size\n",
        "\n",
        "def has_duplicate_min(x):\n",
        "    \"\"\"\n",
        "    Checks if the minimal value of x is observed more than once\n",
        "    :param x: the time series to calculate the feature of\n",
        "    :type x: numpy.ndarray\n",
        "    :return: the value of this feature\n",
        "    :return type: bool\n",
        "    \"\"\"\n",
        "    if not isinstance(x, (np.ndarray, pd.Series)):\n",
        "        x = np.asarray(x)\n",
        "    return np.sum(x == np.min(x)) >= 2\n",
        "\n",
        "def first_location_of_maximum(x):\n",
        "    \"\"\"\n",
        "    Returns the first location of the maximum value of x.\n",
        "    The position is calculated relatively to the length of x.\n",
        "    :param x: the time series to calculate the feature of\n",
        "    :type x: numpy.ndarray\n",
        "    :return: the value of this feature\n",
        "    :return type: float\n",
        "    \"\"\"\n",
        "    if not isinstance(x, (np.ndarray, pd.Series)):\n",
        "        x = np.asarray(x)\n",
        "    return np.argmax(x) / len(x) if len(x) > 0 else np.NaN\n",
        "\n",
        "def sum_of_reoccurring_values(x):\n",
        "    \"\"\"\n",
        "    Returns the sum of all values, that are present in the time series\n",
        "    more than once.\n",
        "    For example\n",
        "        sum_of_reoccurring_values([2, 2, 2, 2, 1]) = 2\n",
        "    as 2 is a reoccurring value, so it is summed up with all\n",
        "    other reoccuring values (there is none), so the result is 2.\n",
        "    This is in contrast to ``sum_of_reoccurring_data_points``,\n",
        "    where each reoccuring value is only counted as often as\n",
        "    it is present in the data.\n",
        "    :param x: the time series to calculate the feature of\n",
        "    :type x: numpy.ndarray\n",
        "    :return: the value of this feature\n",
        "    :return type: float\n",
        "    \"\"\"\n",
        "    unique, counts = np.unique(x, return_counts=True)\n",
        "    counts[counts < 2] = 0\n",
        "    counts[counts > 1] = 1\n",
        "    return np.sum(counts * unique)\n",
        "\n",
        "def binned_entropy(x, max_bins=3):\n",
        "    \"\"\"\n",
        "    First bins the values of x into max_bins equidistant bins.\n",
        "    Then calculates the value of\n",
        "    .. math::\n",
        "        - \\\\sum_{k=0}^{min(max\\\\_bins, len(x))} p_k log(p_k) \\\\cdot \\\\mathbf{1}_{(p_k > 0)}\n",
        "    where :math:`p_k` is the percentage of samples in bin :math:`k`.\n",
        "    :param x: the time series to calculate the feature of\n",
        "    :type x: numpy.ndarray\n",
        "    :param max_bins: the maximal number of bins\n",
        "    :type max_bins: int\n",
        "    :return: the value of this feature\n",
        "    :return type: float\n",
        "    \"\"\"\n",
        "    if not isinstance(x, (np.ndarray, pd.Series)):\n",
        "        x = np.asarray(x)\n",
        "\n",
        "    # nan makes no sense here\n",
        "    if np.isnan(x).any():\n",
        "        return np.nan\n",
        "\n",
        "    hist, bin_edges = np.histogram(x, bins=max_bins)\n",
        "    probs = hist / x.size\n",
        "    probs[probs == 0] = 1.0\n",
        "    return -np.sum(probs * np.log(probs))"
      ]
    },
    {
      "cell_type": "code",
      "execution_count": 22,
      "metadata": {
        "id": "436r3_YjF_Zl"
      },
      "outputs": [],
      "source": [
        "### Not working: fft_mean_coeff"
      ]
    },
    {
      "cell_type": "code",
      "execution_count": 23,
      "metadata": {
        "id": "srAmNrapF_Zl"
      },
      "outputs": [],
      "source": [
        "###https://github.com/blue-yonder/tsfresh/blob/main/tsfresh/feature_extraction/feature_calculators.py"
      ]
    },
    {
      "cell_type": "markdown",
      "metadata": {
        "id": "pJwR9nYLF_Zl"
      },
      "source": [
        "#### Store Features"
      ]
    },
    {
      "cell_type": "code",
      "execution_count": 24,
      "metadata": {
        "id": "cU0p1jmJF_Zl"
      },
      "outputs": [],
      "source": [
        "y_train_a = y_train_a.reset_index(drop=True)"
      ]
    },
    {
      "cell_type": "code",
      "execution_count": 25,
      "metadata": {
        "colab": {
          "base_uri": "https://localhost:8080/",
          "height": 1000
        },
        "id": "Frn1ZjqGF_Zm",
        "outputId": "70e767f9-a426-4ebf-bdce-29fcba1017b0"
      },
      "outputs": [
        {
          "output_type": "error",
          "ename": "KeyboardInterrupt",
          "evalue": "ignored",
          "traceback": [
            "\u001b[0;31m---------------------------------------------------------------------------\u001b[0m",
            "\u001b[0;31mTypingError\u001b[0m                               Traceback (most recent call last)",
            "\u001b[0;32m<ipython-input-25-5152d4fcb673>\u001b[0m in \u001b[0;36m<module>\u001b[0;34m\u001b[0m\n\u001b[1;32m     14\u001b[0m     \u001b[0;32mtry\u001b[0m\u001b[0;34m:\u001b[0m\u001b[0;34m\u001b[0m\u001b[0;34m\u001b[0m\u001b[0m\n\u001b[0;32m---> 15\u001b[0;31m       \u001b[0mX\u001b[0m \u001b[0;34m=\u001b[0m \u001b[0mX_train_a\u001b[0m\u001b[0;34m.\u001b[0m\u001b[0mgroupby\u001b[0m\u001b[0;34m(\u001b[0m\u001b[0;34m'ticker'\u001b[0m\u001b[0;34m)\u001b[0m\u001b[0;34m.\u001b[0m\u001b[0mrolling\u001b[0m\u001b[0;34m(\u001b[0m\u001b[0mwindow\u001b[0m\u001b[0;34m)\u001b[0m\u001b[0;34m.\u001b[0m\u001b[0mapply\u001b[0m\u001b[0;34m(\u001b[0m\u001b[0mfunctions\u001b[0m\u001b[0;34m[\u001b[0m\u001b[0mi\u001b[0m\u001b[0;34m]\u001b[0m\u001b[0;34m,\u001b[0m\u001b[0mengine\u001b[0m\u001b[0;34m=\u001b[0m\u001b[0;34m'numba'\u001b[0m\u001b[0;34m,\u001b[0m\u001b[0mraw\u001b[0m\u001b[0;34m=\u001b[0m\u001b[0;32mTrue\u001b[0m\u001b[0;34m)\u001b[0m\u001b[0;34m.\u001b[0m\u001b[0madd_suffix\u001b[0m\u001b[0;34m(\u001b[0m\u001b[0;34m\"{}\"\u001b[0m\u001b[0;34m.\u001b[0m\u001b[0mformat\u001b[0m\u001b[0;34m(\u001b[0m\u001b[0mfuncts\u001b[0m\u001b[0;34m[\u001b[0m\u001b[0mi\u001b[0m\u001b[0;34m]\u001b[0m\u001b[0;34m+\u001b[0m\u001b[0mstr\u001b[0m\u001b[0;34m(\u001b[0m\u001b[0mwindow\u001b[0m\u001b[0;34m)\u001b[0m\u001b[0;34m)\u001b[0m\u001b[0;34m)\u001b[0m\u001b[0;34m\u001b[0m\u001b[0;34m\u001b[0m\u001b[0m\n\u001b[0m\u001b[1;32m     16\u001b[0m     \u001b[0;32mexcept\u001b[0m\u001b[0;34m:\u001b[0m\u001b[0;34m\u001b[0m\u001b[0;34m\u001b[0m\u001b[0m\n",
            "\u001b[0;32m/usr/local/lib/python3.7/dist-packages/pandas/core/window/rolling.py\u001b[0m in \u001b[0;36mapply\u001b[0;34m(self, func, raw, engine, engine_kwargs, args, kwargs)\u001b[0m\n\u001b[1;32m   1666\u001b[0m             \u001b[0margs\u001b[0m\u001b[0;34m=\u001b[0m\u001b[0margs\u001b[0m\u001b[0;34m,\u001b[0m\u001b[0;34m\u001b[0m\u001b[0;34m\u001b[0m\u001b[0m\n\u001b[0;32m-> 1667\u001b[0;31m             \u001b[0mkwargs\u001b[0m\u001b[0;34m=\u001b[0m\u001b[0mkwargs\u001b[0m\u001b[0;34m,\u001b[0m\u001b[0;34m\u001b[0m\u001b[0;34m\u001b[0m\u001b[0m\n\u001b[0m\u001b[1;32m   1668\u001b[0m         )\n",
            "\u001b[0;32m/usr/local/lib/python3.7/dist-packages/pandas/core/window/rolling.py\u001b[0m in \u001b[0;36mapply\u001b[0;34m(self, func, raw, engine, engine_kwargs, args, kwargs)\u001b[0m\n\u001b[1;32m   1193\u001b[0m             \u001b[0mapply_func\u001b[0m\u001b[0;34m,\u001b[0m\u001b[0;34m\u001b[0m\u001b[0;34m\u001b[0m\u001b[0m\n\u001b[0;32m-> 1194\u001b[0;31m             \u001b[0mnumba_cache_key\u001b[0m\u001b[0;34m=\u001b[0m\u001b[0mnumba_cache_key\u001b[0m\u001b[0;34m,\u001b[0m\u001b[0;34m\u001b[0m\u001b[0;34m\u001b[0m\u001b[0m\n\u001b[0m\u001b[1;32m   1195\u001b[0m         )\n",
            "\u001b[0;32m/usr/local/lib/python3.7/dist-packages/pandas/core/window/rolling.py\u001b[0m in \u001b[0;36m_apply\u001b[0;34m(self, func, name, numba_cache_key, **kwargs)\u001b[0m\n\u001b[1;32m    597\u001b[0m             \u001b[0mnumba_cache_key\u001b[0m\u001b[0;34m,\u001b[0m\u001b[0;34m\u001b[0m\u001b[0;34m\u001b[0m\u001b[0m\n\u001b[0;32m--> 598\u001b[0;31m             \u001b[0;34m**\u001b[0m\u001b[0mkwargs\u001b[0m\u001b[0;34m,\u001b[0m\u001b[0;34m\u001b[0m\u001b[0;34m\u001b[0m\u001b[0m\n\u001b[0m\u001b[1;32m    599\u001b[0m         )\n",
            "\u001b[0;32m/usr/local/lib/python3.7/dist-packages/pandas/core/window/rolling.py\u001b[0m in \u001b[0;36m_apply\u001b[0;34m(self, func, name, numba_cache_key, **kwargs)\u001b[0m\n\u001b[1;32m    544\u001b[0m         \u001b[0;32mif\u001b[0m \u001b[0mself\u001b[0m\u001b[0;34m.\u001b[0m\u001b[0mmethod\u001b[0m \u001b[0;34m==\u001b[0m \u001b[0;34m\"single\"\u001b[0m\u001b[0;34m:\u001b[0m\u001b[0;34m\u001b[0m\u001b[0;34m\u001b[0m\u001b[0m\n\u001b[0;32m--> 545\u001b[0;31m             \u001b[0;32mreturn\u001b[0m \u001b[0mself\u001b[0m\u001b[0;34m.\u001b[0m\u001b[0m_apply_blockwise\u001b[0m\u001b[0;34m(\u001b[0m\u001b[0mhomogeneous_func\u001b[0m\u001b[0;34m,\u001b[0m \u001b[0mname\u001b[0m\u001b[0;34m)\u001b[0m\u001b[0;34m\u001b[0m\u001b[0;34m\u001b[0m\u001b[0m\n\u001b[0m\u001b[1;32m    546\u001b[0m         \u001b[0;32melse\u001b[0m\u001b[0;34m:\u001b[0m\u001b[0;34m\u001b[0m\u001b[0;34m\u001b[0m\u001b[0m\n",
            "\u001b[0;32m/usr/local/lib/python3.7/dist-packages/pandas/core/window/rolling.py\u001b[0m in \u001b[0;36m_apply_blockwise\u001b[0;34m(self, homogeneous_func, name)\u001b[0m\n\u001b[1;32m    440\u001b[0m         \u001b[0;32melse\u001b[0m\u001b[0;34m:\u001b[0m\u001b[0;34m\u001b[0m\u001b[0;34m\u001b[0m\u001b[0m\n\u001b[0;32m--> 441\u001b[0;31m             \u001b[0mnew_mgr\u001b[0m \u001b[0;34m=\u001b[0m \u001b[0mmgr\u001b[0m\u001b[0;34m.\u001b[0m\u001b[0mapply\u001b[0m\u001b[0;34m(\u001b[0m\u001b[0mhfunc\u001b[0m\u001b[0;34m,\u001b[0m \u001b[0mignore_failures\u001b[0m\u001b[0;34m=\u001b[0m\u001b[0;32mTrue\u001b[0m\u001b[0;34m)\u001b[0m\u001b[0;34m\u001b[0m\u001b[0;34m\u001b[0m\u001b[0m\n\u001b[0m\u001b[1;32m    442\u001b[0m         \u001b[0mout\u001b[0m \u001b[0;34m=\u001b[0m \u001b[0mobj\u001b[0m\u001b[0;34m.\u001b[0m\u001b[0m_constructor\u001b[0m\u001b[0;34m(\u001b[0m\u001b[0mnew_mgr\u001b[0m\u001b[0;34m)\u001b[0m\u001b[0;34m\u001b[0m\u001b[0;34m\u001b[0m\u001b[0m\n",
            "\u001b[0;32m/usr/local/lib/python3.7/dist-packages/pandas/core/internals/managers.py\u001b[0m in \u001b[0;36mapply\u001b[0;34m(self, f, align_keys, ignore_failures, **kwargs)\u001b[0m\n\u001b[1;32m    324\u001b[0m                 \u001b[0;32mif\u001b[0m \u001b[0mcallable\u001b[0m\u001b[0;34m(\u001b[0m\u001b[0mf\u001b[0m\u001b[0;34m)\u001b[0m\u001b[0;34m:\u001b[0m\u001b[0;34m\u001b[0m\u001b[0;34m\u001b[0m\u001b[0m\n\u001b[0;32m--> 325\u001b[0;31m                     \u001b[0mapplied\u001b[0m \u001b[0;34m=\u001b[0m \u001b[0mb\u001b[0m\u001b[0;34m.\u001b[0m\u001b[0mapply\u001b[0m\u001b[0;34m(\u001b[0m\u001b[0mf\u001b[0m\u001b[0;34m,\u001b[0m \u001b[0;34m**\u001b[0m\u001b[0mkwargs\u001b[0m\u001b[0;34m)\u001b[0m\u001b[0;34m\u001b[0m\u001b[0;34m\u001b[0m\u001b[0m\n\u001b[0m\u001b[1;32m    326\u001b[0m                 \u001b[0;32melse\u001b[0m\u001b[0;34m:\u001b[0m\u001b[0;34m\u001b[0m\u001b[0;34m\u001b[0m\u001b[0m\n",
            "\u001b[0;32m/usr/local/lib/python3.7/dist-packages/pandas/core/internals/blocks.py\u001b[0m in \u001b[0;36mapply\u001b[0;34m(self, func, **kwargs)\u001b[0m\n\u001b[1;32m    380\u001b[0m         \u001b[0;32mwith\u001b[0m \u001b[0mnp\u001b[0m\u001b[0;34m.\u001b[0m\u001b[0merrstate\u001b[0m\u001b[0;34m(\u001b[0m\u001b[0mall\u001b[0m\u001b[0;34m=\u001b[0m\u001b[0;34m\"ignore\"\u001b[0m\u001b[0;34m)\u001b[0m\u001b[0;34m:\u001b[0m\u001b[0;34m\u001b[0m\u001b[0;34m\u001b[0m\u001b[0m\n\u001b[0;32m--> 381\u001b[0;31m             \u001b[0mresult\u001b[0m \u001b[0;34m=\u001b[0m \u001b[0mfunc\u001b[0m\u001b[0;34m(\u001b[0m\u001b[0mself\u001b[0m\u001b[0;34m.\u001b[0m\u001b[0mvalues\u001b[0m\u001b[0;34m,\u001b[0m \u001b[0;34m**\u001b[0m\u001b[0mkwargs\u001b[0m\u001b[0;34m)\u001b[0m\u001b[0;34m\u001b[0m\u001b[0;34m\u001b[0m\u001b[0m\n\u001b[0m\u001b[1;32m    382\u001b[0m \u001b[0;34m\u001b[0m\u001b[0m\n",
            "\u001b[0;32m/usr/local/lib/python3.7/dist-packages/pandas/core/window/rolling.py\u001b[0m in \u001b[0;36mhfunc\u001b[0;34m(bvalues)\u001b[0m\n\u001b[1;32m    430\u001b[0m             \u001b[0mvalues\u001b[0m \u001b[0;34m=\u001b[0m \u001b[0mself\u001b[0m\u001b[0;34m.\u001b[0m\u001b[0m_prep_values\u001b[0m\u001b[0;34m(\u001b[0m\u001b[0mgetattr\u001b[0m\u001b[0;34m(\u001b[0m\u001b[0mbvalues\u001b[0m\u001b[0;34m,\u001b[0m \u001b[0;34m\"T\"\u001b[0m\u001b[0;34m,\u001b[0m \u001b[0mbvalues\u001b[0m\u001b[0;34m)\u001b[0m\u001b[0;34m)\u001b[0m\u001b[0;34m\u001b[0m\u001b[0;34m\u001b[0m\u001b[0m\n\u001b[0;32m--> 431\u001b[0;31m             \u001b[0mres_values\u001b[0m \u001b[0;34m=\u001b[0m \u001b[0mhomogeneous_func\u001b[0m\u001b[0;34m(\u001b[0m\u001b[0mvalues\u001b[0m\u001b[0;34m)\u001b[0m\u001b[0;34m\u001b[0m\u001b[0;34m\u001b[0m\u001b[0m\n\u001b[0m\u001b[1;32m    432\u001b[0m             \u001b[0;32mreturn\u001b[0m \u001b[0mgetattr\u001b[0m\u001b[0;34m(\u001b[0m\u001b[0mres_values\u001b[0m\u001b[0;34m,\u001b[0m \u001b[0;34m\"T\"\u001b[0m\u001b[0;34m,\u001b[0m \u001b[0mres_values\u001b[0m\u001b[0;34m)\u001b[0m\u001b[0;34m\u001b[0m\u001b[0;34m\u001b[0m\u001b[0m\n",
            "\u001b[0;32m/usr/local/lib/python3.7/dist-packages/pandas/core/window/rolling.py\u001b[0m in \u001b[0;36mhomogeneous_func\u001b[0;34m(values)\u001b[0m\n\u001b[1;32m    534\u001b[0m                 \u001b[0;32mif\u001b[0m \u001b[0mvalues\u001b[0m\u001b[0;34m.\u001b[0m\u001b[0mndim\u001b[0m \u001b[0;34m>\u001b[0m \u001b[0;36m1\u001b[0m \u001b[0;32mand\u001b[0m \u001b[0mself\u001b[0m\u001b[0;34m.\u001b[0m\u001b[0mmethod\u001b[0m \u001b[0;34m==\u001b[0m \u001b[0;34m\"single\"\u001b[0m\u001b[0;34m:\u001b[0m\u001b[0;34m\u001b[0m\u001b[0;34m\u001b[0m\u001b[0m\n\u001b[0;32m--> 535\u001b[0;31m                     \u001b[0mresult\u001b[0m \u001b[0;34m=\u001b[0m \u001b[0mnp\u001b[0m\u001b[0;34m.\u001b[0m\u001b[0mapply_along_axis\u001b[0m\u001b[0;34m(\u001b[0m\u001b[0mcalc\u001b[0m\u001b[0;34m,\u001b[0m \u001b[0mself\u001b[0m\u001b[0;34m.\u001b[0m\u001b[0maxis\u001b[0m\u001b[0;34m,\u001b[0m \u001b[0mvalues\u001b[0m\u001b[0;34m)\u001b[0m\u001b[0;34m\u001b[0m\u001b[0;34m\u001b[0m\u001b[0m\n\u001b[0m\u001b[1;32m    536\u001b[0m                 \u001b[0;32melse\u001b[0m\u001b[0;34m:\u001b[0m\u001b[0;34m\u001b[0m\u001b[0;34m\u001b[0m\u001b[0m\n",
            "\u001b[0;32m<__array_function__ internals>\u001b[0m in \u001b[0;36mapply_along_axis\u001b[0;34m(*args, **kwargs)\u001b[0m\n",
            "\u001b[0;32m/usr/local/lib/python3.7/dist-packages/numpy/lib/shape_base.py\u001b[0m in \u001b[0;36mapply_along_axis\u001b[0;34m(func1d, axis, arr, *args, **kwargs)\u001b[0m\n\u001b[1;32m    378\u001b[0m         ) from None\n\u001b[0;32m--> 379\u001b[0;31m     \u001b[0mres\u001b[0m \u001b[0;34m=\u001b[0m \u001b[0masanyarray\u001b[0m\u001b[0;34m(\u001b[0m\u001b[0mfunc1d\u001b[0m\u001b[0;34m(\u001b[0m\u001b[0minarr_view\u001b[0m\u001b[0;34m[\u001b[0m\u001b[0mind0\u001b[0m\u001b[0;34m]\u001b[0m\u001b[0;34m,\u001b[0m \u001b[0;34m*\u001b[0m\u001b[0margs\u001b[0m\u001b[0;34m,\u001b[0m \u001b[0;34m**\u001b[0m\u001b[0mkwargs\u001b[0m\u001b[0;34m)\u001b[0m\u001b[0;34m)\u001b[0m\u001b[0;34m\u001b[0m\u001b[0;34m\u001b[0m\u001b[0m\n\u001b[0m\u001b[1;32m    380\u001b[0m \u001b[0;34m\u001b[0m\u001b[0m\n",
            "\u001b[0;32m/usr/local/lib/python3.7/dist-packages/pandas/core/window/rolling.py\u001b[0m in \u001b[0;36mcalc\u001b[0;34m(x)\u001b[0m\n\u001b[1;32m    530\u001b[0m \u001b[0;34m\u001b[0m\u001b[0m\n\u001b[0;32m--> 531\u001b[0;31m                 \u001b[0;32mreturn\u001b[0m \u001b[0mfunc\u001b[0m\u001b[0;34m(\u001b[0m\u001b[0mx\u001b[0m\u001b[0;34m,\u001b[0m \u001b[0mstart\u001b[0m\u001b[0;34m,\u001b[0m \u001b[0mend\u001b[0m\u001b[0;34m,\u001b[0m \u001b[0mmin_periods\u001b[0m\u001b[0;34m)\u001b[0m\u001b[0;34m\u001b[0m\u001b[0;34m\u001b[0m\u001b[0m\n\u001b[0m\u001b[1;32m    532\u001b[0m \u001b[0;34m\u001b[0m\u001b[0m\n",
            "\u001b[0;32m/usr/local/lib/python3.7/dist-packages/numba/core/dispatcher.py\u001b[0m in \u001b[0;36m_compile_for_args\u001b[0;34m(self, *args, **kws)\u001b[0m\n\u001b[1;32m    467\u001b[0m \u001b[0;34m\u001b[0m\u001b[0m\n\u001b[0;32m--> 468\u001b[0;31m             \u001b[0merror_rewrite\u001b[0m\u001b[0;34m(\u001b[0m\u001b[0me\u001b[0m\u001b[0;34m,\u001b[0m \u001b[0;34m'typing'\u001b[0m\u001b[0;34m)\u001b[0m\u001b[0;34m\u001b[0m\u001b[0;34m\u001b[0m\u001b[0m\n\u001b[0m\u001b[1;32m    469\u001b[0m         \u001b[0;32mexcept\u001b[0m \u001b[0merrors\u001b[0m\u001b[0;34m.\u001b[0m\u001b[0mUnsupportedError\u001b[0m \u001b[0;32mas\u001b[0m \u001b[0me\u001b[0m\u001b[0;34m:\u001b[0m\u001b[0;34m\u001b[0m\u001b[0;34m\u001b[0m\u001b[0m\n",
            "\u001b[0;32m/usr/local/lib/python3.7/dist-packages/numba/core/dispatcher.py\u001b[0m in \u001b[0;36merror_rewrite\u001b[0;34m(e, issue_type)\u001b[0m\n\u001b[1;32m    408\u001b[0m             \u001b[0;32melse\u001b[0m\u001b[0;34m:\u001b[0m\u001b[0;34m\u001b[0m\u001b[0;34m\u001b[0m\u001b[0m\n\u001b[0;32m--> 409\u001b[0;31m                 \u001b[0;32mraise\u001b[0m \u001b[0me\u001b[0m\u001b[0;34m.\u001b[0m\u001b[0mwith_traceback\u001b[0m\u001b[0;34m(\u001b[0m\u001b[0;32mNone\u001b[0m\u001b[0;34m)\u001b[0m\u001b[0;34m\u001b[0m\u001b[0;34m\u001b[0m\u001b[0m\n\u001b[0m\u001b[1;32m    410\u001b[0m \u001b[0;34m\u001b[0m\u001b[0m\n",
            "\u001b[0;31mTypingError\u001b[0m: Failed in nopython mode pipeline (step: nopython frontend)\nFailed in nopython mode pipeline (step: nopython frontend)\nFailed in nopython mode pipeline (step: nopython frontend)\nUse of unsupported NumPy function 'numpy.ndarray' or unsupported use of the function.\n\nFile \"<ipython-input-21-3c266da1dbd5>\", line 250:\ndef binned_entropy(x, max_bins=3):\n    <source elided>\n    \"\"\"\n    if not isinstance(x, (np.ndarray, pd.Series)):\n    ^\n\nDuring: typing of get attribute at <ipython-input-21-3c266da1dbd5> (250)\n\nFile \"<ipython-input-21-3c266da1dbd5>\", line 250:\ndef binned_entropy(x, max_bins=3):\n    <source elided>\n    \"\"\"\n    if not isinstance(x, (np.ndarray, pd.Series)):\n    ^\n\nDuring: resolving callee type: type(CPUDispatcher(<function binned_entropy at 0x7f625fe814d0>))\nDuring: typing of call at /usr/local/lib/python3.7/dist-packages/pandas/core/util/numba_.py (110)\n\nDuring: resolving callee type: type(CPUDispatcher(<function binned_entropy at 0x7f625fe814d0>))\nDuring: typing of call at /usr/local/lib/python3.7/dist-packages/pandas/core/util/numba_.py (110)\n\n\nFile \"../usr/local/lib/python3.7/dist-packages/pandas/core/util/numba_.py\", line 110:\n            def impl(data, *_args):\n                return jf(data, *_args)\n                ^\n\nDuring: resolving callee type: type(CPUDispatcher(<function jit_user_function.<locals>.numba_func at 0x7f625fc1a4d0>))\nDuring: typing of call at /usr/local/lib/python3.7/dist-packages/pandas/core/window/numba_.py (74)\n\nDuring: resolving callee type: type(CPUDispatcher(<function jit_user_function.<locals>.numba_func at 0x7f625fc1a4d0>))\nDuring: typing of call at /usr/local/lib/python3.7/dist-packages/pandas/core/window/numba_.py (74)\n\n\nFile \"../usr/local/lib/python3.7/dist-packages/pandas/core/window/numba_.py\", line 74:\n    def roll_apply(\n        <source elided>\n            if len(window) - count_nan >= minimum_periods:\n                result[i] = numba_func(window, *args)\n                ^\n",
            "\nDuring handling of the above exception, another exception occurred:\n",
            "\u001b[0;31mKeyboardInterrupt\u001b[0m                         Traceback (most recent call last)",
            "\u001b[0;32m<ipython-input-25-5152d4fcb673>\u001b[0m in \u001b[0;36m<module>\u001b[0;34m\u001b[0m\n\u001b[1;32m     15\u001b[0m       \u001b[0mX\u001b[0m \u001b[0;34m=\u001b[0m \u001b[0mX_train_a\u001b[0m\u001b[0;34m.\u001b[0m\u001b[0mgroupby\u001b[0m\u001b[0;34m(\u001b[0m\u001b[0;34m'ticker'\u001b[0m\u001b[0;34m)\u001b[0m\u001b[0;34m.\u001b[0m\u001b[0mrolling\u001b[0m\u001b[0;34m(\u001b[0m\u001b[0mwindow\u001b[0m\u001b[0;34m)\u001b[0m\u001b[0;34m.\u001b[0m\u001b[0mapply\u001b[0m\u001b[0;34m(\u001b[0m\u001b[0mfunctions\u001b[0m\u001b[0;34m[\u001b[0m\u001b[0mi\u001b[0m\u001b[0;34m]\u001b[0m\u001b[0;34m,\u001b[0m\u001b[0mengine\u001b[0m\u001b[0;34m=\u001b[0m\u001b[0;34m'numba'\u001b[0m\u001b[0;34m,\u001b[0m\u001b[0mraw\u001b[0m\u001b[0;34m=\u001b[0m\u001b[0;32mTrue\u001b[0m\u001b[0;34m)\u001b[0m\u001b[0;34m.\u001b[0m\u001b[0madd_suffix\u001b[0m\u001b[0;34m(\u001b[0m\u001b[0;34m\"{}\"\u001b[0m\u001b[0;34m.\u001b[0m\u001b[0mformat\u001b[0m\u001b[0;34m(\u001b[0m\u001b[0mfuncts\u001b[0m\u001b[0;34m[\u001b[0m\u001b[0mi\u001b[0m\u001b[0;34m]\u001b[0m\u001b[0;34m+\u001b[0m\u001b[0mstr\u001b[0m\u001b[0;34m(\u001b[0m\u001b[0mwindow\u001b[0m\u001b[0;34m)\u001b[0m\u001b[0;34m)\u001b[0m\u001b[0;34m)\u001b[0m\u001b[0;34m\u001b[0m\u001b[0;34m\u001b[0m\u001b[0m\n\u001b[1;32m     16\u001b[0m     \u001b[0;32mexcept\u001b[0m\u001b[0;34m:\u001b[0m\u001b[0;34m\u001b[0m\u001b[0;34m\u001b[0m\u001b[0m\n\u001b[0;32m---> 17\u001b[0;31m       \u001b[0mX\u001b[0m \u001b[0;34m=\u001b[0m \u001b[0mX_train_a\u001b[0m\u001b[0;34m.\u001b[0m\u001b[0mgroupby\u001b[0m\u001b[0;34m(\u001b[0m\u001b[0;34m'ticker'\u001b[0m\u001b[0;34m)\u001b[0m\u001b[0;34m.\u001b[0m\u001b[0mrolling\u001b[0m\u001b[0;34m(\u001b[0m\u001b[0mwindow\u001b[0m\u001b[0;34m)\u001b[0m\u001b[0;34m.\u001b[0m\u001b[0mapply\u001b[0m\u001b[0;34m(\u001b[0m\u001b[0mfunctions\u001b[0m\u001b[0;34m[\u001b[0m\u001b[0mi\u001b[0m\u001b[0;34m]\u001b[0m\u001b[0;34m)\u001b[0m\u001b[0;34m.\u001b[0m\u001b[0madd_suffix\u001b[0m\u001b[0;34m(\u001b[0m\u001b[0;34m\"{}\"\u001b[0m\u001b[0;34m.\u001b[0m\u001b[0mformat\u001b[0m\u001b[0;34m(\u001b[0m\u001b[0mfuncts\u001b[0m\u001b[0;34m[\u001b[0m\u001b[0mi\u001b[0m\u001b[0;34m]\u001b[0m\u001b[0;34m)\u001b[0m\u001b[0;34m)\u001b[0m\u001b[0;34m\u001b[0m\u001b[0;34m\u001b[0m\u001b[0m\n\u001b[0m\u001b[1;32m     18\u001b[0m     \u001b[0mX\u001b[0m \u001b[0;34m=\u001b[0m \u001b[0mX\u001b[0m\u001b[0;34m.\u001b[0m\u001b[0mreset_index\u001b[0m\u001b[0;34m(\u001b[0m\u001b[0mdrop\u001b[0m\u001b[0;34m=\u001b[0m\u001b[0;32mTrue\u001b[0m\u001b[0;34m)\u001b[0m\u001b[0;34m\u001b[0m\u001b[0;34m\u001b[0m\u001b[0m\n\u001b[1;32m     19\u001b[0m     \u001b[0mfeatures\u001b[0m \u001b[0;34m=\u001b[0m \u001b[0mFeatureWiz\u001b[0m\u001b[0;34m(\u001b[0m\u001b[0mcorr_limit\u001b[0m\u001b[0;34m=\u001b[0m\u001b[0;36m0.30\u001b[0m\u001b[0;34m,\u001b[0m \u001b[0mfeature_engg\u001b[0m\u001b[0;34m=\u001b[0m\u001b[0;34m''\u001b[0m\u001b[0;34m,\u001b[0m \u001b[0mcategory_encoders\u001b[0m\u001b[0;34m=\u001b[0m\u001b[0;34m''\u001b[0m\u001b[0;34m,\u001b[0m\u001b[0mdask_xgboost_flag\u001b[0m\u001b[0;34m=\u001b[0m\u001b[0;32mFalse\u001b[0m\u001b[0;34m,\u001b[0m \u001b[0mnrows\u001b[0m\u001b[0;34m=\u001b[0m\u001b[0;32mNone\u001b[0m\u001b[0;34m,\u001b[0m \u001b[0mverbose\u001b[0m\u001b[0;34m=\u001b[0m\u001b[0;36m0\u001b[0m\u001b[0;34m)\u001b[0m\u001b[0;34m\u001b[0m\u001b[0;34m\u001b[0m\u001b[0m\n",
            "\u001b[0;32m/usr/local/lib/python3.7/dist-packages/pandas/core/window/rolling.py\u001b[0m in \u001b[0;36mapply\u001b[0;34m(self, func, raw, engine, engine_kwargs, args, kwargs)\u001b[0m\n\u001b[1;32m   1665\u001b[0m             \u001b[0mengine_kwargs\u001b[0m\u001b[0;34m=\u001b[0m\u001b[0mengine_kwargs\u001b[0m\u001b[0;34m,\u001b[0m\u001b[0;34m\u001b[0m\u001b[0;34m\u001b[0m\u001b[0m\n\u001b[1;32m   1666\u001b[0m             \u001b[0margs\u001b[0m\u001b[0;34m=\u001b[0m\u001b[0margs\u001b[0m\u001b[0;34m,\u001b[0m\u001b[0;34m\u001b[0m\u001b[0;34m\u001b[0m\u001b[0m\n\u001b[0;32m-> 1667\u001b[0;31m             \u001b[0mkwargs\u001b[0m\u001b[0;34m=\u001b[0m\u001b[0mkwargs\u001b[0m\u001b[0;34m,\u001b[0m\u001b[0;34m\u001b[0m\u001b[0;34m\u001b[0m\u001b[0m\n\u001b[0m\u001b[1;32m   1668\u001b[0m         )\n\u001b[1;32m   1669\u001b[0m \u001b[0;34m\u001b[0m\u001b[0m\n",
            "\u001b[0;32m/usr/local/lib/python3.7/dist-packages/pandas/core/window/rolling.py\u001b[0m in \u001b[0;36mapply\u001b[0;34m(self, func, raw, engine, engine_kwargs, args, kwargs)\u001b[0m\n\u001b[1;32m   1192\u001b[0m         return self._apply(\n\u001b[1;32m   1193\u001b[0m             \u001b[0mapply_func\u001b[0m\u001b[0;34m,\u001b[0m\u001b[0;34m\u001b[0m\u001b[0;34m\u001b[0m\u001b[0m\n\u001b[0;32m-> 1194\u001b[0;31m             \u001b[0mnumba_cache_key\u001b[0m\u001b[0;34m=\u001b[0m\u001b[0mnumba_cache_key\u001b[0m\u001b[0;34m,\u001b[0m\u001b[0;34m\u001b[0m\u001b[0;34m\u001b[0m\u001b[0m\n\u001b[0m\u001b[1;32m   1195\u001b[0m         )\n\u001b[1;32m   1196\u001b[0m \u001b[0;34m\u001b[0m\u001b[0m\n",
            "\u001b[0;32m/usr/local/lib/python3.7/dist-packages/pandas/core/window/rolling.py\u001b[0m in \u001b[0;36m_apply\u001b[0;34m(self, func, name, numba_cache_key, **kwargs)\u001b[0m\n\u001b[1;32m    596\u001b[0m             \u001b[0mname\u001b[0m\u001b[0;34m,\u001b[0m\u001b[0;34m\u001b[0m\u001b[0;34m\u001b[0m\u001b[0m\n\u001b[1;32m    597\u001b[0m             \u001b[0mnumba_cache_key\u001b[0m\u001b[0;34m,\u001b[0m\u001b[0;34m\u001b[0m\u001b[0;34m\u001b[0m\u001b[0m\n\u001b[0;32m--> 598\u001b[0;31m             \u001b[0;34m**\u001b[0m\u001b[0mkwargs\u001b[0m\u001b[0;34m,\u001b[0m\u001b[0;34m\u001b[0m\u001b[0;34m\u001b[0m\u001b[0m\n\u001b[0m\u001b[1;32m    599\u001b[0m         )\n\u001b[1;32m    600\u001b[0m         \u001b[0;31m# Reconstruct the resulting MultiIndex\u001b[0m\u001b[0;34m\u001b[0m\u001b[0;34m\u001b[0m\u001b[0;34m\u001b[0m\u001b[0m\n",
            "\u001b[0;32m/usr/local/lib/python3.7/dist-packages/pandas/core/window/rolling.py\u001b[0m in \u001b[0;36m_apply\u001b[0;34m(self, func, name, numba_cache_key, **kwargs)\u001b[0m\n\u001b[1;32m    543\u001b[0m \u001b[0;34m\u001b[0m\u001b[0m\n\u001b[1;32m    544\u001b[0m         \u001b[0;32mif\u001b[0m \u001b[0mself\u001b[0m\u001b[0;34m.\u001b[0m\u001b[0mmethod\u001b[0m \u001b[0;34m==\u001b[0m \u001b[0;34m\"single\"\u001b[0m\u001b[0;34m:\u001b[0m\u001b[0;34m\u001b[0m\u001b[0;34m\u001b[0m\u001b[0m\n\u001b[0;32m--> 545\u001b[0;31m             \u001b[0;32mreturn\u001b[0m \u001b[0mself\u001b[0m\u001b[0;34m.\u001b[0m\u001b[0m_apply_blockwise\u001b[0m\u001b[0;34m(\u001b[0m\u001b[0mhomogeneous_func\u001b[0m\u001b[0;34m,\u001b[0m \u001b[0mname\u001b[0m\u001b[0;34m)\u001b[0m\u001b[0;34m\u001b[0m\u001b[0;34m\u001b[0m\u001b[0m\n\u001b[0m\u001b[1;32m    546\u001b[0m         \u001b[0;32melse\u001b[0m\u001b[0;34m:\u001b[0m\u001b[0;34m\u001b[0m\u001b[0;34m\u001b[0m\u001b[0m\n\u001b[1;32m    547\u001b[0m             \u001b[0;32mreturn\u001b[0m \u001b[0mself\u001b[0m\u001b[0;34m.\u001b[0m\u001b[0m_apply_tablewise\u001b[0m\u001b[0;34m(\u001b[0m\u001b[0mhomogeneous_func\u001b[0m\u001b[0;34m,\u001b[0m \u001b[0mname\u001b[0m\u001b[0;34m)\u001b[0m\u001b[0;34m\u001b[0m\u001b[0;34m\u001b[0m\u001b[0m\n",
            "\u001b[0;32m/usr/local/lib/python3.7/dist-packages/pandas/core/window/rolling.py\u001b[0m in \u001b[0;36m_apply_blockwise\u001b[0;34m(self, homogeneous_func, name)\u001b[0m\n\u001b[1;32m    439\u001b[0m             \u001b[0mnew_mgr\u001b[0m \u001b[0;34m=\u001b[0m \u001b[0mmgr\u001b[0m\u001b[0;34m.\u001b[0m\u001b[0mapply_2d\u001b[0m\u001b[0;34m(\u001b[0m\u001b[0mhfunc2d\u001b[0m\u001b[0;34m,\u001b[0m \u001b[0mignore_failures\u001b[0m\u001b[0;34m=\u001b[0m\u001b[0;32mTrue\u001b[0m\u001b[0;34m)\u001b[0m\u001b[0;34m\u001b[0m\u001b[0;34m\u001b[0m\u001b[0m\n\u001b[1;32m    440\u001b[0m         \u001b[0;32melse\u001b[0m\u001b[0;34m:\u001b[0m\u001b[0;34m\u001b[0m\u001b[0;34m\u001b[0m\u001b[0m\n\u001b[0;32m--> 441\u001b[0;31m             \u001b[0mnew_mgr\u001b[0m \u001b[0;34m=\u001b[0m \u001b[0mmgr\u001b[0m\u001b[0;34m.\u001b[0m\u001b[0mapply\u001b[0m\u001b[0;34m(\u001b[0m\u001b[0mhfunc\u001b[0m\u001b[0;34m,\u001b[0m \u001b[0mignore_failures\u001b[0m\u001b[0;34m=\u001b[0m\u001b[0;32mTrue\u001b[0m\u001b[0;34m)\u001b[0m\u001b[0;34m\u001b[0m\u001b[0;34m\u001b[0m\u001b[0m\n\u001b[0m\u001b[1;32m    442\u001b[0m         \u001b[0mout\u001b[0m \u001b[0;34m=\u001b[0m \u001b[0mobj\u001b[0m\u001b[0;34m.\u001b[0m\u001b[0m_constructor\u001b[0m\u001b[0;34m(\u001b[0m\u001b[0mnew_mgr\u001b[0m\u001b[0;34m)\u001b[0m\u001b[0;34m\u001b[0m\u001b[0;34m\u001b[0m\u001b[0m\n\u001b[1;32m    443\u001b[0m \u001b[0;34m\u001b[0m\u001b[0m\n",
            "\u001b[0;32m/usr/local/lib/python3.7/dist-packages/pandas/core/internals/managers.py\u001b[0m in \u001b[0;36mapply\u001b[0;34m(self, f, align_keys, ignore_failures, **kwargs)\u001b[0m\n\u001b[1;32m    323\u001b[0m             \u001b[0;32mtry\u001b[0m\u001b[0;34m:\u001b[0m\u001b[0;34m\u001b[0m\u001b[0;34m\u001b[0m\u001b[0m\n\u001b[1;32m    324\u001b[0m                 \u001b[0;32mif\u001b[0m \u001b[0mcallable\u001b[0m\u001b[0;34m(\u001b[0m\u001b[0mf\u001b[0m\u001b[0;34m)\u001b[0m\u001b[0;34m:\u001b[0m\u001b[0;34m\u001b[0m\u001b[0;34m\u001b[0m\u001b[0m\n\u001b[0;32m--> 325\u001b[0;31m                     \u001b[0mapplied\u001b[0m \u001b[0;34m=\u001b[0m \u001b[0mb\u001b[0m\u001b[0;34m.\u001b[0m\u001b[0mapply\u001b[0m\u001b[0;34m(\u001b[0m\u001b[0mf\u001b[0m\u001b[0;34m,\u001b[0m \u001b[0;34m**\u001b[0m\u001b[0mkwargs\u001b[0m\u001b[0;34m)\u001b[0m\u001b[0;34m\u001b[0m\u001b[0;34m\u001b[0m\u001b[0m\n\u001b[0m\u001b[1;32m    326\u001b[0m                 \u001b[0;32melse\u001b[0m\u001b[0;34m:\u001b[0m\u001b[0;34m\u001b[0m\u001b[0;34m\u001b[0m\u001b[0m\n\u001b[1;32m    327\u001b[0m                     \u001b[0mapplied\u001b[0m \u001b[0;34m=\u001b[0m \u001b[0mgetattr\u001b[0m\u001b[0;34m(\u001b[0m\u001b[0mb\u001b[0m\u001b[0;34m,\u001b[0m \u001b[0mf\u001b[0m\u001b[0;34m)\u001b[0m\u001b[0;34m(\u001b[0m\u001b[0;34m**\u001b[0m\u001b[0mkwargs\u001b[0m\u001b[0;34m)\u001b[0m\u001b[0;34m\u001b[0m\u001b[0;34m\u001b[0m\u001b[0m\n",
            "\u001b[0;32m/usr/local/lib/python3.7/dist-packages/pandas/core/internals/blocks.py\u001b[0m in \u001b[0;36mapply\u001b[0;34m(self, func, **kwargs)\u001b[0m\n\u001b[1;32m    379\u001b[0m         \"\"\"\n\u001b[1;32m    380\u001b[0m         \u001b[0;32mwith\u001b[0m \u001b[0mnp\u001b[0m\u001b[0;34m.\u001b[0m\u001b[0merrstate\u001b[0m\u001b[0;34m(\u001b[0m\u001b[0mall\u001b[0m\u001b[0;34m=\u001b[0m\u001b[0;34m\"ignore\"\u001b[0m\u001b[0;34m)\u001b[0m\u001b[0;34m:\u001b[0m\u001b[0;34m\u001b[0m\u001b[0;34m\u001b[0m\u001b[0m\n\u001b[0;32m--> 381\u001b[0;31m             \u001b[0mresult\u001b[0m \u001b[0;34m=\u001b[0m \u001b[0mfunc\u001b[0m\u001b[0;34m(\u001b[0m\u001b[0mself\u001b[0m\u001b[0;34m.\u001b[0m\u001b[0mvalues\u001b[0m\u001b[0;34m,\u001b[0m \u001b[0;34m**\u001b[0m\u001b[0mkwargs\u001b[0m\u001b[0;34m)\u001b[0m\u001b[0;34m\u001b[0m\u001b[0;34m\u001b[0m\u001b[0m\n\u001b[0m\u001b[1;32m    382\u001b[0m \u001b[0;34m\u001b[0m\u001b[0m\n\u001b[1;32m    383\u001b[0m         \u001b[0;32mreturn\u001b[0m \u001b[0mself\u001b[0m\u001b[0;34m.\u001b[0m\u001b[0m_split_op_result\u001b[0m\u001b[0;34m(\u001b[0m\u001b[0mresult\u001b[0m\u001b[0;34m)\u001b[0m\u001b[0;34m\u001b[0m\u001b[0;34m\u001b[0m\u001b[0m\n",
            "\u001b[0;32m/usr/local/lib/python3.7/dist-packages/pandas/core/window/rolling.py\u001b[0m in \u001b[0;36mhfunc\u001b[0;34m(bvalues)\u001b[0m\n\u001b[1;32m    429\u001b[0m             \u001b[0;31m# TODO(EA2D): getattr unnecessary with 2D EAs\u001b[0m\u001b[0;34m\u001b[0m\u001b[0;34m\u001b[0m\u001b[0;34m\u001b[0m\u001b[0m\n\u001b[1;32m    430\u001b[0m             \u001b[0mvalues\u001b[0m \u001b[0;34m=\u001b[0m \u001b[0mself\u001b[0m\u001b[0;34m.\u001b[0m\u001b[0m_prep_values\u001b[0m\u001b[0;34m(\u001b[0m\u001b[0mgetattr\u001b[0m\u001b[0;34m(\u001b[0m\u001b[0mbvalues\u001b[0m\u001b[0;34m,\u001b[0m \u001b[0;34m\"T\"\u001b[0m\u001b[0;34m,\u001b[0m \u001b[0mbvalues\u001b[0m\u001b[0;34m)\u001b[0m\u001b[0;34m)\u001b[0m\u001b[0;34m\u001b[0m\u001b[0;34m\u001b[0m\u001b[0m\n\u001b[0;32m--> 431\u001b[0;31m             \u001b[0mres_values\u001b[0m \u001b[0;34m=\u001b[0m \u001b[0mhomogeneous_func\u001b[0m\u001b[0;34m(\u001b[0m\u001b[0mvalues\u001b[0m\u001b[0;34m)\u001b[0m\u001b[0;34m\u001b[0m\u001b[0;34m\u001b[0m\u001b[0m\n\u001b[0m\u001b[1;32m    432\u001b[0m             \u001b[0;32mreturn\u001b[0m \u001b[0mgetattr\u001b[0m\u001b[0;34m(\u001b[0m\u001b[0mres_values\u001b[0m\u001b[0;34m,\u001b[0m \u001b[0;34m\"T\"\u001b[0m\u001b[0;34m,\u001b[0m \u001b[0mres_values\u001b[0m\u001b[0;34m)\u001b[0m\u001b[0;34m\u001b[0m\u001b[0;34m\u001b[0m\u001b[0m\n\u001b[1;32m    433\u001b[0m \u001b[0;34m\u001b[0m\u001b[0m\n",
            "\u001b[0;32m/usr/local/lib/python3.7/dist-packages/pandas/core/window/rolling.py\u001b[0m in \u001b[0;36mhomogeneous_func\u001b[0;34m(values)\u001b[0m\n\u001b[1;32m    533\u001b[0m             \u001b[0;32mwith\u001b[0m \u001b[0mnp\u001b[0m\u001b[0;34m.\u001b[0m\u001b[0merrstate\u001b[0m\u001b[0;34m(\u001b[0m\u001b[0mall\u001b[0m\u001b[0;34m=\u001b[0m\u001b[0;34m\"ignore\"\u001b[0m\u001b[0;34m)\u001b[0m\u001b[0;34m:\u001b[0m\u001b[0;34m\u001b[0m\u001b[0;34m\u001b[0m\u001b[0m\n\u001b[1;32m    534\u001b[0m                 \u001b[0;32mif\u001b[0m \u001b[0mvalues\u001b[0m\u001b[0;34m.\u001b[0m\u001b[0mndim\u001b[0m \u001b[0;34m>\u001b[0m \u001b[0;36m1\u001b[0m \u001b[0;32mand\u001b[0m \u001b[0mself\u001b[0m\u001b[0;34m.\u001b[0m\u001b[0mmethod\u001b[0m \u001b[0;34m==\u001b[0m \u001b[0;34m\"single\"\u001b[0m\u001b[0;34m:\u001b[0m\u001b[0;34m\u001b[0m\u001b[0;34m\u001b[0m\u001b[0m\n\u001b[0;32m--> 535\u001b[0;31m                     \u001b[0mresult\u001b[0m \u001b[0;34m=\u001b[0m \u001b[0mnp\u001b[0m\u001b[0;34m.\u001b[0m\u001b[0mapply_along_axis\u001b[0m\u001b[0;34m(\u001b[0m\u001b[0mcalc\u001b[0m\u001b[0;34m,\u001b[0m \u001b[0mself\u001b[0m\u001b[0;34m.\u001b[0m\u001b[0maxis\u001b[0m\u001b[0;34m,\u001b[0m \u001b[0mvalues\u001b[0m\u001b[0;34m)\u001b[0m\u001b[0;34m\u001b[0m\u001b[0;34m\u001b[0m\u001b[0m\n\u001b[0m\u001b[1;32m    536\u001b[0m                 \u001b[0;32melse\u001b[0m\u001b[0;34m:\u001b[0m\u001b[0;34m\u001b[0m\u001b[0;34m\u001b[0m\u001b[0m\n\u001b[1;32m    537\u001b[0m                     \u001b[0mresult\u001b[0m \u001b[0;34m=\u001b[0m \u001b[0mcalc\u001b[0m\u001b[0;34m(\u001b[0m\u001b[0mvalues\u001b[0m\u001b[0;34m)\u001b[0m\u001b[0;34m\u001b[0m\u001b[0;34m\u001b[0m\u001b[0m\n",
            "\u001b[0;32m<__array_function__ internals>\u001b[0m in \u001b[0;36mapply_along_axis\u001b[0;34m(*args, **kwargs)\u001b[0m\n",
            "\u001b[0;32m/usr/local/lib/python3.7/dist-packages/numpy/lib/shape_base.py\u001b[0m in \u001b[0;36mapply_along_axis\u001b[0;34m(func1d, axis, arr, *args, **kwargs)\u001b[0m\n\u001b[1;32m    400\u001b[0m     \u001b[0mbuff\u001b[0m\u001b[0;34m[\u001b[0m\u001b[0mind0\u001b[0m\u001b[0;34m]\u001b[0m \u001b[0;34m=\u001b[0m \u001b[0mres\u001b[0m\u001b[0;34m\u001b[0m\u001b[0;34m\u001b[0m\u001b[0m\n\u001b[1;32m    401\u001b[0m     \u001b[0;32mfor\u001b[0m \u001b[0mind\u001b[0m \u001b[0;32min\u001b[0m \u001b[0minds\u001b[0m\u001b[0;34m:\u001b[0m\u001b[0;34m\u001b[0m\u001b[0;34m\u001b[0m\u001b[0m\n\u001b[0;32m--> 402\u001b[0;31m         \u001b[0mbuff\u001b[0m\u001b[0;34m[\u001b[0m\u001b[0mind\u001b[0m\u001b[0;34m]\u001b[0m \u001b[0;34m=\u001b[0m \u001b[0masanyarray\u001b[0m\u001b[0;34m(\u001b[0m\u001b[0mfunc1d\u001b[0m\u001b[0;34m(\u001b[0m\u001b[0minarr_view\u001b[0m\u001b[0;34m[\u001b[0m\u001b[0mind\u001b[0m\u001b[0;34m]\u001b[0m\u001b[0;34m,\u001b[0m \u001b[0;34m*\u001b[0m\u001b[0margs\u001b[0m\u001b[0;34m,\u001b[0m \u001b[0;34m**\u001b[0m\u001b[0mkwargs\u001b[0m\u001b[0;34m)\u001b[0m\u001b[0;34m)\u001b[0m\u001b[0;34m\u001b[0m\u001b[0;34m\u001b[0m\u001b[0m\n\u001b[0m\u001b[1;32m    403\u001b[0m \u001b[0;34m\u001b[0m\u001b[0m\n\u001b[1;32m    404\u001b[0m     \u001b[0;32mif\u001b[0m \u001b[0;32mnot\u001b[0m \u001b[0misinstance\u001b[0m\u001b[0;34m(\u001b[0m\u001b[0mres\u001b[0m\u001b[0;34m,\u001b[0m \u001b[0mmatrix\u001b[0m\u001b[0;34m)\u001b[0m\u001b[0;34m:\u001b[0m\u001b[0;34m\u001b[0m\u001b[0;34m\u001b[0m\u001b[0m\n",
            "\u001b[0;32m/usr/local/lib/python3.7/dist-packages/pandas/core/window/rolling.py\u001b[0m in \u001b[0;36mcalc\u001b[0;34m(x)\u001b[0m\n\u001b[1;32m    529\u001b[0m                 ), \"these should be equal in length from get_window_bounds\"\n\u001b[1;32m    530\u001b[0m \u001b[0;34m\u001b[0m\u001b[0m\n\u001b[0;32m--> 531\u001b[0;31m                 \u001b[0;32mreturn\u001b[0m \u001b[0mfunc\u001b[0m\u001b[0;34m(\u001b[0m\u001b[0mx\u001b[0m\u001b[0;34m,\u001b[0m \u001b[0mstart\u001b[0m\u001b[0;34m,\u001b[0m \u001b[0mend\u001b[0m\u001b[0;34m,\u001b[0m \u001b[0mmin_periods\u001b[0m\u001b[0;34m)\u001b[0m\u001b[0;34m\u001b[0m\u001b[0;34m\u001b[0m\u001b[0m\n\u001b[0m\u001b[1;32m    532\u001b[0m \u001b[0;34m\u001b[0m\u001b[0m\n\u001b[1;32m    533\u001b[0m             \u001b[0;32mwith\u001b[0m \u001b[0mnp\u001b[0m\u001b[0;34m.\u001b[0m\u001b[0merrstate\u001b[0m\u001b[0;34m(\u001b[0m\u001b[0mall\u001b[0m\u001b[0;34m=\u001b[0m\u001b[0;34m\"ignore\"\u001b[0m\u001b[0;34m)\u001b[0m\u001b[0;34m:\u001b[0m\u001b[0;34m\u001b[0m\u001b[0;34m\u001b[0m\u001b[0m\n",
            "\u001b[0;32m/usr/local/lib/python3.7/dist-packages/pandas/core/window/rolling.py\u001b[0m in \u001b[0;36mapply_func\u001b[0;34m(values, begin, end, min_periods, raw)\u001b[0m\n\u001b[1;32m   1215\u001b[0m             \u001b[0;32mif\u001b[0m \u001b[0;32mnot\u001b[0m \u001b[0mraw\u001b[0m\u001b[0;34m:\u001b[0m\u001b[0;34m\u001b[0m\u001b[0;34m\u001b[0m\u001b[0m\n\u001b[1;32m   1216\u001b[0m                 \u001b[0mvalues\u001b[0m \u001b[0;34m=\u001b[0m \u001b[0mSeries\u001b[0m\u001b[0;34m(\u001b[0m\u001b[0mvalues\u001b[0m\u001b[0;34m,\u001b[0m \u001b[0mindex\u001b[0m\u001b[0;34m=\u001b[0m\u001b[0mself\u001b[0m\u001b[0;34m.\u001b[0m\u001b[0mobj\u001b[0m\u001b[0;34m.\u001b[0m\u001b[0mindex\u001b[0m\u001b[0;34m)\u001b[0m\u001b[0;34m\u001b[0m\u001b[0;34m\u001b[0m\u001b[0m\n\u001b[0;32m-> 1217\u001b[0;31m             \u001b[0;32mreturn\u001b[0m \u001b[0mwindow_func\u001b[0m\u001b[0;34m(\u001b[0m\u001b[0mvalues\u001b[0m\u001b[0;34m,\u001b[0m \u001b[0mbegin\u001b[0m\u001b[0;34m,\u001b[0m \u001b[0mend\u001b[0m\u001b[0;34m,\u001b[0m \u001b[0mmin_periods\u001b[0m\u001b[0;34m)\u001b[0m\u001b[0;34m\u001b[0m\u001b[0;34m\u001b[0m\u001b[0m\n\u001b[0m\u001b[1;32m   1218\u001b[0m \u001b[0;34m\u001b[0m\u001b[0m\n\u001b[1;32m   1219\u001b[0m         \u001b[0;32mreturn\u001b[0m \u001b[0mapply_func\u001b[0m\u001b[0;34m\u001b[0m\u001b[0;34m\u001b[0m\u001b[0m\n",
            "\u001b[0;32m/usr/local/lib/python3.7/dist-packages/pandas/_libs/window/aggregations.pyx\u001b[0m in \u001b[0;36mpandas._libs.window.aggregations.roll_apply\u001b[0;34m()\u001b[0m\n",
            "\u001b[0;32m<ipython-input-21-3c266da1dbd5>\u001b[0m in \u001b[0;36mbinned_entropy\u001b[0;34m(x, max_bins)\u001b[0m\n\u001b[1;32m    252\u001b[0m \u001b[0;34m\u001b[0m\u001b[0m\n\u001b[1;32m    253\u001b[0m     \u001b[0;31m# nan makes no sense here\u001b[0m\u001b[0;34m\u001b[0m\u001b[0;34m\u001b[0m\u001b[0;34m\u001b[0m\u001b[0m\n\u001b[0;32m--> 254\u001b[0;31m     \u001b[0;32mif\u001b[0m \u001b[0mnp\u001b[0m\u001b[0;34m.\u001b[0m\u001b[0misnan\u001b[0m\u001b[0;34m(\u001b[0m\u001b[0mx\u001b[0m\u001b[0;34m)\u001b[0m\u001b[0;34m.\u001b[0m\u001b[0many\u001b[0m\u001b[0;34m(\u001b[0m\u001b[0;34m)\u001b[0m\u001b[0;34m:\u001b[0m\u001b[0;34m\u001b[0m\u001b[0;34m\u001b[0m\u001b[0m\n\u001b[0m\u001b[1;32m    255\u001b[0m         \u001b[0;32mreturn\u001b[0m \u001b[0mnp\u001b[0m\u001b[0;34m.\u001b[0m\u001b[0mnan\u001b[0m\u001b[0;34m\u001b[0m\u001b[0;34m\u001b[0m\u001b[0m\n\u001b[1;32m    256\u001b[0m \u001b[0;34m\u001b[0m\u001b[0m\n",
            "\u001b[0;32m/usr/local/lib/python3.7/dist-packages/pandas/core/generic.py\u001b[0m in \u001b[0;36m__array_ufunc__\u001b[0;34m(self, ufunc, method, *inputs, **kwargs)\u001b[0m\n\u001b[1;32m   2030\u001b[0m         \u001b[0mself\u001b[0m\u001b[0;34m,\u001b[0m \u001b[0mufunc\u001b[0m\u001b[0;34m:\u001b[0m \u001b[0mnp\u001b[0m\u001b[0;34m.\u001b[0m\u001b[0mufunc\u001b[0m\u001b[0;34m,\u001b[0m \u001b[0mmethod\u001b[0m\u001b[0;34m:\u001b[0m \u001b[0mstr\u001b[0m\u001b[0;34m,\u001b[0m \u001b[0;34m*\u001b[0m\u001b[0minputs\u001b[0m\u001b[0;34m:\u001b[0m \u001b[0mAny\u001b[0m\u001b[0;34m,\u001b[0m \u001b[0;34m**\u001b[0m\u001b[0mkwargs\u001b[0m\u001b[0;34m:\u001b[0m \u001b[0mAny\u001b[0m\u001b[0;34m\u001b[0m\u001b[0;34m\u001b[0m\u001b[0m\n\u001b[1;32m   2031\u001b[0m     ):\n\u001b[0;32m-> 2032\u001b[0;31m         \u001b[0;32mreturn\u001b[0m \u001b[0marraylike\u001b[0m\u001b[0;34m.\u001b[0m\u001b[0marray_ufunc\u001b[0m\u001b[0;34m(\u001b[0m\u001b[0mself\u001b[0m\u001b[0;34m,\u001b[0m \u001b[0mufunc\u001b[0m\u001b[0;34m,\u001b[0m \u001b[0mmethod\u001b[0m\u001b[0;34m,\u001b[0m \u001b[0;34m*\u001b[0m\u001b[0minputs\u001b[0m\u001b[0;34m,\u001b[0m \u001b[0;34m**\u001b[0m\u001b[0mkwargs\u001b[0m\u001b[0;34m)\u001b[0m\u001b[0;34m\u001b[0m\u001b[0;34m\u001b[0m\u001b[0m\n\u001b[0m\u001b[1;32m   2033\u001b[0m \u001b[0;34m\u001b[0m\u001b[0m\n\u001b[1;32m   2034\u001b[0m     \u001b[0;31m# ideally we would define this to avoid the getattr checks, but\u001b[0m\u001b[0;34m\u001b[0m\u001b[0;34m\u001b[0m\u001b[0;34m\u001b[0m\u001b[0m\n",
            "\u001b[0;32m/usr/local/lib/python3.7/dist-packages/pandas/core/arraylike.py\u001b[0m in \u001b[0;36marray_ufunc\u001b[0;34m(self, ufunc, method, *inputs, **kwargs)\u001b[0m\n\u001b[1;32m    247\u001b[0m     \u001b[0;31m# for backwards compatibility check and potentially fallback for non-aligned frames\u001b[0m\u001b[0;34m\u001b[0m\u001b[0;34m\u001b[0m\u001b[0;34m\u001b[0m\u001b[0m\n\u001b[1;32m    248\u001b[0m     \u001b[0mresult\u001b[0m \u001b[0;34m=\u001b[0m \u001b[0m_maybe_fallback\u001b[0m\u001b[0;34m(\u001b[0m\u001b[0mufunc\u001b[0m\u001b[0;34m,\u001b[0m \u001b[0mmethod\u001b[0m\u001b[0;34m,\u001b[0m \u001b[0;34m*\u001b[0m\u001b[0minputs\u001b[0m\u001b[0;34m,\u001b[0m \u001b[0;34m**\u001b[0m\u001b[0mkwargs\u001b[0m\u001b[0;34m)\u001b[0m\u001b[0;34m\u001b[0m\u001b[0;34m\u001b[0m\u001b[0m\n\u001b[0;32m--> 249\u001b[0;31m     \u001b[0;32mif\u001b[0m \u001b[0mresult\u001b[0m \u001b[0;32mis\u001b[0m \u001b[0;32mnot\u001b[0m \u001b[0mNotImplemented\u001b[0m\u001b[0;34m:\u001b[0m\u001b[0;34m\u001b[0m\u001b[0;34m\u001b[0m\u001b[0m\n\u001b[0m\u001b[1;32m    250\u001b[0m         \u001b[0;32mreturn\u001b[0m \u001b[0mresult\u001b[0m\u001b[0;34m\u001b[0m\u001b[0;34m\u001b[0m\u001b[0m\n\u001b[1;32m    251\u001b[0m \u001b[0;34m\u001b[0m\u001b[0m\n",
            "\u001b[0;31mKeyboardInterrupt\u001b[0m: "
          ]
        }
      ],
      "source": [
        "#functs = ['zero_cross','mean','abs_energy','pk_pk_distance','mean_diff','mean_second_derivative_central','ratio_value_number_to_time_series_length','count_above_mean']\n",
        "#functions = [zero_cross,np.mean,abs_energy,pk_pk_distance,mean_diff,mean_second_derivative_central,ratio_value_number_to_time_series_length,count_above_mean]\n",
        "#functs =    ['count_above_mean','ratio_value_number_to_time_series_length','mean_second_derivative_central']\n",
        "#functions = [count_above_mean,ratio_value_number_to_time_series_length,mean_second_derivative_central]\n",
        "#functs = ['variance_larger_than_standard_deviation','zero_cross','mean','abs_energy','pk_pk_distance','mean_diff']\n",
        "#functions = [variance_larger_than_standard_deviation,zero_cross,np.mean,abs_energy,pk_pk_distance,mean_diff]\n",
        "functs =    ['binned_entropy','sum_of_reoccurring_values']\n",
        "functions = [binned_entropy,sum_of_reoccurring_values]\n",
        "\n",
        "res = []\n",
        "windows = [8]\n",
        "for window in windows:\n",
        "  for i in range(len(functs)):\n",
        "    try:\n",
        "      X = X_train_a.groupby('ticker').rolling(window).apply(functions[i],engine='numba',raw=True).add_suffix(\"{}\".format(functs[i]+str(window)))\n",
        "    except:\n",
        "      X = X_train_a.groupby('ticker').rolling(window).apply(functions[i]).add_suffix(\"{}\".format(functs[i]))\n",
        "    X = X.reset_index(drop=True)\n",
        "    features = FeatureWiz(corr_limit=0.30, feature_engg='', category_encoders='',dask_xgboost_flag=False, nrows=None, verbose=0)\n",
        "    X = features.fit_transform(X,y_train_a)\n",
        "    res.append(X)"
      ]
    },
    {
      "cell_type": "code",
      "execution_count": null,
      "metadata": {
        "id": "C6W22ePDF_Zm"
      },
      "outputs": [],
      "source": []
    },
    {
      "cell_type": "markdown",
      "metadata": {
        "id": "2cwV8afaF_Zm"
      },
      "source": [
        "#### Append the results"
      ]
    },
    {
      "cell_type": "code",
      "execution_count": null,
      "metadata": {
        "id": "ZCthXJzhF_Zm"
      },
      "outputs": [],
      "source": [
        "res.append(X_train_a)"
      ]
    },
    {
      "cell_type": "code",
      "execution_count": null,
      "metadata": {
        "id": "YyZlsacqF_Zn"
      },
      "outputs": [],
      "source": [
        "from functools import reduce\n",
        "df = reduce(lambda x, y: x.join(y), res)"
      ]
    },
    {
      "cell_type": "code",
      "execution_count": null,
      "metadata": {
        "id": "I9yiqWTpF_Zn"
      },
      "outputs": [],
      "source": [
        "del res\n",
        "del X_train_a"
      ]
    },
    {
      "cell_type": "code",
      "execution_count": null,
      "metadata": {
        "id": "Ouj9h_LBF_Zn"
      },
      "outputs": [],
      "source": [
        "#df = df2.copy()\n",
        "#del df2"
      ]
    },
    {
      "cell_type": "code",
      "execution_count": null,
      "metadata": {
        "id": "bRsvS6UgF_Zn"
      },
      "outputs": [],
      "source": [
        "df.shape"
      ]
    },
    {
      "cell_type": "code",
      "execution_count": null,
      "metadata": {
        "id": "iXbHxRMsF_Zn"
      },
      "outputs": [],
      "source": [
        "### Feature Selection at each stage to reduce data size\n",
        "features = FeatureWiz(corr_limit=0.60, feature_engg='', category_encoders='',dask_xgboost_flag=False, nrows=None, verbose=0)\n",
        "df = features.fit_transform(df,y_train_a)\n"
      ]
    },
    {
      "cell_type": "code",
      "execution_count": null,
      "metadata": {
        "id": "CLiaZBOnF_Zo"
      },
      "outputs": [],
      "source": [
        "df.shape"
      ]
    },
    {
      "cell_type": "markdown",
      "metadata": {
        "id": "tUXEtdaDcqjX"
      },
      "source": [
        "#### Training Preparations"
      ]
    },
    {
      "cell_type": "code",
      "execution_count": null,
      "metadata": {
        "id": "GYexXqpsWmQu"
      },
      "outputs": [],
      "source": [
        "y_train_a = y_train_a.reset_index(drop=True)"
      ]
    },
    {
      "cell_type": "code",
      "execution_count": null,
      "metadata": {
        "id": "ibgiaMqOcqjX"
      },
      "outputs": [],
      "source": [
        "df['target'] = y_train_a['target']\n"
      ]
    },
    {
      "cell_type": "code",
      "execution_count": null,
      "metadata": {
        "id": "7drXP68Wxk44"
      },
      "outputs": [],
      "source": [
        "df.shape"
      ]
    },
    {
      "cell_type": "code",
      "execution_count": null,
      "metadata": {
        "id": "V2vVPa500BOO"
      },
      "outputs": [],
      "source": [
        "knowledge = knowledge.reset_index(drop=True)"
      ]
    },
    {
      "cell_type": "code",
      "execution_count": null,
      "metadata": {
        "id": "CruDSZzA0Jyw"
      },
      "outputs": [],
      "source": [
        "df['date'] = knowledge['date']"
      ]
    },
    {
      "cell_type": "code",
      "execution_count": null,
      "metadata": {
        "id": "597LBnVL0_LZ"
      },
      "outputs": [],
      "source": [
        "df['ticker'] = knowledge['ticker']"
      ]
    },
    {
      "cell_type": "code",
      "execution_count": null,
      "metadata": {
        "id": "nacyLbRay0JP"
      },
      "outputs": [],
      "source": [
        "#df.to_csv('feature_trained.csv')"
      ]
    },
    {
      "cell_type": "code",
      "execution_count": null,
      "metadata": {
        "id": "AcIhQnQ1xb6n"
      },
      "outputs": [],
      "source": []
    },
    {
      "cell_type": "code",
      "execution_count": null,
      "metadata": {
        "id": "GKMTZ05wcqjX"
      },
      "outputs": [],
      "source": [
        "#y = df['target']\n",
        "#df = df.drop(['target'],axis=1)"
      ]
    },
    {
      "cell_type": "code",
      "execution_count": null,
      "metadata": {
        "id": "fMVBz2nKxYP5"
      },
      "outputs": [],
      "source": [
        "# df = df.dropna(axis=0)\n",
        "# df = df.reset_index(drop=True)"
      ]
    },
    {
      "cell_type": "code",
      "execution_count": null,
      "metadata": {
        "id": "VLvKlIGo4S1I"
      },
      "outputs": [],
      "source": [
        "#features = df.columns\n",
        "#features = features.drop(['date', 'target','ticker'])"
      ]
    },
    {
      "cell_type": "code",
      "execution_count": null,
      "metadata": {
        "id": "dL_F-VSww6oO"
      },
      "outputs": [],
      "source": [
        "# def time_series_split(data, split_percent = 0.7):\n",
        "#   min_date = data.date.min()\n",
        "#   max_date = data.date.max()\n",
        "#   #print(\"Min:\", min_date, \"Max:\", max_date)\n",
        "#   time_between = max_date - min_date\n",
        "#   train_cutoff = min_date + split_percent*time_between\n",
        "#   #print(\"train_cutoff:\", train_cutoff)\n",
        "#   train_df = data[data.date <= train_cutoff]['formulae_index'].tolist()\n",
        "#   test_df = data[data.date > train_cutoff]['formulae_index'].index.tolist()\n",
        "#   #print(\"Train:\", train_df.date.min(), train_df.date.max(), train_df.shape)\n",
        "#   #print(\"Test:\", test_df.date.min(), test_df.date.max(), test_df.shape)\n",
        "#   return train_df, test_df, train_cutoff "
      ]
    },
    {
      "cell_type": "code",
      "execution_count": null,
      "metadata": {
        "id": "2rhJBVKtw8Q4"
      },
      "outputs": [],
      "source": [
        "# train_final = []\n",
        "# test_final = []\n",
        "# X_train_a['formulae_index'] = X_train_a.index\n",
        "# tickers = X_train_a['ticker'].unique().tolist()\n",
        "# for t in tickers:\n",
        "#   df_temp = X_train_a[X_train_a['ticker'] == t]\n",
        "#   train_data, test_data, train_cutoff = time_series_split(df_temp, split_percent = 0.8)\n",
        "#   if ((len(train_data)>0)&(len(test_data)>0)):\n",
        "#     train_final.extend(train_data)\n",
        "#     test_final.extend(test_data)\n",
        "#   del df_temp\n"
      ]
    },
    {
      "cell_type": "code",
      "execution_count": null,
      "metadata": {
        "id": "kpMEGI4dw6rO"
      },
      "outputs": [],
      "source": [
        "#train_complete.drop(labels=['date','ticker','index'], axis = 1, inplace = True)\n",
        "#test_complete.drop(labels=['date','ticker','index'], axis = 1, inplace = True)\n",
        "#train_complete.shape"
      ]
    },
    {
      "cell_type": "code",
      "execution_count": null,
      "metadata": {
        "id": "HPHGRyjACpnL"
      },
      "outputs": [],
      "source": [
        "#test_complete.shape"
      ]
    },
    {
      "cell_type": "markdown",
      "metadata": {
        "id": "xRBXwxZBbBcx"
      },
      "source": [
        "#### Reserved Indexes Put"
      ]
    },
    {
      "cell_type": "code",
      "execution_count": null,
      "metadata": {
        "id": "jpxNippuZ-IU"
      },
      "outputs": [],
      "source": [
        "import pickle"
      ]
    },
    {
      "cell_type": "code",
      "execution_count": null,
      "metadata": {
        "id": "VYdFqngybWtJ"
      },
      "outputs": [],
      "source": [
        "df = df.reset_index(drop=True)"
      ]
    },
    {
      "cell_type": "code",
      "execution_count": null,
      "metadata": {
        "id": "A0m4Nyr3cVsl"
      },
      "outputs": [],
      "source": [
        "df.shape"
      ]
    },
    {
      "cell_type": "code",
      "execution_count": null,
      "metadata": {
        "id": "ifETINXKVV2W"
      },
      "outputs": [],
      "source": [
        "with open(\"train_final\", \"rb\") as fp:   # Unpickling\n",
        "  train_final = pickle.load(fp)\n",
        "\n",
        "with open(\"test_final\", \"rb\") as fp:   # Unpickling\n",
        "  test_final = pickle.load(fp)"
      ]
    },
    {
      "cell_type": "code",
      "execution_count": null,
      "metadata": {
        "id": "yhdc_mKtand3"
      },
      "outputs": [],
      "source": [
        "#df['formulae_index'] = df.index"
      ]
    },
    {
      "cell_type": "code",
      "execution_count": null,
      "metadata": {
        "id": "rpOnUrcJGtHk"
      },
      "outputs": [],
      "source": [
        "test_complete = df[df.index.isin(test_final)]\n",
        "train_complete = df[df.index.isin(train_final)]"
      ]
    },
    {
      "cell_type": "code",
      "execution_count": null,
      "metadata": {
        "id": "MwtO5rlCWPsm"
      },
      "outputs": [],
      "source": [
        "# df = df.reset_index(drop=True)\n",
        "# df = df.dropna(axis=0)\n",
        "# df = df.reset_index(drop=True)"
      ]
    },
    {
      "cell_type": "code",
      "execution_count": null,
      "metadata": {
        "id": "UQJ4EOydaVEN"
      },
      "outputs": [],
      "source": [
        "# test_complete = df[df.formulae_index.isin(test_final)]\n",
        "# train_complete = df[df.formulae_index.isin(train_final)]"
      ]
    },
    {
      "cell_type": "code",
      "execution_count": null,
      "metadata": {
        "id": "qTXp6uLPbbuK"
      },
      "outputs": [],
      "source": [
        "train_complete = train_complete.reset_index(drop=True)\n",
        "train_complete = train_complete.dropna(axis=0)\n",
        "train_complete = train_complete.reset_index(drop=True)"
      ]
    },
    {
      "cell_type": "code",
      "execution_count": null,
      "metadata": {
        "id": "UW7k6B9IbjFC"
      },
      "outputs": [],
      "source": [
        "test_complete = test_complete.reset_index(drop=True)\n",
        "test_complete = test_complete.dropna(axis=0)\n",
        "test_complete = test_complete.reset_index(drop=True)"
      ]
    },
    {
      "cell_type": "code",
      "execution_count": null,
      "metadata": {
        "id": "bWJXeHXCCtnL"
      },
      "outputs": [],
      "source": [
        "y_train = train_complete['target']"
      ]
    },
    {
      "cell_type": "code",
      "execution_count": null,
      "metadata": {
        "id": "37-PjHMXC4YN"
      },
      "outputs": [],
      "source": [
        "y_test = test_complete['target']"
      ]
    },
    {
      "cell_type": "code",
      "execution_count": null,
      "metadata": {
        "id": "X7ZD-mqXactV"
      },
      "outputs": [],
      "source": [
        "y_train.shape"
      ]
    },
    {
      "cell_type": "code",
      "execution_count": null,
      "metadata": {
        "id": "vi398TMZC8Il"
      },
      "outputs": [],
      "source": [
        "y_test.shape"
      ]
    },
    {
      "cell_type": "code",
      "execution_count": null,
      "metadata": {
        "id": "rGIyFr98aF0U"
      },
      "outputs": [],
      "source": [
        "train_complete.shape"
      ]
    },
    {
      "cell_type": "code",
      "execution_count": null,
      "metadata": {
        "id": "OyoTkHtrcqjX"
      },
      "outputs": [],
      "source": [
        "#sm = SMOTE(random_state=42)\n",
        "#df, y = sm.fit_resample(df, y)\n",
        "#df_train, df_test, y_train, y_test = train_test_split(df, y, test_size=0.33, shuffle=True, random_state=42)"
      ]
    },
    {
      "cell_type": "code",
      "execution_count": null,
      "metadata": {
        "id": "VTrMQiyuC_lO"
      },
      "outputs": [],
      "source": [
        "# try:\n",
        "#   train_complete = train_complete.drop(labels=['date','ticker','index','formulae_index'], axis = 1, inplace = True)\n",
        "#   test_complete = test_complete.drop(labels=['date','ticker','index','formulae_index'], axis = 1, inplace = True)\n",
        "# except:\n",
        "train_complete = train_complete.drop(labels=['date','ticker','target'], axis = 1)\n",
        "test_complete = test_complete.drop(labels=['date','ticker','target'], axis = 1)"
      ]
    },
    {
      "cell_type": "code",
      "execution_count": null,
      "metadata": {
        "id": "4Y0e6uk6dMuY"
      },
      "outputs": [],
      "source": [
        "train_complete.shape"
      ]
    },
    {
      "cell_type": "code",
      "execution_count": null,
      "metadata": {
        "id": "lKpbYw9ydQCA"
      },
      "outputs": [],
      "source": [
        "test_complete.shape"
      ]
    },
    {
      "cell_type": "markdown",
      "metadata": {
        "id": "LvMr_k7YpsvK"
      },
      "source": [
        "#### Evaluations"
      ]
    },
    {
      "cell_type": "code",
      "execution_count": null,
      "metadata": {
        "id": "rCHDBcmpcqjY"
      },
      "outputs": [],
      "source": [
        "###Model training and testing\n",
        "clf = LGBMClassifier()\n",
        "clf.fit(train_complete, y_train)"
      ]
    },
    {
      "cell_type": "code",
      "execution_count": null,
      "metadata": {
        "id": "p55bxBbXcqjY"
      },
      "outputs": [],
      "source": [
        "### Perform the prediction and compute the scores\n",
        "ypred = clf.predict(test_complete)\n",
        "accuracyscore = accuracy_score(ypred,y_test)\n",
        "f1score = f1_score(ypred,y_test)\n",
        "cnfscore = confusion_matrix(ypred,y_test)\n",
        "roc_score = roc_auc_score(ypred,y_test)"
      ]
    },
    {
      "cell_type": "code",
      "execution_count": null,
      "metadata": {
        "id": "g3Zg8qIKcqjY"
      },
      "outputs": [],
      "source": [
        "### Print the Results\n",
        "print(\"Accuracy \",accuracyscore)\n",
        "print(\"F1 Score \",f1score)\n",
        "print(cnfscore)\n",
        "print(\"Baseline roc_auc score {:.3f}\".format(roc_score))"
      ]
    },
    {
      "cell_type": "code",
      "execution_count": null,
      "metadata": {
        "id": "L-bQfy8ucUlE"
      },
      "outputs": [],
      "source": [
        "### Baseline roc_auc score 0.\n",
        "### All feature roc_auc_Score 0.530\n",
        "### With SULOV 0.554"
      ]
    },
    {
      "cell_type": "code",
      "execution_count": null,
      "metadata": {
        "id": "HSKpCt7rzO6m"
      },
      "outputs": [],
      "source": [
        "pd.DataFrame(y_train).value_counts()"
      ]
    },
    {
      "cell_type": "code",
      "execution_count": null,
      "metadata": {
        "id": "mvEITOWAzTIP"
      },
      "outputs": [],
      "source": [
        "pd.DataFrame(y_test).value_counts()"
      ]
    },
    {
      "cell_type": "code",
      "execution_count": null,
      "metadata": {
        "id": "L7z1hTj0Mb-a"
      },
      "outputs": [],
      "source": []
    },
    {
      "cell_type": "markdown",
      "metadata": {
        "id": "qEGKt7AhIRFE"
      },
      "source": [
        "**Performance Results**\n",
        "1. Baseline Score: 0.530\n",
        "2. lr :0.01 -> 0.532\n",
        "3. lr :0.001 -> overfitting->\n",
        "4. lr:0.01, 1000 estimators->0.539\n",
        "5. lr : 0.1, no scaling ->0.576\n",
        "6. lr : 0.01, no scaling ->0.578\n",
        "7. baseline + count_above_mean ->0.48"
      ]
    },
    {
      "cell_type": "code",
      "execution_count": null,
      "metadata": {
        "id": "s5qskUj1Mcpx"
      },
      "outputs": [],
      "source": []
    },
    {
      "cell_type": "code",
      "execution_count": null,
      "metadata": {
        "id": "N1Nsn1pcMcsf"
      },
      "outputs": [],
      "source": []
    },
    {
      "cell_type": "markdown",
      "metadata": {
        "id": "EuKFPu3MMfMK"
      },
      "source": [
        "### C. Store Indexes"
      ]
    },
    {
      "cell_type": "code",
      "execution_count": null,
      "metadata": {
        "id": "iOF4uQglNOuj"
      },
      "outputs": [],
      "source": []
    },
    {
      "cell_type": "markdown",
      "metadata": {
        "id": "Ld-sF72qNO7M"
      },
      "source": [
        "#### Data Download"
      ]
    },
    {
      "cell_type": "code",
      "execution_count": null,
      "metadata": {
        "id": "4cKRSD56NO7N"
      },
      "outputs": [],
      "source": [
        "X_train_a = pd.read_parquet(\"https://storage.googleapis.com/public-quant/bankrupt_2022/X_train_1.park\")\n",
        "knowledge = pd.read_parquet(\"https://storage.googleapis.com/public-quant/bankrupt_2022/knowledge.park\")\n",
        "y_train_a = pd.read_parquet(\"https://storage.googleapis.com/public-quant/bankrupt_2022/y_train_1.park\")"
      ]
    },
    {
      "cell_type": "code",
      "execution_count": null,
      "metadata": {
        "id": "L9acUuVwNO7N"
      },
      "outputs": [],
      "source": [
        "def reduce_mem_usage(df, verbose=True):\n",
        "    numerics = ['int16', 'int32', 'int64', 'float16', 'float32', 'float64']\n",
        "    start_mem = df.memory_usage().sum() / 1024**2    \n",
        "    for col in df.columns:\n",
        "        col_type = df[col].dtypes\n",
        "        if col_type in numerics:\n",
        "            c_min = df[col].min()\n",
        "            c_max = df[col].max()\n",
        "            if str(col_type)[:3] == 'int':\n",
        "                if c_min > np.iinfo(np.int8).min and c_max < np.iinfo(np.int8).max:\n",
        "                    df[col] = df[col].astype(np.int8)\n",
        "                elif c_min > np.iinfo(np.int16).min and c_max < np.iinfo(np.int16).max:\n",
        "                    df[col] = df[col].astype(np.int16)\n",
        "                elif c_min > np.iinfo(np.int32).min and c_max < np.iinfo(np.int32).max:\n",
        "                    df[col] = df[col].astype(np.int32)\n",
        "                elif c_min > np.iinfo(np.int64).min and c_max < np.iinfo(np.int64).max:\n",
        "                    df[col] = df[col].astype(np.int64)  \n",
        "            else:\n",
        "                if c_min > np.finfo(np.float16).min and c_max < np.finfo(np.float16).max:\n",
        "                    df[col] = df[col].astype(np.float16)\n",
        "                elif c_min > np.finfo(np.float32).min and c_max < np.finfo(np.float32).max:\n",
        "                    df[col] = df[col].astype(np.float32)\n",
        "                else:\n",
        "                    df[col] = df[col].astype(np.float64)    \n",
        "    end_mem = df.memory_usage().sum() / 1024**2\n",
        "    if verbose: print('Mem. usage decreased to {:5.2f} Mb ({:.1f}% reduction)'.format(end_mem, 100 * (start_mem - end_mem) / start_mem))\n",
        "    return df"
      ]
    },
    {
      "cell_type": "code",
      "execution_count": null,
      "metadata": {
        "colab": {
          "base_uri": "https://localhost:8080/"
        },
        "id": "y8_R16lzNO7O",
        "outputId": "e083b869-505e-421d-eade-0b29923d474a"
      },
      "outputs": [
        {
          "name": "stdout",
          "output_type": "stream",
          "text": [
            "Mem. usage decreased to 555.58 Mb (54.1% reduction)\n"
          ]
        }
      ],
      "source": [
        "df = reduce_mem_usage(X_train_a, verbose=True)"
      ]
    },
    {
      "cell_type": "code",
      "execution_count": null,
      "metadata": {
        "colab": {
          "base_uri": "https://localhost:8080/"
        },
        "id": "goriWTpVNO7O",
        "outputId": "7648f113-95e0-4a05-e791-7f5599a69034"
      },
      "outputs": [
        {
          "data": {
            "text/plain": [
              "(1300365, 121)"
            ]
          },
          "execution_count": 27,
          "metadata": {},
          "output_type": "execute_result"
        }
      ],
      "source": [
        "df.shape"
      ]
    },
    {
      "cell_type": "code",
      "execution_count": null,
      "metadata": {
        "colab": {
          "base_uri": "https://localhost:8080/"
        },
        "id": "8BhrH83PNO7P",
        "outputId": "017f1ee6-1c3e-48a1-a282-ab0e402890c8"
      },
      "outputs": [
        {
          "name": "stdout",
          "output_type": "stream",
          "text": [
            "wiz = FeatureWiz(verbose=1)\n",
            "        X_train_selected = wiz.fit_transform(X_train, y_train)\n",
            "        X_test_selected = wiz.transform(X_test)\n",
            "        wiz.features  ### provides a list of selected features ###            \n",
            "        \n",
            "############################################################################################\n",
            "############       F A S T   F E A T U R E  E N G G    A N D    S E L E C T I O N ! ########\n",
            "# Be judicious with featurewiz. Don't use it to create too many un-interpretable features! #\n",
            "############################################################################################\n",
            "correlation limit = 0.6\n",
            "Skipping feature engineering since no feature_engg input...\n",
            "Skipping category encoding since no category encoders specified in input...\n",
            "#### Single_Label Binary_Classification problem ####\n",
            "    Caution: We will try to reduce the memory usage of dataframe from 565.50 MB\n",
            "        memory usage after optimization is: 558.06 MB\n",
            "        decreased by 1.3%\n",
            "    Loaded train data. Shape = (1300365, 122)\n",
            "#### Single_Label Binary_Classification problem ####\n",
            "No test data filename given...\n",
            "Classifying features using a random sample of 10000 rows from dataset...\n",
            "#### Single_Label Binary_Classification problem ####\n",
            "    loading a random sample of 10000 rows into pandas for EDA\n",
            "#######################################################################################\n",
            "######################## C L A S S I F Y I N G  V A R I A B L E S  ####################\n",
            "#######################################################################################\n",
            "        No variables were removed since no ID or low-information variables found in data set\n",
            "    Running SULOV on smaller dataset sample since data size 158 m > 50 m. Continuing ...\n",
            "#######################################################################################\n",
            "#####  Searching for Uncorrelated List Of Variables (SULOV) in 121 features ############\n",
            "#######################################################################################\n",
            "    there are no null values in dataset...\n",
            "    Removing (75) highly correlated variables:\n",
            "Completed SULOV. 46 features selected\n",
            "Time taken for SULOV method = 10 seconds\n",
            "Finally 46 vars selected after SULOV\n",
            "Converting all features to numeric before sending to XGBoost...\n",
            "#######################################################################################\n",
            "#####    R E C U R S I V E   X G B O O S T : F E A T U R E   S E L E C T I O N  #######\n",
            "#######################################################################################\n",
            "Current number of predictors before recursive XGBoost = 46 \n",
            "Number of booster rounds = 20\n",
            "Regular XGBoost is crashing due to: [11:08:02] /workspace/src/tree/updater_gpu_hist.cu:1407: Exception in gpu_hist: NCCL failure :unhandled cuda error /workspace/src/tree/../common/device_helpers.cuh(896)\n",
            "\n",
            "Stack trace:\n",
            "  [bt] (0) /usr/local/lib/python3.7/dist-packages/xgboost/./lib/libxgboost.so(dmlc::LogMessageFatal::~LogMessageFatal()+0x24) [0x7f6d0ce99cb4]\n",
            "  [bt] (1) /usr/local/lib/python3.7/dist-packages/xgboost/./lib/libxgboost.so(xgboost::tree::GPUHistMakerSpecialised<xgboost::detail::GradientPairInternal<double> >::Update(xgboost::HostDeviceVector<xgboost::detail::GradientPairInternal<float> >*, xgboost::DMatrix*, std::vector<xgboost::RegTree*, std::allocator<xgboost::RegTree*> > const&)+0x1270) [0x7f6d0d0d57f0]\n",
            "  [bt] (2) /usr/local/lib/python3.7/dist-packages/xgboost/./lib/libxgboost.so(xgboost::gbm::GBTree::BoostNewTrees(xgboost::HostDeviceVector<xgboost::detail::GradientPairInternal<float> >*, xgboost::DMatrix*, int, std::vector<std::unique_ptr<xgboost::RegTree, std::default_delete<xgboost::RegTree> >, std::allocator<std::unique_ptr<xgboost::RegTree, std::default_delete<xgboost::RegTree> > > >*)+0xa81) [0x7f6d0cf1f791]\n",
            "  [bt] (3) /usr/local/lib/python3.7/dist-packages/xgboost/./lib/libxgboost.so(xgboost::gbm::GBTree::DoBoost(xgboost::DMatrix*, xgboost::HostDeviceVector<xgboost::detail::GradientPairInternal<float> >*, xgboost::ObjFunction*)+0xd65) [0x7f6d0cf20c95]\n",
            "  [bt] (4) /usr/local/lib/python3.7/dist-packages/xgboost/./lib/libxgboost.so(xgboost::LearnerImpl::UpdateOneIter(int, xgboost::DMatrix*)+0x396) [0x7f6d0cf33556]\n",
            "  [bt] (5) /usr/local/lib/python3.7/dist-packages/xgboost/./lib/libxgboost.so(XGBoosterUpdateOneIter+0x35) [0x7f6d0ce96aa5]\n",
            "  [bt] (6) /usr/lib/x86_64-linux-gnu/libffi.so.6(ffi_call_unix64+0x4c) [0x7f6d4355ddae]\n",
            "  [bt] (7) /usr/lib/x86_64-linux-gnu/libffi.so.6(ffi_call+0x22f) [0x7f6d4355d71f]\n",
            "  [bt] (8) /usr/lib/python3.7/lib-dynload/_ctypes.cpython-37m-x86_64-linux-gnu.so(+0xd849) [0x7f6d4376d849]\n",
            "\n",
            "\n",
            "[11:08:02] /workspace/src/tree/updater_gpu_hist.cu:1407: Exception in gpu_hist: NCCL failure :unhandled cuda error /workspace/src/tree/../common/device_helpers.cuh(896)\n",
            "\n",
            "Stack trace:\n",
            "  [bt] (0) /usr/local/lib/python3.7/dist-packages/xgboost/./lib/libxgboost.so(dmlc::LogMessageFatal::~LogMessageFatal()+0x24) [0x7f6d0ce99cb4]\n",
            "  [bt] (1) /usr/local/lib/python3.7/dist-packages/xgboost/./lib/libxgboost.so(xgboost::tree::GPUHistMakerSpecialised<xgboost::detail::GradientPairInternal<double> >::Update(xgboost::HostDeviceVector<xgboost::detail::GradientPairInternal<float> >*, xgboost::DMatrix*, std::vector<xgboost::RegTree*, std::allocator<xgboost::RegTree*> > const&)+0x1270) [0x7f6d0d0d57f0]\n",
            "  [bt] (2) /usr/local/lib/python3.7/dist-packages/xgboost/./lib/libxgboost.so(xgboost::gbm::GBTree::BoostNewTrees(xgboost::HostDeviceVector<xgboost::detail::GradientPairInternal<float> >*, xgboost::DMatrix*, int, std::vector<std::unique_ptr<xgboost::RegTree, std::default_delete<xgboost::RegTree> >, std::allocator<std::unique_ptr<xgboost::RegTree, std::default_delete<xgboost::RegTree> > > >*)+0xa81) [0x7f6d0cf1f791]\n",
            "  [bt] (3) /usr/local/lib/python3.7/dist-packages/xgboost/./lib/libxgboost.so(xgboost::gbm::GBTree::DoBoost(xgboost::DMatrix*, xgboost::HostDeviceVector<xgboost::detail::GradientPairInternal<float> >*, xgboost::ObjFunction*)+0xd65) [0x7f6d0cf20c95]\n",
            "  [bt] (4) /usr/local/lib/python3.7/dist-packages/xgboost/./lib/libxgboost.so(xgboost::LearnerImpl::UpdateOneIter(int, xgboost::DMatrix*)+0x396) [0x7f6d0cf33556]\n",
            "  [bt] (5) /usr/local/lib/python3.7/dist-packages/xgboost/./lib/libxgboost.so(XGBoosterUpdateOneIter+0x35) [0x7f6d0ce96aa5]\n",
            "  [bt] (6) /usr/lib/x86_64-linux-gnu/libffi.so.6(ffi_call_unix64+0x4c) [0x7f6d4355ddae]\n",
            "  [bt] (7) /usr/lib/x86_64-linux-gnu/libffi.so.6(ffi_call+0x22f) [0x7f6d4355d71f]\n",
            "  [bt] (8) /usr/lib/python3.7/lib-dynload/_ctypes.cpython-37m-x86_64-linux-gnu.so(+0xd849) [0x7f6d4376d849]\n",
            "\n",
            "\n",
            "Regular XGBoost is crashing due to Invalid Parameter format for gpu_id expect int but value='None'. Returning with currently selected features...\n",
            "    Completed XGBoost feature selection in 1 seconds\n",
            "#######################################################################################\n",
            "#####          F E A T U R E   S E L E C T I O N   C O M P L E T E D            #######\n",
            "#######################################################################################\n",
            "Selected 46 important features. Too many to print...\n",
            "Total Time taken for featurewiz selection = 14 seconds\n",
            "Output contains a list of 46 important features and a train dataframe\n",
            "    Time taken to create entire pipeline = 36 second(s)\n"
          ]
        }
      ],
      "source": [
        "\n",
        "#X_train_a[\"ticker\"] = knowledge[\"ticker\"]\n",
        "#X_train_a[\"date\"] = knowledge[\"date\"]\n",
        "#X_train_a = X_train_a.sort_values(by=['date'])\n",
        "#y_train_a = y_train_a.reset_index(drop=True)\n",
        "#X_train_a = X_train_a.drop(['date'],axis=1)\n",
        "X_train_a = X_train_a.select_dtypes(include=['float64','int64'])\n",
        "\n",
        "\n",
        "#X_train_a[\"ticker\"] = knowledge[\"ticker\"]\n",
        "features = FeatureWiz(corr_limit=0.60, feature_engg='', category_encoders='',dask_xgboost_flag=False, nrows=None, verbose=0)\n",
        "X_train_a = features.fit_transform(df,y_train_a)\n",
        "\n"
      ]
    },
    {
      "cell_type": "code",
      "execution_count": null,
      "metadata": {
        "colab": {
          "base_uri": "https://localhost:8080/"
        },
        "id": "1TwnY_dFNO7P",
        "outputId": "30c700fe-00e4-4f21-d9c3-c88f666a2793"
      },
      "outputs": [
        {
          "data": {
            "text/plain": [
              "(1300365, 46)"
            ]
          },
          "execution_count": 29,
          "metadata": {},
          "output_type": "execute_result"
        }
      ],
      "source": [
        "X_train_a.shape"
      ]
    },
    {
      "cell_type": "code",
      "execution_count": null,
      "metadata": {
        "id": "uBFHNaOCNO7P"
      },
      "outputs": [],
      "source": [
        "del df"
      ]
    },
    {
      "cell_type": "code",
      "execution_count": null,
      "metadata": {
        "id": "wv_I756iNO7Q"
      },
      "outputs": [],
      "source": [
        "X_train_a[\"ticker\"] = knowledge[\"ticker\"]"
      ]
    },
    {
      "cell_type": "code",
      "execution_count": null,
      "metadata": {
        "id": "zuQ2ULyDNMcV"
      },
      "outputs": [],
      "source": []
    },
    {
      "cell_type": "markdown",
      "metadata": {
        "id": "F0NEFSzRNVN8"
      },
      "source": [
        "#### Processing"
      ]
    },
    {
      "cell_type": "code",
      "execution_count": null,
      "metadata": {
        "id": "Upg3M0m_NGbM"
      },
      "outputs": [],
      "source": [
        "y_train_a = y_train_a.reset_index(drop=True)\n",
        "#X_train_a['target'] = y_train_a['target']\n",
        "X_train_a = X_train_a.reset_index(drop=True)\n",
        "\n",
        "knowledge = knowledge.reset_index(drop=True)\n",
        "X_train_a['date'] = knowledge['date']\n",
        "X_train_a['ticker'] = knowledge['ticker']\n"
      ]
    },
    {
      "cell_type": "code",
      "execution_count": null,
      "metadata": {
        "id": "c3HCcmW7OkgA"
      },
      "outputs": [],
      "source": [
        "X_train_a['target'] = y_train_a['target']"
      ]
    },
    {
      "cell_type": "code",
      "execution_count": null,
      "metadata": {
        "id": "MvODqidyPFam"
      },
      "outputs": [],
      "source": [
        "X_train_a = X_train_a.reset_index(drop=True)"
      ]
    },
    {
      "cell_type": "code",
      "execution_count": null,
      "metadata": {
        "id": "8QuTaE2vOkir"
      },
      "outputs": [],
      "source": [
        "#X_train_a = X_train_a.dropna(axis=0)\n",
        "#X_train_a = X_train_a.reset_index(drop=True)"
      ]
    },
    {
      "cell_type": "code",
      "execution_count": null,
      "metadata": {
        "colab": {
          "base_uri": "https://localhost:8080/"
        },
        "id": "oYBn7IkiPX7g",
        "outputId": "72c5c894-fe4d-4ad8-d436-5adf2e3819a5"
      },
      "outputs": [
        {
          "data": {
            "text/plain": [
              "(1300365, 49)"
            ]
          },
          "execution_count": 40,
          "metadata": {},
          "output_type": "execute_result"
        }
      ],
      "source": [
        "X_train_a.shape"
      ]
    },
    {
      "cell_type": "code",
      "execution_count": null,
      "metadata": {
        "id": "L_k9skWWMcvD"
      },
      "outputs": [],
      "source": [
        "def time_series_split(data, split_percent = 0.7):\n",
        "  min_date = data.date.min()\n",
        "  max_date = data.date.max()\n",
        "  #print(\"Min:\", min_date, \"Max:\", max_date)\n",
        "  time_between = max_date - min_date\n",
        "  train_cutoff = min_date + split_percent*time_between\n",
        "  #print(\"train_cutoff:\", train_cutoff)\n",
        "  train_df = data[data.date <= train_cutoff]['formulae_index'].tolist()\n",
        "  test_df = data[data.date > train_cutoff]['formulae_index'].index.tolist()\n",
        "  #print(\"Train:\", train_df.date.min(), train_df.date.max(), train_df.shape)\n",
        "  #print(\"Test:\", test_df.date.min(), test_df.date.max(), test_df.shape)\n",
        "  return train_df, test_df"
      ]
    },
    {
      "cell_type": "code",
      "execution_count": null,
      "metadata": {
        "id": "PM_aFfh0MpWp"
      },
      "outputs": [],
      "source": [
        "X_train_a['formulae_index'] = X_train_a.index"
      ]
    },
    {
      "cell_type": "code",
      "execution_count": null,
      "metadata": {
        "id": "rScN0iqcMswS"
      },
      "outputs": [],
      "source": [
        "train_final = []\n",
        "test_final = []\n",
        "tickers = X_train_a['ticker'].unique().tolist()\n",
        "for t in tickers:\n",
        "  df_temp = X_train_a[X_train_a['ticker'] == t]\n",
        "  train_data, test_data  = time_series_split(df_temp, split_percent = 0.8)\n",
        "  if ((len(train_data)>0)&(len(test_data)>0)):\n",
        "    train_final.extend(train_data)\n",
        "    test_final.extend(test_data)\n",
        "  del df_temp"
      ]
    },
    {
      "cell_type": "code",
      "execution_count": null,
      "metadata": {
        "colab": {
          "base_uri": "https://localhost:8080/"
        },
        "id": "BF30Wu9GT5jC",
        "outputId": "79749514-98ec-4f19-8de3-614e7fc718e8"
      },
      "outputs": [
        {
          "data": {
            "text/plain": [
              "1300365"
            ]
          },
          "execution_count": 46,
          "metadata": {},
          "output_type": "execute_result"
        }
      ],
      "source": [
        "len(train_final) + len(test_final)"
      ]
    },
    {
      "cell_type": "code",
      "execution_count": null,
      "metadata": {
        "id": "zOUCiRaYRVtE"
      },
      "outputs": [],
      "source": [
        "import pickle\n",
        "\n",
        "with open(\"train_final\", \"wb\") as fp:   #Pickling\n",
        "  pickle.dump(train_final, fp)\n"
      ]
    },
    {
      "cell_type": "code",
      "execution_count": null,
      "metadata": {
        "id": "Tufv0lLTT_c3"
      },
      "outputs": [],
      "source": [
        "\n",
        "with open(\"train_final\", \"rb\") as fp:   # Unpickling\n",
        "  b = pickle.load(fp)"
      ]
    },
    {
      "cell_type": "code",
      "execution_count": null,
      "metadata": {
        "id": "7ukz0hHUUVR1"
      },
      "outputs": [],
      "source": [
        "\n",
        "with open(\"test_final\", \"wb\") as fp:   #Pickling\n",
        "  pickle.dump(test_final, fp)"
      ]
    },
    {
      "cell_type": "code",
      "execution_count": null,
      "metadata": {
        "id": "mYeadibcUbwE"
      },
      "outputs": [],
      "source": [
        "with open(\"test_final\", \"rb\") as fp:   # Unpickling\n",
        "  c = pickle.load(fp)"
      ]
    },
    {
      "cell_type": "markdown",
      "source": [
        "### D.Faster Alternatives"
      ],
      "metadata": {
        "id": "eeNUpmtaaAKX"
      }
    },
    {
      "cell_type": "code",
      "source": [
        "df = pd.DataFrame()\n",
        "df['a']=[1,2,3,4,5,6,7,8,9,10]\n",
        "df['g'] = [1,1,1,1,2,2,2,2,2,2]"
      ],
      "metadata": {
        "id": "X16-Q0HFaDoj"
      },
      "execution_count": 26,
      "outputs": []
    },
    {
      "cell_type": "code",
      "source": [
        "X = df.groupby('g').rolling(3).apply(np.mean,engine='numba',raw=True).add_suffix(\"{}\".format('abcd'))"
      ],
      "metadata": {
        "id": "j6TJrUpraVZq"
      },
      "execution_count": 32,
      "outputs": []
    },
    {
      "cell_type": "code",
      "source": [
        "X"
      ],
      "metadata": {
        "colab": {
          "base_uri": "https://localhost:8080/",
          "height": 394
        },
        "id": "2_l-WtqoaeXo",
        "outputId": "f20bb29a-f77a-4544-bf79-d7944f479c76"
      },
      "execution_count": 33,
      "outputs": [
        {
          "output_type": "execute_result",
          "data": {
            "text/plain": [
              "     aabcd\n",
              "g         \n",
              "1 0    NaN\n",
              "  1    NaN\n",
              "  2    2.0\n",
              "  3    3.0\n",
              "2 4    NaN\n",
              "  5    NaN\n",
              "  6    6.0\n",
              "  7    7.0\n",
              "  8    8.0\n",
              "  9    9.0"
            ],
            "text/html": [
              "\n",
              "  <div id=\"df-2131357c-d956-41f3-bd88-0c7780da3e6e\">\n",
              "    <div class=\"colab-df-container\">\n",
              "      <div>\n",
              "<style scoped>\n",
              "    .dataframe tbody tr th:only-of-type {\n",
              "        vertical-align: middle;\n",
              "    }\n",
              "\n",
              "    .dataframe tbody tr th {\n",
              "        vertical-align: top;\n",
              "    }\n",
              "\n",
              "    .dataframe thead th {\n",
              "        text-align: right;\n",
              "    }\n",
              "</style>\n",
              "<table border=\"1\" class=\"dataframe\">\n",
              "  <thead>\n",
              "    <tr style=\"text-align: right;\">\n",
              "      <th></th>\n",
              "      <th></th>\n",
              "      <th>aabcd</th>\n",
              "    </tr>\n",
              "    <tr>\n",
              "      <th>g</th>\n",
              "      <th></th>\n",
              "      <th></th>\n",
              "    </tr>\n",
              "  </thead>\n",
              "  <tbody>\n",
              "    <tr>\n",
              "      <th rowspan=\"4\" valign=\"top\">1</th>\n",
              "      <th>0</th>\n",
              "      <td>NaN</td>\n",
              "    </tr>\n",
              "    <tr>\n",
              "      <th>1</th>\n",
              "      <td>NaN</td>\n",
              "    </tr>\n",
              "    <tr>\n",
              "      <th>2</th>\n",
              "      <td>2.0</td>\n",
              "    </tr>\n",
              "    <tr>\n",
              "      <th>3</th>\n",
              "      <td>3.0</td>\n",
              "    </tr>\n",
              "    <tr>\n",
              "      <th rowspan=\"6\" valign=\"top\">2</th>\n",
              "      <th>4</th>\n",
              "      <td>NaN</td>\n",
              "    </tr>\n",
              "    <tr>\n",
              "      <th>5</th>\n",
              "      <td>NaN</td>\n",
              "    </tr>\n",
              "    <tr>\n",
              "      <th>6</th>\n",
              "      <td>6.0</td>\n",
              "    </tr>\n",
              "    <tr>\n",
              "      <th>7</th>\n",
              "      <td>7.0</td>\n",
              "    </tr>\n",
              "    <tr>\n",
              "      <th>8</th>\n",
              "      <td>8.0</td>\n",
              "    </tr>\n",
              "    <tr>\n",
              "      <th>9</th>\n",
              "      <td>9.0</td>\n",
              "    </tr>\n",
              "  </tbody>\n",
              "</table>\n",
              "</div>\n",
              "      <button class=\"colab-df-convert\" onclick=\"convertToInteractive('df-2131357c-d956-41f3-bd88-0c7780da3e6e')\"\n",
              "              title=\"Convert this dataframe to an interactive table.\"\n",
              "              style=\"display:none;\">\n",
              "        \n",
              "  <svg xmlns=\"http://www.w3.org/2000/svg\" height=\"24px\"viewBox=\"0 0 24 24\"\n",
              "       width=\"24px\">\n",
              "    <path d=\"M0 0h24v24H0V0z\" fill=\"none\"/>\n",
              "    <path d=\"M18.56 5.44l.94 2.06.94-2.06 2.06-.94-2.06-.94-.94-2.06-.94 2.06-2.06.94zm-11 1L8.5 8.5l.94-2.06 2.06-.94-2.06-.94L8.5 2.5l-.94 2.06-2.06.94zm10 10l.94 2.06.94-2.06 2.06-.94-2.06-.94-.94-2.06-.94 2.06-2.06.94z\"/><path d=\"M17.41 7.96l-1.37-1.37c-.4-.4-.92-.59-1.43-.59-.52 0-1.04.2-1.43.59L10.3 9.45l-7.72 7.72c-.78.78-.78 2.05 0 2.83L4 21.41c.39.39.9.59 1.41.59.51 0 1.02-.2 1.41-.59l7.78-7.78 2.81-2.81c.8-.78.8-2.07 0-2.86zM5.41 20L4 18.59l7.72-7.72 1.47 1.35L5.41 20z\"/>\n",
              "  </svg>\n",
              "      </button>\n",
              "      \n",
              "  <style>\n",
              "    .colab-df-container {\n",
              "      display:flex;\n",
              "      flex-wrap:wrap;\n",
              "      gap: 12px;\n",
              "    }\n",
              "\n",
              "    .colab-df-convert {\n",
              "      background-color: #E8F0FE;\n",
              "      border: none;\n",
              "      border-radius: 50%;\n",
              "      cursor: pointer;\n",
              "      display: none;\n",
              "      fill: #1967D2;\n",
              "      height: 32px;\n",
              "      padding: 0 0 0 0;\n",
              "      width: 32px;\n",
              "    }\n",
              "\n",
              "    .colab-df-convert:hover {\n",
              "      background-color: #E2EBFA;\n",
              "      box-shadow: 0px 1px 2px rgba(60, 64, 67, 0.3), 0px 1px 3px 1px rgba(60, 64, 67, 0.15);\n",
              "      fill: #174EA6;\n",
              "    }\n",
              "\n",
              "    [theme=dark] .colab-df-convert {\n",
              "      background-color: #3B4455;\n",
              "      fill: #D2E3FC;\n",
              "    }\n",
              "\n",
              "    [theme=dark] .colab-df-convert:hover {\n",
              "      background-color: #434B5C;\n",
              "      box-shadow: 0px 1px 3px 1px rgba(0, 0, 0, 0.15);\n",
              "      filter: drop-shadow(0px 1px 2px rgba(0, 0, 0, 0.3));\n",
              "      fill: #FFFFFF;\n",
              "    }\n",
              "  </style>\n",
              "\n",
              "      <script>\n",
              "        const buttonEl =\n",
              "          document.querySelector('#df-2131357c-d956-41f3-bd88-0c7780da3e6e button.colab-df-convert');\n",
              "        buttonEl.style.display =\n",
              "          google.colab.kernel.accessAllowed ? 'block' : 'none';\n",
              "\n",
              "        async function convertToInteractive(key) {\n",
              "          const element = document.querySelector('#df-2131357c-d956-41f3-bd88-0c7780da3e6e');\n",
              "          const dataTable =\n",
              "            await google.colab.kernel.invokeFunction('convertToInteractive',\n",
              "                                                     [key], {});\n",
              "          if (!dataTable) return;\n",
              "\n",
              "          const docLinkHtml = 'Like what you see? Visit the ' +\n",
              "            '<a target=\"_blank\" href=https://colab.research.google.com/notebooks/data_table.ipynb>data table notebook</a>'\n",
              "            + ' to learn more about interactive tables.';\n",
              "          element.innerHTML = '';\n",
              "          dataTable['output_type'] = 'display_data';\n",
              "          await google.colab.output.renderOutput(dataTable, element);\n",
              "          const docLink = document.createElement('div');\n",
              "          docLink.innerHTML = docLinkHtml;\n",
              "          element.appendChild(docLink);\n",
              "        }\n",
              "      </script>\n",
              "    </div>\n",
              "  </div>\n",
              "  "
            ]
          },
          "metadata": {},
          "execution_count": 33
        }
      ]
    },
    {
      "cell_type": "code",
      "source": [
        "indexes = [0,4]"
      ],
      "metadata": {
        "id": "djUX8etoapQL"
      },
      "execution_count": 43,
      "outputs": []
    },
    {
      "cell_type": "code",
      "source": [
        "remove_indexes = []"
      ],
      "metadata": {
        "id": "Ke0cPqU4bSs-"
      },
      "execution_count": 44,
      "outputs": []
    },
    {
      "cell_type": "code",
      "source": [
        "window = 3"
      ],
      "metadata": {
        "id": "oKuTN7OQbvzH"
      },
      "execution_count": 45,
      "outputs": []
    },
    {
      "cell_type": "code",
      "source": [
        "for item in indexes:\n",
        "  remove_indexes.extend(range(item,item+window-1))"
      ],
      "metadata": {
        "id": "y7E740d_bkt-"
      },
      "execution_count": 46,
      "outputs": []
    },
    {
      "cell_type": "code",
      "source": [
        "remove_indexes"
      ],
      "metadata": {
        "colab": {
          "base_uri": "https://localhost:8080/"
        },
        "id": "tbALM3yyb1Le",
        "outputId": "3b75a394-854c-4e49-df8e-37169404f2ec"
      },
      "execution_count": 47,
      "outputs": [
        {
          "output_type": "execute_result",
          "data": {
            "text/plain": [
              "[0, 1, 4, 5]"
            ]
          },
          "metadata": {},
          "execution_count": 47
        }
      ]
    },
    {
      "cell_type": "code",
      "source": [
        "x2 = df['a'].rolling(3).apply(np.mean,engine='numba',raw=True)\n",
        "x2"
      ],
      "metadata": {
        "colab": {
          "base_uri": "https://localhost:8080/"
        },
        "id": "OPmUPSQhaNtE",
        "outputId": "6f518b8e-6086-4bdc-aa8a-dd60390237e7"
      },
      "execution_count": 35,
      "outputs": [
        {
          "output_type": "execute_result",
          "data": {
            "text/plain": [
              "0    NaN\n",
              "1    NaN\n",
              "2    2.0\n",
              "3    3.0\n",
              "4    4.0\n",
              "5    5.0\n",
              "6    6.0\n",
              "7    7.0\n",
              "8    8.0\n",
              "9    9.0\n",
              "Name: a, dtype: float64"
            ]
          },
          "metadata": {},
          "execution_count": 35
        }
      ]
    },
    {
      "cell_type": "code",
      "source": [
        "x2 = pd.DataFrame(x2)\n",
        "x2"
      ],
      "metadata": {
        "colab": {
          "base_uri": "https://localhost:8080/",
          "height": 363
        },
        "id": "WmcFv7tNcKcM",
        "outputId": "2e08c70e-2aa9-4911-f3a4-12cae2160300"
      },
      "execution_count": 50,
      "outputs": [
        {
          "output_type": "execute_result",
          "data": {
            "text/plain": [
              "     a\n",
              "0  NaN\n",
              "1  NaN\n",
              "2  2.0\n",
              "3  3.0\n",
              "4  4.0\n",
              "5  5.0\n",
              "6  6.0\n",
              "7  7.0\n",
              "8  8.0\n",
              "9  9.0"
            ],
            "text/html": [
              "\n",
              "  <div id=\"df-248d1b57-62f6-491b-960d-15b45010f549\">\n",
              "    <div class=\"colab-df-container\">\n",
              "      <div>\n",
              "<style scoped>\n",
              "    .dataframe tbody tr th:only-of-type {\n",
              "        vertical-align: middle;\n",
              "    }\n",
              "\n",
              "    .dataframe tbody tr th {\n",
              "        vertical-align: top;\n",
              "    }\n",
              "\n",
              "    .dataframe thead th {\n",
              "        text-align: right;\n",
              "    }\n",
              "</style>\n",
              "<table border=\"1\" class=\"dataframe\">\n",
              "  <thead>\n",
              "    <tr style=\"text-align: right;\">\n",
              "      <th></th>\n",
              "      <th>a</th>\n",
              "    </tr>\n",
              "  </thead>\n",
              "  <tbody>\n",
              "    <tr>\n",
              "      <th>0</th>\n",
              "      <td>NaN</td>\n",
              "    </tr>\n",
              "    <tr>\n",
              "      <th>1</th>\n",
              "      <td>NaN</td>\n",
              "    </tr>\n",
              "    <tr>\n",
              "      <th>2</th>\n",
              "      <td>2.0</td>\n",
              "    </tr>\n",
              "    <tr>\n",
              "      <th>3</th>\n",
              "      <td>3.0</td>\n",
              "    </tr>\n",
              "    <tr>\n",
              "      <th>4</th>\n",
              "      <td>4.0</td>\n",
              "    </tr>\n",
              "    <tr>\n",
              "      <th>5</th>\n",
              "      <td>5.0</td>\n",
              "    </tr>\n",
              "    <tr>\n",
              "      <th>6</th>\n",
              "      <td>6.0</td>\n",
              "    </tr>\n",
              "    <tr>\n",
              "      <th>7</th>\n",
              "      <td>7.0</td>\n",
              "    </tr>\n",
              "    <tr>\n",
              "      <th>8</th>\n",
              "      <td>8.0</td>\n",
              "    </tr>\n",
              "    <tr>\n",
              "      <th>9</th>\n",
              "      <td>9.0</td>\n",
              "    </tr>\n",
              "  </tbody>\n",
              "</table>\n",
              "</div>\n",
              "      <button class=\"colab-df-convert\" onclick=\"convertToInteractive('df-248d1b57-62f6-491b-960d-15b45010f549')\"\n",
              "              title=\"Convert this dataframe to an interactive table.\"\n",
              "              style=\"display:none;\">\n",
              "        \n",
              "  <svg xmlns=\"http://www.w3.org/2000/svg\" height=\"24px\"viewBox=\"0 0 24 24\"\n",
              "       width=\"24px\">\n",
              "    <path d=\"M0 0h24v24H0V0z\" fill=\"none\"/>\n",
              "    <path d=\"M18.56 5.44l.94 2.06.94-2.06 2.06-.94-2.06-.94-.94-2.06-.94 2.06-2.06.94zm-11 1L8.5 8.5l.94-2.06 2.06-.94-2.06-.94L8.5 2.5l-.94 2.06-2.06.94zm10 10l.94 2.06.94-2.06 2.06-.94-2.06-.94-.94-2.06-.94 2.06-2.06.94z\"/><path d=\"M17.41 7.96l-1.37-1.37c-.4-.4-.92-.59-1.43-.59-.52 0-1.04.2-1.43.59L10.3 9.45l-7.72 7.72c-.78.78-.78 2.05 0 2.83L4 21.41c.39.39.9.59 1.41.59.51 0 1.02-.2 1.41-.59l7.78-7.78 2.81-2.81c.8-.78.8-2.07 0-2.86zM5.41 20L4 18.59l7.72-7.72 1.47 1.35L5.41 20z\"/>\n",
              "  </svg>\n",
              "      </button>\n",
              "      \n",
              "  <style>\n",
              "    .colab-df-container {\n",
              "      display:flex;\n",
              "      flex-wrap:wrap;\n",
              "      gap: 12px;\n",
              "    }\n",
              "\n",
              "    .colab-df-convert {\n",
              "      background-color: #E8F0FE;\n",
              "      border: none;\n",
              "      border-radius: 50%;\n",
              "      cursor: pointer;\n",
              "      display: none;\n",
              "      fill: #1967D2;\n",
              "      height: 32px;\n",
              "      padding: 0 0 0 0;\n",
              "      width: 32px;\n",
              "    }\n",
              "\n",
              "    .colab-df-convert:hover {\n",
              "      background-color: #E2EBFA;\n",
              "      box-shadow: 0px 1px 2px rgba(60, 64, 67, 0.3), 0px 1px 3px 1px rgba(60, 64, 67, 0.15);\n",
              "      fill: #174EA6;\n",
              "    }\n",
              "\n",
              "    [theme=dark] .colab-df-convert {\n",
              "      background-color: #3B4455;\n",
              "      fill: #D2E3FC;\n",
              "    }\n",
              "\n",
              "    [theme=dark] .colab-df-convert:hover {\n",
              "      background-color: #434B5C;\n",
              "      box-shadow: 0px 1px 3px 1px rgba(0, 0, 0, 0.15);\n",
              "      filter: drop-shadow(0px 1px 2px rgba(0, 0, 0, 0.3));\n",
              "      fill: #FFFFFF;\n",
              "    }\n",
              "  </style>\n",
              "\n",
              "      <script>\n",
              "        const buttonEl =\n",
              "          document.querySelector('#df-248d1b57-62f6-491b-960d-15b45010f549 button.colab-df-convert');\n",
              "        buttonEl.style.display =\n",
              "          google.colab.kernel.accessAllowed ? 'block' : 'none';\n",
              "\n",
              "        async function convertToInteractive(key) {\n",
              "          const element = document.querySelector('#df-248d1b57-62f6-491b-960d-15b45010f549');\n",
              "          const dataTable =\n",
              "            await google.colab.kernel.invokeFunction('convertToInteractive',\n",
              "                                                     [key], {});\n",
              "          if (!dataTable) return;\n",
              "\n",
              "          const docLinkHtml = 'Like what you see? Visit the ' +\n",
              "            '<a target=\"_blank\" href=https://colab.research.google.com/notebooks/data_table.ipynb>data table notebook</a>'\n",
              "            + ' to learn more about interactive tables.';\n",
              "          element.innerHTML = '';\n",
              "          dataTable['output_type'] = 'display_data';\n",
              "          await google.colab.output.renderOutput(dataTable, element);\n",
              "          const docLink = document.createElement('div');\n",
              "          docLink.innerHTML = docLinkHtml;\n",
              "          element.appendChild(docLink);\n",
              "        }\n",
              "      </script>\n",
              "    </div>\n",
              "  </div>\n",
              "  "
            ]
          },
          "metadata": {},
          "execution_count": 50
        }
      ]
    },
    {
      "cell_type": "code",
      "source": [
        "x3 = x2[~x2.index.isin(remove_indexes)]"
      ],
      "metadata": {
        "id": "HRIyZwfCcPUa"
      },
      "execution_count": 51,
      "outputs": []
    },
    {
      "cell_type": "code",
      "source": [
        "x3"
      ],
      "metadata": {
        "colab": {
          "base_uri": "https://localhost:8080/",
          "height": 238
        },
        "id": "gbovcr5bclH7",
        "outputId": "b2e6c064-9666-4bbf-a4ec-35f36bd8116b"
      },
      "execution_count": 52,
      "outputs": [
        {
          "output_type": "execute_result",
          "data": {
            "text/plain": [
              "     a\n",
              "2  2.0\n",
              "3  3.0\n",
              "6  6.0\n",
              "7  7.0\n",
              "8  8.0\n",
              "9  9.0"
            ],
            "text/html": [
              "\n",
              "  <div id=\"df-bd462c24-cb9b-4ef6-94e3-6be98bb0c360\">\n",
              "    <div class=\"colab-df-container\">\n",
              "      <div>\n",
              "<style scoped>\n",
              "    .dataframe tbody tr th:only-of-type {\n",
              "        vertical-align: middle;\n",
              "    }\n",
              "\n",
              "    .dataframe tbody tr th {\n",
              "        vertical-align: top;\n",
              "    }\n",
              "\n",
              "    .dataframe thead th {\n",
              "        text-align: right;\n",
              "    }\n",
              "</style>\n",
              "<table border=\"1\" class=\"dataframe\">\n",
              "  <thead>\n",
              "    <tr style=\"text-align: right;\">\n",
              "      <th></th>\n",
              "      <th>a</th>\n",
              "    </tr>\n",
              "  </thead>\n",
              "  <tbody>\n",
              "    <tr>\n",
              "      <th>2</th>\n",
              "      <td>2.0</td>\n",
              "    </tr>\n",
              "    <tr>\n",
              "      <th>3</th>\n",
              "      <td>3.0</td>\n",
              "    </tr>\n",
              "    <tr>\n",
              "      <th>6</th>\n",
              "      <td>6.0</td>\n",
              "    </tr>\n",
              "    <tr>\n",
              "      <th>7</th>\n",
              "      <td>7.0</td>\n",
              "    </tr>\n",
              "    <tr>\n",
              "      <th>8</th>\n",
              "      <td>8.0</td>\n",
              "    </tr>\n",
              "    <tr>\n",
              "      <th>9</th>\n",
              "      <td>9.0</td>\n",
              "    </tr>\n",
              "  </tbody>\n",
              "</table>\n",
              "</div>\n",
              "      <button class=\"colab-df-convert\" onclick=\"convertToInteractive('df-bd462c24-cb9b-4ef6-94e3-6be98bb0c360')\"\n",
              "              title=\"Convert this dataframe to an interactive table.\"\n",
              "              style=\"display:none;\">\n",
              "        \n",
              "  <svg xmlns=\"http://www.w3.org/2000/svg\" height=\"24px\"viewBox=\"0 0 24 24\"\n",
              "       width=\"24px\">\n",
              "    <path d=\"M0 0h24v24H0V0z\" fill=\"none\"/>\n",
              "    <path d=\"M18.56 5.44l.94 2.06.94-2.06 2.06-.94-2.06-.94-.94-2.06-.94 2.06-2.06.94zm-11 1L8.5 8.5l.94-2.06 2.06-.94-2.06-.94L8.5 2.5l-.94 2.06-2.06.94zm10 10l.94 2.06.94-2.06 2.06-.94-2.06-.94-.94-2.06-.94 2.06-2.06.94z\"/><path d=\"M17.41 7.96l-1.37-1.37c-.4-.4-.92-.59-1.43-.59-.52 0-1.04.2-1.43.59L10.3 9.45l-7.72 7.72c-.78.78-.78 2.05 0 2.83L4 21.41c.39.39.9.59 1.41.59.51 0 1.02-.2 1.41-.59l7.78-7.78 2.81-2.81c.8-.78.8-2.07 0-2.86zM5.41 20L4 18.59l7.72-7.72 1.47 1.35L5.41 20z\"/>\n",
              "  </svg>\n",
              "      </button>\n",
              "      \n",
              "  <style>\n",
              "    .colab-df-container {\n",
              "      display:flex;\n",
              "      flex-wrap:wrap;\n",
              "      gap: 12px;\n",
              "    }\n",
              "\n",
              "    .colab-df-convert {\n",
              "      background-color: #E8F0FE;\n",
              "      border: none;\n",
              "      border-radius: 50%;\n",
              "      cursor: pointer;\n",
              "      display: none;\n",
              "      fill: #1967D2;\n",
              "      height: 32px;\n",
              "      padding: 0 0 0 0;\n",
              "      width: 32px;\n",
              "    }\n",
              "\n",
              "    .colab-df-convert:hover {\n",
              "      background-color: #E2EBFA;\n",
              "      box-shadow: 0px 1px 2px rgba(60, 64, 67, 0.3), 0px 1px 3px 1px rgba(60, 64, 67, 0.15);\n",
              "      fill: #174EA6;\n",
              "    }\n",
              "\n",
              "    [theme=dark] .colab-df-convert {\n",
              "      background-color: #3B4455;\n",
              "      fill: #D2E3FC;\n",
              "    }\n",
              "\n",
              "    [theme=dark] .colab-df-convert:hover {\n",
              "      background-color: #434B5C;\n",
              "      box-shadow: 0px 1px 3px 1px rgba(0, 0, 0, 0.15);\n",
              "      filter: drop-shadow(0px 1px 2px rgba(0, 0, 0, 0.3));\n",
              "      fill: #FFFFFF;\n",
              "    }\n",
              "  </style>\n",
              "\n",
              "      <script>\n",
              "        const buttonEl =\n",
              "          document.querySelector('#df-bd462c24-cb9b-4ef6-94e3-6be98bb0c360 button.colab-df-convert');\n",
              "        buttonEl.style.display =\n",
              "          google.colab.kernel.accessAllowed ? 'block' : 'none';\n",
              "\n",
              "        async function convertToInteractive(key) {\n",
              "          const element = document.querySelector('#df-bd462c24-cb9b-4ef6-94e3-6be98bb0c360');\n",
              "          const dataTable =\n",
              "            await google.colab.kernel.invokeFunction('convertToInteractive',\n",
              "                                                     [key], {});\n",
              "          if (!dataTable) return;\n",
              "\n",
              "          const docLinkHtml = 'Like what you see? Visit the ' +\n",
              "            '<a target=\"_blank\" href=https://colab.research.google.com/notebooks/data_table.ipynb>data table notebook</a>'\n",
              "            + ' to learn more about interactive tables.';\n",
              "          element.innerHTML = '';\n",
              "          dataTable['output_type'] = 'display_data';\n",
              "          await google.colab.output.renderOutput(dataTable, element);\n",
              "          const docLink = document.createElement('div');\n",
              "          docLink.innerHTML = docLinkHtml;\n",
              "          element.appendChild(docLink);\n",
              "        }\n",
              "      </script>\n",
              "    </div>\n",
              "  </div>\n",
              "  "
            ]
          },
          "metadata": {},
          "execution_count": 52
        }
      ]
    },
    {
      "cell_type": "code",
      "source": [
        "df = pd.DataFrame()\n",
        "df['a']=[1,2,3,4,5,6,7,8,9,10]\n",
        "df['g'] = [1,1,1,1,2,2,2,2,2,2]\n",
        "df['b']=[1,2,3,4,5,6,7,8,9,10]"
      ],
      "metadata": {
        "id": "nLn7RfnZcmBW"
      },
      "execution_count": 53,
      "outputs": []
    },
    {
      "cell_type": "code",
      "source": [
        "X = df.groupby('g').rolling(3).apply(np.mean,engine='numba',raw=True).add_suffix(\"{}\".format('abcd'))"
      ],
      "metadata": {
        "id": "Ru7NQIqWd5oH"
      },
      "execution_count": 54,
      "outputs": []
    },
    {
      "cell_type": "code",
      "source": [
        "X"
      ],
      "metadata": {
        "colab": {
          "base_uri": "https://localhost:8080/",
          "height": 394
        },
        "id": "8nFaQxrGd8TH",
        "outputId": "c166e1f3-62d0-4633-c352-b4e52840b3e8"
      },
      "execution_count": 55,
      "outputs": [
        {
          "output_type": "execute_result",
          "data": {
            "text/plain": [
              "     aabcd  babcd\n",
              "g                \n",
              "1 0    NaN    NaN\n",
              "  1    NaN    NaN\n",
              "  2    2.0    2.0\n",
              "  3    3.0    3.0\n",
              "2 4    NaN    NaN\n",
              "  5    NaN    NaN\n",
              "  6    6.0    6.0\n",
              "  7    7.0    7.0\n",
              "  8    8.0    8.0\n",
              "  9    9.0    9.0"
            ],
            "text/html": [
              "\n",
              "  <div id=\"df-a7579c44-5887-44f2-b46f-47e8421728da\">\n",
              "    <div class=\"colab-df-container\">\n",
              "      <div>\n",
              "<style scoped>\n",
              "    .dataframe tbody tr th:only-of-type {\n",
              "        vertical-align: middle;\n",
              "    }\n",
              "\n",
              "    .dataframe tbody tr th {\n",
              "        vertical-align: top;\n",
              "    }\n",
              "\n",
              "    .dataframe thead th {\n",
              "        text-align: right;\n",
              "    }\n",
              "</style>\n",
              "<table border=\"1\" class=\"dataframe\">\n",
              "  <thead>\n",
              "    <tr style=\"text-align: right;\">\n",
              "      <th></th>\n",
              "      <th></th>\n",
              "      <th>aabcd</th>\n",
              "      <th>babcd</th>\n",
              "    </tr>\n",
              "    <tr>\n",
              "      <th>g</th>\n",
              "      <th></th>\n",
              "      <th></th>\n",
              "      <th></th>\n",
              "    </tr>\n",
              "  </thead>\n",
              "  <tbody>\n",
              "    <tr>\n",
              "      <th rowspan=\"4\" valign=\"top\">1</th>\n",
              "      <th>0</th>\n",
              "      <td>NaN</td>\n",
              "      <td>NaN</td>\n",
              "    </tr>\n",
              "    <tr>\n",
              "      <th>1</th>\n",
              "      <td>NaN</td>\n",
              "      <td>NaN</td>\n",
              "    </tr>\n",
              "    <tr>\n",
              "      <th>2</th>\n",
              "      <td>2.0</td>\n",
              "      <td>2.0</td>\n",
              "    </tr>\n",
              "    <tr>\n",
              "      <th>3</th>\n",
              "      <td>3.0</td>\n",
              "      <td>3.0</td>\n",
              "    </tr>\n",
              "    <tr>\n",
              "      <th rowspan=\"6\" valign=\"top\">2</th>\n",
              "      <th>4</th>\n",
              "      <td>NaN</td>\n",
              "      <td>NaN</td>\n",
              "    </tr>\n",
              "    <tr>\n",
              "      <th>5</th>\n",
              "      <td>NaN</td>\n",
              "      <td>NaN</td>\n",
              "    </tr>\n",
              "    <tr>\n",
              "      <th>6</th>\n",
              "      <td>6.0</td>\n",
              "      <td>6.0</td>\n",
              "    </tr>\n",
              "    <tr>\n",
              "      <th>7</th>\n",
              "      <td>7.0</td>\n",
              "      <td>7.0</td>\n",
              "    </tr>\n",
              "    <tr>\n",
              "      <th>8</th>\n",
              "      <td>8.0</td>\n",
              "      <td>8.0</td>\n",
              "    </tr>\n",
              "    <tr>\n",
              "      <th>9</th>\n",
              "      <td>9.0</td>\n",
              "      <td>9.0</td>\n",
              "    </tr>\n",
              "  </tbody>\n",
              "</table>\n",
              "</div>\n",
              "      <button class=\"colab-df-convert\" onclick=\"convertToInteractive('df-a7579c44-5887-44f2-b46f-47e8421728da')\"\n",
              "              title=\"Convert this dataframe to an interactive table.\"\n",
              "              style=\"display:none;\">\n",
              "        \n",
              "  <svg xmlns=\"http://www.w3.org/2000/svg\" height=\"24px\"viewBox=\"0 0 24 24\"\n",
              "       width=\"24px\">\n",
              "    <path d=\"M0 0h24v24H0V0z\" fill=\"none\"/>\n",
              "    <path d=\"M18.56 5.44l.94 2.06.94-2.06 2.06-.94-2.06-.94-.94-2.06-.94 2.06-2.06.94zm-11 1L8.5 8.5l.94-2.06 2.06-.94-2.06-.94L8.5 2.5l-.94 2.06-2.06.94zm10 10l.94 2.06.94-2.06 2.06-.94-2.06-.94-.94-2.06-.94 2.06-2.06.94z\"/><path d=\"M17.41 7.96l-1.37-1.37c-.4-.4-.92-.59-1.43-.59-.52 0-1.04.2-1.43.59L10.3 9.45l-7.72 7.72c-.78.78-.78 2.05 0 2.83L4 21.41c.39.39.9.59 1.41.59.51 0 1.02-.2 1.41-.59l7.78-7.78 2.81-2.81c.8-.78.8-2.07 0-2.86zM5.41 20L4 18.59l7.72-7.72 1.47 1.35L5.41 20z\"/>\n",
              "  </svg>\n",
              "      </button>\n",
              "      \n",
              "  <style>\n",
              "    .colab-df-container {\n",
              "      display:flex;\n",
              "      flex-wrap:wrap;\n",
              "      gap: 12px;\n",
              "    }\n",
              "\n",
              "    .colab-df-convert {\n",
              "      background-color: #E8F0FE;\n",
              "      border: none;\n",
              "      border-radius: 50%;\n",
              "      cursor: pointer;\n",
              "      display: none;\n",
              "      fill: #1967D2;\n",
              "      height: 32px;\n",
              "      padding: 0 0 0 0;\n",
              "      width: 32px;\n",
              "    }\n",
              "\n",
              "    .colab-df-convert:hover {\n",
              "      background-color: #E2EBFA;\n",
              "      box-shadow: 0px 1px 2px rgba(60, 64, 67, 0.3), 0px 1px 3px 1px rgba(60, 64, 67, 0.15);\n",
              "      fill: #174EA6;\n",
              "    }\n",
              "\n",
              "    [theme=dark] .colab-df-convert {\n",
              "      background-color: #3B4455;\n",
              "      fill: #D2E3FC;\n",
              "    }\n",
              "\n",
              "    [theme=dark] .colab-df-convert:hover {\n",
              "      background-color: #434B5C;\n",
              "      box-shadow: 0px 1px 3px 1px rgba(0, 0, 0, 0.15);\n",
              "      filter: drop-shadow(0px 1px 2px rgba(0, 0, 0, 0.3));\n",
              "      fill: #FFFFFF;\n",
              "    }\n",
              "  </style>\n",
              "\n",
              "      <script>\n",
              "        const buttonEl =\n",
              "          document.querySelector('#df-a7579c44-5887-44f2-b46f-47e8421728da button.colab-df-convert');\n",
              "        buttonEl.style.display =\n",
              "          google.colab.kernel.accessAllowed ? 'block' : 'none';\n",
              "\n",
              "        async function convertToInteractive(key) {\n",
              "          const element = document.querySelector('#df-a7579c44-5887-44f2-b46f-47e8421728da');\n",
              "          const dataTable =\n",
              "            await google.colab.kernel.invokeFunction('convertToInteractive',\n",
              "                                                     [key], {});\n",
              "          if (!dataTable) return;\n",
              "\n",
              "          const docLinkHtml = 'Like what you see? Visit the ' +\n",
              "            '<a target=\"_blank\" href=https://colab.research.google.com/notebooks/data_table.ipynb>data table notebook</a>'\n",
              "            + ' to learn more about interactive tables.';\n",
              "          element.innerHTML = '';\n",
              "          dataTable['output_type'] = 'display_data';\n",
              "          await google.colab.output.renderOutput(dataTable, element);\n",
              "          const docLink = document.createElement('div');\n",
              "          docLink.innerHTML = docLinkHtml;\n",
              "          element.appendChild(docLink);\n",
              "        }\n",
              "      </script>\n",
              "    </div>\n",
              "  </div>\n",
              "  "
            ]
          },
          "metadata": {},
          "execution_count": 55
        }
      ]
    },
    {
      "cell_type": "code",
      "source": [
        "x2 = df[['a','b']].rolling(3).apply(np.mean,engine='numba',raw=True).add_suffix(\"{}\".format('_abcd'))\n",
        "x2"
      ],
      "metadata": {
        "colab": {
          "base_uri": "https://localhost:8080/",
          "height": 363
        },
        "id": "W3NPEG-ad9GS",
        "outputId": "1f4d335c-ee41-4b8d-a799-b66cc0e39154"
      },
      "execution_count": 58,
      "outputs": [
        {
          "output_type": "execute_result",
          "data": {
            "text/plain": [
              "   a_abcd  b_abcd\n",
              "0     NaN     NaN\n",
              "1     NaN     NaN\n",
              "2     2.0     2.0\n",
              "3     3.0     3.0\n",
              "4     4.0     4.0\n",
              "5     5.0     5.0\n",
              "6     6.0     6.0\n",
              "7     7.0     7.0\n",
              "8     8.0     8.0\n",
              "9     9.0     9.0"
            ],
            "text/html": [
              "\n",
              "  <div id=\"df-22ba388b-b4b8-4462-8bef-d39e8f3964ee\">\n",
              "    <div class=\"colab-df-container\">\n",
              "      <div>\n",
              "<style scoped>\n",
              "    .dataframe tbody tr th:only-of-type {\n",
              "        vertical-align: middle;\n",
              "    }\n",
              "\n",
              "    .dataframe tbody tr th {\n",
              "        vertical-align: top;\n",
              "    }\n",
              "\n",
              "    .dataframe thead th {\n",
              "        text-align: right;\n",
              "    }\n",
              "</style>\n",
              "<table border=\"1\" class=\"dataframe\">\n",
              "  <thead>\n",
              "    <tr style=\"text-align: right;\">\n",
              "      <th></th>\n",
              "      <th>a_abcd</th>\n",
              "      <th>b_abcd</th>\n",
              "    </tr>\n",
              "  </thead>\n",
              "  <tbody>\n",
              "    <tr>\n",
              "      <th>0</th>\n",
              "      <td>NaN</td>\n",
              "      <td>NaN</td>\n",
              "    </tr>\n",
              "    <tr>\n",
              "      <th>1</th>\n",
              "      <td>NaN</td>\n",
              "      <td>NaN</td>\n",
              "    </tr>\n",
              "    <tr>\n",
              "      <th>2</th>\n",
              "      <td>2.0</td>\n",
              "      <td>2.0</td>\n",
              "    </tr>\n",
              "    <tr>\n",
              "      <th>3</th>\n",
              "      <td>3.0</td>\n",
              "      <td>3.0</td>\n",
              "    </tr>\n",
              "    <tr>\n",
              "      <th>4</th>\n",
              "      <td>4.0</td>\n",
              "      <td>4.0</td>\n",
              "    </tr>\n",
              "    <tr>\n",
              "      <th>5</th>\n",
              "      <td>5.0</td>\n",
              "      <td>5.0</td>\n",
              "    </tr>\n",
              "    <tr>\n",
              "      <th>6</th>\n",
              "      <td>6.0</td>\n",
              "      <td>6.0</td>\n",
              "    </tr>\n",
              "    <tr>\n",
              "      <th>7</th>\n",
              "      <td>7.0</td>\n",
              "      <td>7.0</td>\n",
              "    </tr>\n",
              "    <tr>\n",
              "      <th>8</th>\n",
              "      <td>8.0</td>\n",
              "      <td>8.0</td>\n",
              "    </tr>\n",
              "    <tr>\n",
              "      <th>9</th>\n",
              "      <td>9.0</td>\n",
              "      <td>9.0</td>\n",
              "    </tr>\n",
              "  </tbody>\n",
              "</table>\n",
              "</div>\n",
              "      <button class=\"colab-df-convert\" onclick=\"convertToInteractive('df-22ba388b-b4b8-4462-8bef-d39e8f3964ee')\"\n",
              "              title=\"Convert this dataframe to an interactive table.\"\n",
              "              style=\"display:none;\">\n",
              "        \n",
              "  <svg xmlns=\"http://www.w3.org/2000/svg\" height=\"24px\"viewBox=\"0 0 24 24\"\n",
              "       width=\"24px\">\n",
              "    <path d=\"M0 0h24v24H0V0z\" fill=\"none\"/>\n",
              "    <path d=\"M18.56 5.44l.94 2.06.94-2.06 2.06-.94-2.06-.94-.94-2.06-.94 2.06-2.06.94zm-11 1L8.5 8.5l.94-2.06 2.06-.94-2.06-.94L8.5 2.5l-.94 2.06-2.06.94zm10 10l.94 2.06.94-2.06 2.06-.94-2.06-.94-.94-2.06-.94 2.06-2.06.94z\"/><path d=\"M17.41 7.96l-1.37-1.37c-.4-.4-.92-.59-1.43-.59-.52 0-1.04.2-1.43.59L10.3 9.45l-7.72 7.72c-.78.78-.78 2.05 0 2.83L4 21.41c.39.39.9.59 1.41.59.51 0 1.02-.2 1.41-.59l7.78-7.78 2.81-2.81c.8-.78.8-2.07 0-2.86zM5.41 20L4 18.59l7.72-7.72 1.47 1.35L5.41 20z\"/>\n",
              "  </svg>\n",
              "      </button>\n",
              "      \n",
              "  <style>\n",
              "    .colab-df-container {\n",
              "      display:flex;\n",
              "      flex-wrap:wrap;\n",
              "      gap: 12px;\n",
              "    }\n",
              "\n",
              "    .colab-df-convert {\n",
              "      background-color: #E8F0FE;\n",
              "      border: none;\n",
              "      border-radius: 50%;\n",
              "      cursor: pointer;\n",
              "      display: none;\n",
              "      fill: #1967D2;\n",
              "      height: 32px;\n",
              "      padding: 0 0 0 0;\n",
              "      width: 32px;\n",
              "    }\n",
              "\n",
              "    .colab-df-convert:hover {\n",
              "      background-color: #E2EBFA;\n",
              "      box-shadow: 0px 1px 2px rgba(60, 64, 67, 0.3), 0px 1px 3px 1px rgba(60, 64, 67, 0.15);\n",
              "      fill: #174EA6;\n",
              "    }\n",
              "\n",
              "    [theme=dark] .colab-df-convert {\n",
              "      background-color: #3B4455;\n",
              "      fill: #D2E3FC;\n",
              "    }\n",
              "\n",
              "    [theme=dark] .colab-df-convert:hover {\n",
              "      background-color: #434B5C;\n",
              "      box-shadow: 0px 1px 3px 1px rgba(0, 0, 0, 0.15);\n",
              "      filter: drop-shadow(0px 1px 2px rgba(0, 0, 0, 0.3));\n",
              "      fill: #FFFFFF;\n",
              "    }\n",
              "  </style>\n",
              "\n",
              "      <script>\n",
              "        const buttonEl =\n",
              "          document.querySelector('#df-22ba388b-b4b8-4462-8bef-d39e8f3964ee button.colab-df-convert');\n",
              "        buttonEl.style.display =\n",
              "          google.colab.kernel.accessAllowed ? 'block' : 'none';\n",
              "\n",
              "        async function convertToInteractive(key) {\n",
              "          const element = document.querySelector('#df-22ba388b-b4b8-4462-8bef-d39e8f3964ee');\n",
              "          const dataTable =\n",
              "            await google.colab.kernel.invokeFunction('convertToInteractive',\n",
              "                                                     [key], {});\n",
              "          if (!dataTable) return;\n",
              "\n",
              "          const docLinkHtml = 'Like what you see? Visit the ' +\n",
              "            '<a target=\"_blank\" href=https://colab.research.google.com/notebooks/data_table.ipynb>data table notebook</a>'\n",
              "            + ' to learn more about interactive tables.';\n",
              "          element.innerHTML = '';\n",
              "          dataTable['output_type'] = 'display_data';\n",
              "          await google.colab.output.renderOutput(dataTable, element);\n",
              "          const docLink = document.createElement('div');\n",
              "          docLink.innerHTML = docLinkHtml;\n",
              "          element.appendChild(docLink);\n",
              "        }\n",
              "      </script>\n",
              "    </div>\n",
              "  </div>\n",
              "  "
            ]
          },
          "metadata": {},
          "execution_count": 58
        }
      ]
    },
    {
      "cell_type": "code",
      "source": [],
      "metadata": {
        "id": "mzQ1d_vOeHOX"
      },
      "execution_count": null,
      "outputs": []
    },
    {
      "cell_type": "code",
      "source": [],
      "metadata": {
        "id": "fWIT4hk6e2YH"
      },
      "execution_count": null,
      "outputs": []
    },
    {
      "cell_type": "markdown",
      "metadata": {
        "id": "II1TuqtVe2rC"
      },
      "source": [
        "#### Data Download"
      ]
    },
    {
      "cell_type": "code",
      "execution_count": 72,
      "metadata": {
        "id": "5ZHL6TXOe2rD"
      },
      "outputs": [],
      "source": [
        "X_train_a = pd.read_parquet(\"https://storage.googleapis.com/public-quant/bankrupt_2022/X_train_1.park\")\n",
        "knowledge = pd.read_parquet(\"https://storage.googleapis.com/public-quant/bankrupt_2022/knowledge.park\")\n",
        "y_train_a = pd.read_parquet(\"https://storage.googleapis.com/public-quant/bankrupt_2022/y_train_1.park\")"
      ]
    },
    {
      "cell_type": "code",
      "execution_count": 73,
      "metadata": {
        "id": "YQt68j_We2rD"
      },
      "outputs": [],
      "source": [
        "def reduce_mem_usage(df, verbose=True):\n",
        "    numerics = ['int16', 'int32', 'int64', 'float16', 'float32', 'float64']\n",
        "    start_mem = df.memory_usage().sum() / 1024**2    \n",
        "    for col in df.columns:\n",
        "        col_type = df[col].dtypes\n",
        "        if col_type in numerics:\n",
        "            c_min = df[col].min()\n",
        "            c_max = df[col].max()\n",
        "            if str(col_type)[:3] == 'int':\n",
        "                if c_min > np.iinfo(np.int8).min and c_max < np.iinfo(np.int8).max:\n",
        "                    df[col] = df[col].astype(np.int8)\n",
        "                elif c_min > np.iinfo(np.int16).min and c_max < np.iinfo(np.int16).max:\n",
        "                    df[col] = df[col].astype(np.int16)\n",
        "                elif c_min > np.iinfo(np.int32).min and c_max < np.iinfo(np.int32).max:\n",
        "                    df[col] = df[col].astype(np.int32)\n",
        "                elif c_min > np.iinfo(np.int64).min and c_max < np.iinfo(np.int64).max:\n",
        "                    df[col] = df[col].astype(np.int64)  \n",
        "            else:\n",
        "                if c_min > np.finfo(np.float16).min and c_max < np.finfo(np.float16).max:\n",
        "                    df[col] = df[col].astype(np.float16)\n",
        "                elif c_min > np.finfo(np.float32).min and c_max < np.finfo(np.float32).max:\n",
        "                    df[col] = df[col].astype(np.float32)\n",
        "                else:\n",
        "                    df[col] = df[col].astype(np.float64)    \n",
        "    end_mem = df.memory_usage().sum() / 1024**2\n",
        "    if verbose: print('Mem. usage decreased to {:5.2f} Mb ({:.1f}% reduction)'.format(end_mem, 100 * (start_mem - end_mem) / start_mem))\n",
        "    return df"
      ]
    },
    {
      "cell_type": "code",
      "execution_count": 74,
      "metadata": {
        "colab": {
          "base_uri": "https://localhost:8080/"
        },
        "outputId": "36ff0b11-7d8b-4c01-91f8-ea97ef82d756",
        "id": "bJmxSkUge2rE"
      },
      "outputs": [
        {
          "output_type": "stream",
          "name": "stdout",
          "text": [
            "Mem. usage decreased to 555.58 Mb (54.1% reduction)\n"
          ]
        }
      ],
      "source": [
        "df = reduce_mem_usage(X_train_a, verbose=True)"
      ]
    },
    {
      "cell_type": "code",
      "execution_count": 75,
      "metadata": {
        "colab": {
          "base_uri": "https://localhost:8080/"
        },
        "outputId": "6002dee1-2459-4610-a981-e184061692fe",
        "id": "jyLR2_yBe2rE"
      },
      "outputs": [
        {
          "output_type": "execute_result",
          "data": {
            "text/plain": [
              "(1300365, 121)"
            ]
          },
          "metadata": {},
          "execution_count": 75
        }
      ],
      "source": [
        "df.shape"
      ]
    },
    {
      "cell_type": "code",
      "execution_count": 76,
      "metadata": {
        "colab": {
          "base_uri": "https://localhost:8080/"
        },
        "outputId": "6790311c-4b01-4945-9de4-3df26c22a272",
        "id": "NCofWWIWe2rE"
      },
      "outputs": [
        {
          "output_type": "stream",
          "name": "stdout",
          "text": [
            "wiz = FeatureWiz(verbose=1)\n",
            "        X_train_selected = wiz.fit_transform(X_train, y_train)\n",
            "        X_test_selected = wiz.transform(X_test)\n",
            "        wiz.features  ### provides a list of selected features ###            \n",
            "        \n",
            "############################################################################################\n",
            "############       F A S T   F E A T U R E  E N G G    A N D    S E L E C T I O N ! ########\n",
            "# Be judicious with featurewiz. Don't use it to create too many un-interpretable features! #\n",
            "############################################################################################\n",
            "correlation limit = 0.6\n",
            "Skipping feature engineering since no feature_engg input...\n",
            "Skipping category encoding since no category encoders specified in input...\n",
            "#### Single_Label Binary_Classification problem ####\n",
            "    Caution: We will try to reduce the memory usage of dataframe from 565.50 MB\n",
            "        memory usage after optimization is: 558.06 MB\n",
            "        decreased by 1.3%\n",
            "    Loaded train data. Shape = (1300365, 122)\n",
            "#### Single_Label Binary_Classification problem ####\n",
            "No test data filename given...\n",
            "Classifying features using a random sample of 10000 rows from dataset...\n",
            "#### Single_Label Binary_Classification problem ####\n",
            "    loading a random sample of 10000 rows into pandas for EDA\n",
            "#######################################################################################\n",
            "######################## C L A S S I F Y I N G  V A R I A B L E S  ####################\n",
            "#######################################################################################\n",
            "        No variables were removed since no ID or low-information variables found in data set\n",
            "    Running SULOV on smaller dataset sample since data size 158 m > 50 m. Continuing ...\n",
            "#######################################################################################\n",
            "#####  Searching for Uncorrelated List Of Variables (SULOV) in 121 features ############\n",
            "#######################################################################################\n",
            "    there are no null values in dataset...\n",
            "    Removing (75) highly correlated variables:\n",
            "Completed SULOV. 46 features selected\n",
            "Time taken for SULOV method = 3 seconds\n",
            "Finally 46 vars selected after SULOV\n",
            "Converting all features to numeric before sending to XGBoost...\n",
            "#######################################################################################\n",
            "#####    R E C U R S I V E   X G B O O S T : F E A T U R E   S E L E C T I O N  #######\n",
            "#######################################################################################\n",
            "Current number of predictors before recursive XGBoost = 46 \n",
            "Number of booster rounds = 20\n",
            "Regular XGBoost is crashing due to: [17:17:38] /workspace/src/tree/updater_gpu_hist.cu:1407: Exception in gpu_hist: NCCL failure :unhandled cuda error /workspace/src/tree/../common/device_helpers.cuh(896)\n",
            "\n",
            "Stack trace:\n",
            "  [bt] (0) /usr/local/lib/python3.7/dist-packages/xgboost/./lib/libxgboost.so(dmlc::LogMessageFatal::~LogMessageFatal()+0x24) [0x7f63b8b42cb4]\n",
            "  [bt] (1) /usr/local/lib/python3.7/dist-packages/xgboost/./lib/libxgboost.so(xgboost::tree::GPUHistMakerSpecialised<xgboost::detail::GradientPairInternal<double> >::Update(xgboost::HostDeviceVector<xgboost::detail::GradientPairInternal<float> >*, xgboost::DMatrix*, std::vector<xgboost::RegTree*, std::allocator<xgboost::RegTree*> > const&)+0x1270) [0x7f63b8d7e7f0]\n",
            "  [bt] (2) /usr/local/lib/python3.7/dist-packages/xgboost/./lib/libxgboost.so(xgboost::gbm::GBTree::BoostNewTrees(xgboost::HostDeviceVector<xgboost::detail::GradientPairInternal<float> >*, xgboost::DMatrix*, int, std::vector<std::unique_ptr<xgboost::RegTree, std::default_delete<xgboost::RegTree> >, std::allocator<std::unique_ptr<xgboost::RegTree, std::default_delete<xgboost::RegTree> > > >*)+0xa81) [0x7f63b8bc8791]\n",
            "  [bt] (3) /usr/local/lib/python3.7/dist-packages/xgboost/./lib/libxgboost.so(xgboost::gbm::GBTree::DoBoost(xgboost::DMatrix*, xgboost::HostDeviceVector<xgboost::detail::GradientPairInternal<float> >*, xgboost::ObjFunction*)+0xd65) [0x7f63b8bc9c95]\n",
            "  [bt] (4) /usr/local/lib/python3.7/dist-packages/xgboost/./lib/libxgboost.so(xgboost::LearnerImpl::UpdateOneIter(int, xgboost::DMatrix*)+0x396) [0x7f63b8bdc556]\n",
            "  [bt] (5) /usr/local/lib/python3.7/dist-packages/xgboost/./lib/libxgboost.so(XGBoosterUpdateOneIter+0x35) [0x7f63b8b3faa5]\n",
            "  [bt] (6) /usr/lib/x86_64-linux-gnu/libffi.so.6(ffi_call_unix64+0x4c) [0x7f63ef1c3dae]\n",
            "  [bt] (7) /usr/lib/x86_64-linux-gnu/libffi.so.6(ffi_call+0x22f) [0x7f63ef1c371f]\n",
            "  [bt] (8) /usr/lib/python3.7/lib-dynload/_ctypes.cpython-37m-x86_64-linux-gnu.so(+0xd849) [0x7f63ef3d3849]\n",
            "\n",
            "\n",
            "[17:17:38] /workspace/src/tree/updater_gpu_hist.cu:1407: Exception in gpu_hist: NCCL failure :unhandled cuda error /workspace/src/tree/../common/device_helpers.cuh(896)\n",
            "\n",
            "Stack trace:\n",
            "  [bt] (0) /usr/local/lib/python3.7/dist-packages/xgboost/./lib/libxgboost.so(dmlc::LogMessageFatal::~LogMessageFatal()+0x24) [0x7f63b8b42cb4]\n",
            "  [bt] (1) /usr/local/lib/python3.7/dist-packages/xgboost/./lib/libxgboost.so(xgboost::tree::GPUHistMakerSpecialised<xgboost::detail::GradientPairInternal<double> >::Update(xgboost::HostDeviceVector<xgboost::detail::GradientPairInternal<float> >*, xgboost::DMatrix*, std::vector<xgboost::RegTree*, std::allocator<xgboost::RegTree*> > const&)+0x1270) [0x7f63b8d7e7f0]\n",
            "  [bt] (2) /usr/local/lib/python3.7/dist-packages/xgboost/./lib/libxgboost.so(xgboost::gbm::GBTree::BoostNewTrees(xgboost::HostDeviceVector<xgboost::detail::GradientPairInternal<float> >*, xgboost::DMatrix*, int, std::vector<std::unique_ptr<xgboost::RegTree, std::default_delete<xgboost::RegTree> >, std::allocator<std::unique_ptr<xgboost::RegTree, std::default_delete<xgboost::RegTree> > > >*)+0xa81) [0x7f63b8bc8791]\n",
            "  [bt] (3) /usr/local/lib/python3.7/dist-packages/xgboost/./lib/libxgboost.so(xgboost::gbm::GBTree::DoBoost(xgboost::DMatrix*, xgboost::HostDeviceVector<xgboost::detail::GradientPairInternal<float> >*, xgboost::ObjFunction*)+0xd65) [0x7f63b8bc9c95]\n",
            "  [bt] (4) /usr/local/lib/python3.7/dist-packages/xgboost/./lib/libxgboost.so(xgboost::LearnerImpl::UpdateOneIter(int, xgboost::DMatrix*)+0x396) [0x7f63b8bdc556]\n",
            "  [bt] (5) /usr/local/lib/python3.7/dist-packages/xgboost/./lib/libxgboost.so(XGBoosterUpdateOneIter+0x35) [0x7f63b8b3faa5]\n",
            "  [bt] (6) /usr/lib/x86_64-linux-gnu/libffi.so.6(ffi_call_unix64+0x4c) [0x7f63ef1c3dae]\n",
            "  [bt] (7) /usr/lib/x86_64-linux-gnu/libffi.so.6(ffi_call+0x22f) [0x7f63ef1c371f]\n",
            "  [bt] (8) /usr/lib/python3.7/lib-dynload/_ctypes.cpython-37m-x86_64-linux-gnu.so(+0xd849) [0x7f63ef3d3849]\n",
            "\n",
            "\n",
            "Regular XGBoost is crashing due to Invalid Parameter format for gpu_id expect int but value='None'. Returning with currently selected features...\n",
            "    Completed XGBoost feature selection in 1 seconds\n",
            "#######################################################################################\n",
            "#####          F E A T U R E   S E L E C T I O N   C O M P L E T E D            #######\n",
            "#######################################################################################\n",
            "Selected 46 important features. Too many to print...\n",
            "Total Time taken for featurewiz selection = 5 seconds\n",
            "Output contains a list of 46 important features and a train dataframe\n",
            "    Time taken to create entire pipeline = 17 second(s)\n"
          ]
        }
      ],
      "source": [
        "\n",
        "#X_train_a[\"ticker\"] = knowledge[\"ticker\"]\n",
        "#X_train_a[\"date\"] = knowledge[\"date\"]\n",
        "#X_train_a = X_train_a.sort_values(by=['date'])\n",
        "#y_train_a = y_train_a.reset_index(drop=True)\n",
        "#X_train_a = X_train_a.drop(['date'],axis=1)\n",
        "X_train_a = X_train_a.select_dtypes(include=['float64','int64'])\n",
        "\n",
        "\n",
        "#X_train_a[\"ticker\"] = knowledge[\"ticker\"]\n",
        "features = FeatureWiz(corr_limit=0.60, feature_engg='', category_encoders='',dask_xgboost_flag=False, nrows=None, verbose=0)\n",
        "X_train_a = features.fit_transform(df,y_train_a)\n",
        "\n"
      ]
    },
    {
      "cell_type": "code",
      "execution_count": 77,
      "metadata": {
        "colab": {
          "base_uri": "https://localhost:8080/"
        },
        "outputId": "d52a5da1-1e84-44d2-9bd4-df0a7b198d9c",
        "id": "Xe2VNEbte2rF"
      },
      "outputs": [
        {
          "output_type": "execute_result",
          "data": {
            "text/plain": [
              "(1300365, 46)"
            ]
          },
          "metadata": {},
          "execution_count": 77
        }
      ],
      "source": [
        "X_train_a.shape"
      ]
    },
    {
      "cell_type": "code",
      "execution_count": 78,
      "metadata": {
        "id": "oU9c-Ezue2rF"
      },
      "outputs": [],
      "source": [
        "del df"
      ]
    },
    {
      "cell_type": "code",
      "execution_count": 79,
      "metadata": {
        "id": "tF6-eCOPe2rF"
      },
      "outputs": [],
      "source": [
        "#X_train_a[\"ticker\"] = knowledge[\"ticker\"]"
      ]
    },
    {
      "cell_type": "code",
      "source": [],
      "metadata": {
        "id": "RhhtZPmEe6Ue"
      },
      "execution_count": 79,
      "outputs": []
    },
    {
      "cell_type": "markdown",
      "source": [
        "#### Processing"
      ],
      "metadata": {
        "id": "1oiZ2u9Ke-BI"
      }
    },
    {
      "cell_type": "code",
      "source": [
        "knowledge = knowledge.reset_index(drop=True)"
      ],
      "metadata": {
        "id": "xvPIRQeHe9Ju"
      },
      "execution_count": 80,
      "outputs": []
    },
    {
      "cell_type": "code",
      "source": [
        "X_train_a.shape"
      ],
      "metadata": {
        "colab": {
          "base_uri": "https://localhost:8080/"
        },
        "id": "8D4w1la8i58P",
        "outputId": "4b839eb8-4359-48f2-94ab-28a4d71c8888"
      },
      "execution_count": 81,
      "outputs": [
        {
          "output_type": "execute_result",
          "data": {
            "text/plain": [
              "(1300365, 46)"
            ]
          },
          "metadata": {},
          "execution_count": 81
        }
      ]
    },
    {
      "cell_type": "code",
      "source": [
        "X_train_a = X_train_a.select_dtypes(include=['int16', 'int32', 'int64', 'float16', 'float32', 'float64'])"
      ],
      "metadata": {
        "id": "-J747RxkijvK"
      },
      "execution_count": 84,
      "outputs": []
    },
    {
      "cell_type": "code",
      "source": [
        "X_train_a2.shape"
      ],
      "metadata": {
        "colab": {
          "base_uri": "https://localhost:8080/"
        },
        "id": "LSF7LmJTjBAi",
        "outputId": "e64057c8-269a-4a69-f4da-7af4d9cae386"
      },
      "execution_count": 85,
      "outputs": [
        {
          "output_type": "execute_result",
          "data": {
            "text/plain": [
              "(1300365, 46)"
            ]
          },
          "metadata": {},
          "execution_count": 85
        }
      ]
    },
    {
      "cell_type": "code",
      "source": [
        "tickers = knowledge['ticker']"
      ],
      "metadata": {
        "id": "WtIoIkUOjCgL"
      },
      "execution_count": 86,
      "outputs": []
    },
    {
      "cell_type": "code",
      "source": [
        "ticker_indexes = []"
      ],
      "metadata": {
        "id": "INrKCS_djlk5"
      },
      "execution_count": null,
      "outputs": []
    },
    {
      "cell_type": "code",
      "source": [
        "knowledge['ticker'].unique()"
      ],
      "metadata": {
        "colab": {
          "base_uri": "https://localhost:8080/"
        },
        "id": "bsYP--IUjoKv",
        "outputId": "7bf987d6-ae48-4efd-9d58-7d1d4fcbdbc5"
      },
      "execution_count": 89,
      "outputs": [
        {
          "output_type": "execute_result",
          "data": {
            "text/plain": [
              "array(['A', 'AAAB', 'AAAP', ..., 'ZYTO', 'ZYXI', 'ZZ'], dtype=object)"
            ]
          },
          "metadata": {},
          "execution_count": 89
        }
      ]
    },
    {
      "cell_type": "code",
      "source": [
        "idx = knowledge.drop_duplicates('ticker').index.tolist()"
      ],
      "metadata": {
        "id": "aVUnzo-QkRou"
      },
      "execution_count": 100,
      "outputs": []
    },
    {
      "cell_type": "code",
      "source": [
        "idx[0:3]"
      ],
      "metadata": {
        "colab": {
          "base_uri": "https://localhost:8080/"
        },
        "id": "_RGzPsLLlDr9",
        "outputId": "597584e8-3b60-4b28-a84b-df1279a0fa0f"
      },
      "execution_count": 101,
      "outputs": [
        {
          "output_type": "execute_result",
          "data": {
            "text/plain": [
              "[0, 218, 269]"
            ]
          },
          "metadata": {},
          "execution_count": 101
        }
      ]
    },
    {
      "cell_type": "code",
      "source": [
        "window = 4\n",
        "remove_indexes = []\n",
        "for item in idx:\n",
        "  remove_indexes.extend(range(item,item+window-1))"
      ],
      "metadata": {
        "id": "sU5BSPOtlgt0"
      },
      "execution_count": 102,
      "outputs": []
    },
    {
      "cell_type": "code",
      "source": [
        "start_time = time.time()\n",
        "X = X_train_a.rolling(window).apply(np.mean,engine='numba',raw=True).add_suffix(\"{}\".format('mean'))\n",
        "print(\"--- %s seconds ---\" % (time.time() - start_time))"
      ],
      "metadata": {
        "colab": {
          "base_uri": "https://localhost:8080/"
        },
        "id": "thfo2TjBoCWe",
        "outputId": "77703679-8456-4649-8b6b-57b71676cfb9"
      },
      "execution_count": 131,
      "outputs": [
        {
          "output_type": "stream",
          "name": "stdout",
          "text": [
            "--- 3.5917162895202637 seconds ---\n"
          ]
        }
      ]
    },
    {
      "cell_type": "code",
      "source": [
        "X.shape"
      ],
      "metadata": {
        "colab": {
          "base_uri": "https://localhost:8080/"
        },
        "id": "4HXWN_ZMorcw",
        "outputId": "73f96fcb-c0a6-4767-801e-6431c13ed908"
      },
      "execution_count": 111,
      "outputs": [
        {
          "output_type": "execute_result",
          "data": {
            "text/plain": [
              "(1300365, 46)"
            ]
          },
          "metadata": {},
          "execution_count": 111
        }
      ]
    },
    {
      "cell_type": "code",
      "source": [
        "X_train_a2 = X_train_a.copy()"
      ],
      "metadata": {
        "id": "yU46tKMGpT-u"
      },
      "execution_count": 112,
      "outputs": []
    },
    {
      "cell_type": "code",
      "source": [
        "knowledge = knowledge.reset_index(drop=True)"
      ],
      "metadata": {
        "id": "jtKtVbb3qkVV"
      },
      "execution_count": 118,
      "outputs": []
    },
    {
      "cell_type": "code",
      "source": [
        "X_train_a2['ticker'] = knowledge['ticker'].tolist()"
      ],
      "metadata": {
        "id": "2StRO0fJpjVY"
      },
      "execution_count": 124,
      "outputs": []
    },
    {
      "cell_type": "code",
      "source": [
        "X_train_a2.shape"
      ],
      "metadata": {
        "colab": {
          "base_uri": "https://localhost:8080/"
        },
        "id": "WNZuhIcjpwUW",
        "outputId": "01b37ce8-44ba-4655-dd64-f769d51c5440"
      },
      "execution_count": 125,
      "outputs": [
        {
          "output_type": "execute_result",
          "data": {
            "text/plain": [
              "(1300365, 47)"
            ]
          },
          "metadata": {},
          "execution_count": 125
        }
      ]
    },
    {
      "cell_type": "code",
      "source": [
        "import time"
      ],
      "metadata": {
        "id": "chGUcmgZrtnq"
      },
      "execution_count": 129,
      "outputs": []
    },
    {
      "cell_type": "code",
      "source": [
        "start_time = time.time()\n",
        "X2 = X_train_a2.groupby('ticker').rolling(4).apply(np.mean,engine='numba',raw=True).add_suffix(\"{}\".format('_abcd'))\n",
        "print(\"--- %s seconds ---\" % (time.time() - start_time))\n"
      ],
      "metadata": {
        "colab": {
          "base_uri": "https://localhost:8080/"
        },
        "id": "_DuJdL49o5_9",
        "outputId": "0fc0b7ee-c7f2-4a60-8268-1ef8b9eadf5c"
      },
      "execution_count": 130,
      "outputs": [
        {
          "output_type": "stream",
          "name": "stdout",
          "text": [
            "--- 28.03977060317993 seconds ---\n"
          ]
        }
      ]
    },
    {
      "cell_type": "code",
      "source": [
        "X.shape"
      ],
      "metadata": {
        "colab": {
          "base_uri": "https://localhost:8080/"
        },
        "id": "8L-dres1sHKu",
        "outputId": "9974a4ff-e838-4d43-a758-dc6cca8ee1d9"
      },
      "execution_count": 132,
      "outputs": [
        {
          "output_type": "execute_result",
          "data": {
            "text/plain": [
              "(1300365, 46)"
            ]
          },
          "metadata": {},
          "execution_count": 132
        }
      ]
    },
    {
      "cell_type": "code",
      "source": [
        "X2.shape"
      ],
      "metadata": {
        "colab": {
          "base_uri": "https://localhost:8080/"
        },
        "id": "VOqH032SskX3",
        "outputId": "60625542-d150-406c-ab97-213be0c4b923"
      },
      "execution_count": 137,
      "outputs": [
        {
          "output_type": "execute_result",
          "data": {
            "text/plain": [
              "(1300365, 46)"
            ]
          },
          "metadata": {},
          "execution_count": 137
        }
      ]
    },
    {
      "cell_type": "code",
      "source": [
        "X2.head()"
      ],
      "metadata": {
        "colab": {
          "base_uri": "https://localhost:8080/",
          "height": 418
        },
        "id": "6XJdBmrismAO",
        "outputId": "76c4df9f-30a8-4af6-fea0-ef35a6709b38"
      },
      "execution_count": 138,
      "outputs": [
        {
          "output_type": "execute_result",
          "data": {
            "text/plain": [
              "                     currentratio_abcd  deferredrev_abcd  delay_abcd  \\\n",
              "ticker id                                                              \n",
              "A      A_1999-11-30                NaN               NaN         NaN   \n",
              "       A_1999-12-31                NaN               NaN         NaN   \n",
              "       A_2000-01-31                NaN               NaN         NaN   \n",
              "       A_2000-02-29           2.162109       242500000.0        99.0   \n",
              "       A_2000-03-31           2.209961       251750000.0        82.0   \n",
              "\n",
              "                     divyield_abcd  dps_abcd  evebit_abcd  evebitda_abcd  \\\n",
              "ticker id                                                                  \n",
              "A      A_1999-11-30            NaN       NaN          NaN            NaN   \n",
              "       A_1999-12-31            NaN       NaN          NaN            NaN   \n",
              "       A_2000-01-31            NaN       NaN          NaN            NaN   \n",
              "       A_2000-02-29            0.0       0.0         39.0      24.243999   \n",
              "       A_2000-03-31            0.0       0.0         39.0      24.243999   \n",
              "\n",
              "                     grossmargin_abcd  log_return_7_mean_mean_monthly_abcd  \\\n",
              "ticker id                                                                    \n",
              "A      A_1999-11-30               NaN                                  NaN   \n",
              "       A_1999-12-31               NaN                                  NaN   \n",
              "       A_2000-01-31               NaN                                  NaN   \n",
              "       A_2000-02-29          0.471924                             0.079773   \n",
              "       A_2000-03-31          0.474915                             0.079773   \n",
              "\n",
              "                     log_return_7_mean_std_monthly_abcd  ...     ebt_abcd  \\\n",
              "ticker id                                                ...                \n",
              "A      A_1999-11-30                                 NaN  ...          NaN   \n",
              "       A_1999-12-31                                 NaN  ...          NaN   \n",
              "       A_2000-01-31                                 NaN  ...          NaN   \n",
              "       A_2000-02-29                            0.079773  ...  224000000.0   \n",
              "       A_2000-03-31                            0.079773  ...  218500000.0   \n",
              "\n",
              "                     ev_ratios_abcd  netinccmnusd_abcd  \\\n",
              "ticker id                                                \n",
              "A      A_1999-11-30             NaN                NaN   \n",
              "       A_1999-12-31             NaN                NaN   \n",
              "       A_2000-01-31             NaN                NaN   \n",
              "       A_2000-02-29    27606.150391        146000000.0   \n",
              "       A_2000-03-31    36737.072266        142250000.0   \n",
              "\n",
              "                     log_return_mean_monthly_abcd  cashnequsd_abcd  \\\n",
              "ticker id                                                            \n",
              "A      A_1999-11-30                           NaN              NaN   \n",
              "       A_1999-12-31                           NaN              NaN   \n",
              "       A_2000-01-31                           NaN              NaN   \n",
              "       A_2000-02-29                      0.376648              0.0   \n",
              "       A_2000-03-31                      0.225522      342000000.0   \n",
              "\n",
              "                       ncff_abcd  ncfinv_abcd  sharesbas_abcd  accoci_abcd  \\\n",
              "ticker id                                                                    \n",
              "A      A_1999-11-30          NaN          NaN             NaN          NaN   \n",
              "       A_1999-12-31          NaN          NaN             NaN          NaN   \n",
              "       A_2000-01-31          NaN          NaN             NaN          NaN   \n",
              "       A_2000-02-29   16000000.0          0.0     448500000.0          0.0   \n",
              "       A_2000-03-31  310000000.0  -10500000.0     450250000.0   13250000.0   \n",
              "\n",
              "                     volume_pct_std_monthly_abcd  \n",
              "ticker id                                         \n",
              "A      A_1999-11-30                          NaN  \n",
              "       A_1999-12-31                          NaN  \n",
              "       A_2000-01-31                          NaN  \n",
              "       A_2000-02-29                    -0.331101  \n",
              "       A_2000-03-31                    -0.052176  \n",
              "\n",
              "[5 rows x 46 columns]"
            ],
            "text/html": [
              "\n",
              "  <div id=\"df-75034d0f-be63-4f47-95a7-fc182f405c50\">\n",
              "    <div class=\"colab-df-container\">\n",
              "      <div>\n",
              "<style scoped>\n",
              "    .dataframe tbody tr th:only-of-type {\n",
              "        vertical-align: middle;\n",
              "    }\n",
              "\n",
              "    .dataframe tbody tr th {\n",
              "        vertical-align: top;\n",
              "    }\n",
              "\n",
              "    .dataframe thead th {\n",
              "        text-align: right;\n",
              "    }\n",
              "</style>\n",
              "<table border=\"1\" class=\"dataframe\">\n",
              "  <thead>\n",
              "    <tr style=\"text-align: right;\">\n",
              "      <th></th>\n",
              "      <th></th>\n",
              "      <th>currentratio_abcd</th>\n",
              "      <th>deferredrev_abcd</th>\n",
              "      <th>delay_abcd</th>\n",
              "      <th>divyield_abcd</th>\n",
              "      <th>dps_abcd</th>\n",
              "      <th>evebit_abcd</th>\n",
              "      <th>evebitda_abcd</th>\n",
              "      <th>grossmargin_abcd</th>\n",
              "      <th>log_return_7_mean_mean_monthly_abcd</th>\n",
              "      <th>log_return_7_mean_std_monthly_abcd</th>\n",
              "      <th>...</th>\n",
              "      <th>ebt_abcd</th>\n",
              "      <th>ev_ratios_abcd</th>\n",
              "      <th>netinccmnusd_abcd</th>\n",
              "      <th>log_return_mean_monthly_abcd</th>\n",
              "      <th>cashnequsd_abcd</th>\n",
              "      <th>ncff_abcd</th>\n",
              "      <th>ncfinv_abcd</th>\n",
              "      <th>sharesbas_abcd</th>\n",
              "      <th>accoci_abcd</th>\n",
              "      <th>volume_pct_std_monthly_abcd</th>\n",
              "    </tr>\n",
              "    <tr>\n",
              "      <th>ticker</th>\n",
              "      <th>id</th>\n",
              "      <th></th>\n",
              "      <th></th>\n",
              "      <th></th>\n",
              "      <th></th>\n",
              "      <th></th>\n",
              "      <th></th>\n",
              "      <th></th>\n",
              "      <th></th>\n",
              "      <th></th>\n",
              "      <th></th>\n",
              "      <th></th>\n",
              "      <th></th>\n",
              "      <th></th>\n",
              "      <th></th>\n",
              "      <th></th>\n",
              "      <th></th>\n",
              "      <th></th>\n",
              "      <th></th>\n",
              "      <th></th>\n",
              "      <th></th>\n",
              "      <th></th>\n",
              "    </tr>\n",
              "  </thead>\n",
              "  <tbody>\n",
              "    <tr>\n",
              "      <th rowspan=\"5\" valign=\"top\">A</th>\n",
              "      <th>A_1999-11-30</th>\n",
              "      <td>NaN</td>\n",
              "      <td>NaN</td>\n",
              "      <td>NaN</td>\n",
              "      <td>NaN</td>\n",
              "      <td>NaN</td>\n",
              "      <td>NaN</td>\n",
              "      <td>NaN</td>\n",
              "      <td>NaN</td>\n",
              "      <td>NaN</td>\n",
              "      <td>NaN</td>\n",
              "      <td>...</td>\n",
              "      <td>NaN</td>\n",
              "      <td>NaN</td>\n",
              "      <td>NaN</td>\n",
              "      <td>NaN</td>\n",
              "      <td>NaN</td>\n",
              "      <td>NaN</td>\n",
              "      <td>NaN</td>\n",
              "      <td>NaN</td>\n",
              "      <td>NaN</td>\n",
              "      <td>NaN</td>\n",
              "    </tr>\n",
              "    <tr>\n",
              "      <th>A_1999-12-31</th>\n",
              "      <td>NaN</td>\n",
              "      <td>NaN</td>\n",
              "      <td>NaN</td>\n",
              "      <td>NaN</td>\n",
              "      <td>NaN</td>\n",
              "      <td>NaN</td>\n",
              "      <td>NaN</td>\n",
              "      <td>NaN</td>\n",
              "      <td>NaN</td>\n",
              "      <td>NaN</td>\n",
              "      <td>...</td>\n",
              "      <td>NaN</td>\n",
              "      <td>NaN</td>\n",
              "      <td>NaN</td>\n",
              "      <td>NaN</td>\n",
              "      <td>NaN</td>\n",
              "      <td>NaN</td>\n",
              "      <td>NaN</td>\n",
              "      <td>NaN</td>\n",
              "      <td>NaN</td>\n",
              "      <td>NaN</td>\n",
              "    </tr>\n",
              "    <tr>\n",
              "      <th>A_2000-01-31</th>\n",
              "      <td>NaN</td>\n",
              "      <td>NaN</td>\n",
              "      <td>NaN</td>\n",
              "      <td>NaN</td>\n",
              "      <td>NaN</td>\n",
              "      <td>NaN</td>\n",
              "      <td>NaN</td>\n",
              "      <td>NaN</td>\n",
              "      <td>NaN</td>\n",
              "      <td>NaN</td>\n",
              "      <td>...</td>\n",
              "      <td>NaN</td>\n",
              "      <td>NaN</td>\n",
              "      <td>NaN</td>\n",
              "      <td>NaN</td>\n",
              "      <td>NaN</td>\n",
              "      <td>NaN</td>\n",
              "      <td>NaN</td>\n",
              "      <td>NaN</td>\n",
              "      <td>NaN</td>\n",
              "      <td>NaN</td>\n",
              "    </tr>\n",
              "    <tr>\n",
              "      <th>A_2000-02-29</th>\n",
              "      <td>2.162109</td>\n",
              "      <td>242500000.0</td>\n",
              "      <td>99.0</td>\n",
              "      <td>0.0</td>\n",
              "      <td>0.0</td>\n",
              "      <td>39.0</td>\n",
              "      <td>24.243999</td>\n",
              "      <td>0.471924</td>\n",
              "      <td>0.079773</td>\n",
              "      <td>0.079773</td>\n",
              "      <td>...</td>\n",
              "      <td>224000000.0</td>\n",
              "      <td>27606.150391</td>\n",
              "      <td>146000000.0</td>\n",
              "      <td>0.376648</td>\n",
              "      <td>0.0</td>\n",
              "      <td>16000000.0</td>\n",
              "      <td>0.0</td>\n",
              "      <td>448500000.0</td>\n",
              "      <td>0.0</td>\n",
              "      <td>-0.331101</td>\n",
              "    </tr>\n",
              "    <tr>\n",
              "      <th>A_2000-03-31</th>\n",
              "      <td>2.209961</td>\n",
              "      <td>251750000.0</td>\n",
              "      <td>82.0</td>\n",
              "      <td>0.0</td>\n",
              "      <td>0.0</td>\n",
              "      <td>39.0</td>\n",
              "      <td>24.243999</td>\n",
              "      <td>0.474915</td>\n",
              "      <td>0.079773</td>\n",
              "      <td>0.079773</td>\n",
              "      <td>...</td>\n",
              "      <td>218500000.0</td>\n",
              "      <td>36737.072266</td>\n",
              "      <td>142250000.0</td>\n",
              "      <td>0.225522</td>\n",
              "      <td>342000000.0</td>\n",
              "      <td>310000000.0</td>\n",
              "      <td>-10500000.0</td>\n",
              "      <td>450250000.0</td>\n",
              "      <td>13250000.0</td>\n",
              "      <td>-0.052176</td>\n",
              "    </tr>\n",
              "  </tbody>\n",
              "</table>\n",
              "<p>5 rows × 46 columns</p>\n",
              "</div>\n",
              "      <button class=\"colab-df-convert\" onclick=\"convertToInteractive('df-75034d0f-be63-4f47-95a7-fc182f405c50')\"\n",
              "              title=\"Convert this dataframe to an interactive table.\"\n",
              "              style=\"display:none;\">\n",
              "        \n",
              "  <svg xmlns=\"http://www.w3.org/2000/svg\" height=\"24px\"viewBox=\"0 0 24 24\"\n",
              "       width=\"24px\">\n",
              "    <path d=\"M0 0h24v24H0V0z\" fill=\"none\"/>\n",
              "    <path d=\"M18.56 5.44l.94 2.06.94-2.06 2.06-.94-2.06-.94-.94-2.06-.94 2.06-2.06.94zm-11 1L8.5 8.5l.94-2.06 2.06-.94-2.06-.94L8.5 2.5l-.94 2.06-2.06.94zm10 10l.94 2.06.94-2.06 2.06-.94-2.06-.94-.94-2.06-.94 2.06-2.06.94z\"/><path d=\"M17.41 7.96l-1.37-1.37c-.4-.4-.92-.59-1.43-.59-.52 0-1.04.2-1.43.59L10.3 9.45l-7.72 7.72c-.78.78-.78 2.05 0 2.83L4 21.41c.39.39.9.59 1.41.59.51 0 1.02-.2 1.41-.59l7.78-7.78 2.81-2.81c.8-.78.8-2.07 0-2.86zM5.41 20L4 18.59l7.72-7.72 1.47 1.35L5.41 20z\"/>\n",
              "  </svg>\n",
              "      </button>\n",
              "      \n",
              "  <style>\n",
              "    .colab-df-container {\n",
              "      display:flex;\n",
              "      flex-wrap:wrap;\n",
              "      gap: 12px;\n",
              "    }\n",
              "\n",
              "    .colab-df-convert {\n",
              "      background-color: #E8F0FE;\n",
              "      border: none;\n",
              "      border-radius: 50%;\n",
              "      cursor: pointer;\n",
              "      display: none;\n",
              "      fill: #1967D2;\n",
              "      height: 32px;\n",
              "      padding: 0 0 0 0;\n",
              "      width: 32px;\n",
              "    }\n",
              "\n",
              "    .colab-df-convert:hover {\n",
              "      background-color: #E2EBFA;\n",
              "      box-shadow: 0px 1px 2px rgba(60, 64, 67, 0.3), 0px 1px 3px 1px rgba(60, 64, 67, 0.15);\n",
              "      fill: #174EA6;\n",
              "    }\n",
              "\n",
              "    [theme=dark] .colab-df-convert {\n",
              "      background-color: #3B4455;\n",
              "      fill: #D2E3FC;\n",
              "    }\n",
              "\n",
              "    [theme=dark] .colab-df-convert:hover {\n",
              "      background-color: #434B5C;\n",
              "      box-shadow: 0px 1px 3px 1px rgba(0, 0, 0, 0.15);\n",
              "      filter: drop-shadow(0px 1px 2px rgba(0, 0, 0, 0.3));\n",
              "      fill: #FFFFFF;\n",
              "    }\n",
              "  </style>\n",
              "\n",
              "      <script>\n",
              "        const buttonEl =\n",
              "          document.querySelector('#df-75034d0f-be63-4f47-95a7-fc182f405c50 button.colab-df-convert');\n",
              "        buttonEl.style.display =\n",
              "          google.colab.kernel.accessAllowed ? 'block' : 'none';\n",
              "\n",
              "        async function convertToInteractive(key) {\n",
              "          const element = document.querySelector('#df-75034d0f-be63-4f47-95a7-fc182f405c50');\n",
              "          const dataTable =\n",
              "            await google.colab.kernel.invokeFunction('convertToInteractive',\n",
              "                                                     [key], {});\n",
              "          if (!dataTable) return;\n",
              "\n",
              "          const docLinkHtml = 'Like what you see? Visit the ' +\n",
              "            '<a target=\"_blank\" href=https://colab.research.google.com/notebooks/data_table.ipynb>data table notebook</a>'\n",
              "            + ' to learn more about interactive tables.';\n",
              "          element.innerHTML = '';\n",
              "          dataTable['output_type'] = 'display_data';\n",
              "          await google.colab.output.renderOutput(dataTable, element);\n",
              "          const docLink = document.createElement('div');\n",
              "          docLink.innerHTML = docLinkHtml;\n",
              "          element.appendChild(docLink);\n",
              "        }\n",
              "      </script>\n",
              "    </div>\n",
              "  </div>\n",
              "  "
            ]
          },
          "metadata": {},
          "execution_count": 138
        }
      ]
    },
    {
      "cell_type": "code",
      "source": [
        "X = X.reset_index(drop=True)"
      ],
      "metadata": {
        "id": "DFbSCR-vs8I1"
      },
      "execution_count": 144,
      "outputs": []
    },
    {
      "cell_type": "code",
      "source": [
        "\n",
        "X_new = X[~X.index.isin(remove_indexes)]\n"
      ],
      "metadata": {
        "id": "rk5FQHhPpo27"
      },
      "execution_count": 145,
      "outputs": []
    },
    {
      "cell_type": "code",
      "source": [
        "X_new.shape"
      ],
      "metadata": {
        "colab": {
          "base_uri": "https://localhost:8080/"
        },
        "id": "UCy9NRZpsGSB",
        "outputId": "7f41dbff-be0a-4875-a089-157544a62b81"
      },
      "execution_count": 146,
      "outputs": [
        {
          "output_type": "execute_result",
          "data": {
            "text/plain": [
              "(1266867, 46)"
            ]
          },
          "metadata": {},
          "execution_count": 146
        }
      ]
    },
    {
      "cell_type": "code",
      "source": [
        "X_new.head()"
      ],
      "metadata": {
        "colab": {
          "base_uri": "https://localhost:8080/",
          "height": 300
        },
        "id": "hpqDTBQxswhk",
        "outputId": "3f999956-5c6d-41f1-e85a-415cc0d1f746"
      },
      "execution_count": 147,
      "outputs": [
        {
          "output_type": "execute_result",
          "data": {
            "text/plain": [
              "   currentratiomean  deferredrevmean  delaymean  divyieldmean  dpsmean  \\\n",
              "3          2.162109      242500000.0      99.00           0.0      0.0   \n",
              "4          2.209961      251750000.0      82.00           0.0      0.0   \n",
              "5          2.257812      261000000.0      65.00           0.0      0.0   \n",
              "6          2.333984      271000000.0      54.50           0.0      0.0   \n",
              "7          2.385742      293000000.0      43.75           0.0      0.0   \n",
              "\n",
              "   evebitmean  evebitdamean  grossmarginmean  \\\n",
              "3        39.0     24.243999         0.471924   \n",
              "4        39.0     24.243999         0.474915   \n",
              "5        39.0     24.243999         0.477905   \n",
              "6        39.0     24.243999         0.480896   \n",
              "7        39.0     24.243999         0.486145   \n",
              "\n",
              "   log_return_7_mean_mean_monthlymean  log_return_7_mean_std_monthlymean  ...  \\\n",
              "3                            0.079773                           0.079773  ...   \n",
              "4                            0.079773                           0.079773  ...   \n",
              "5                            0.079773                           0.079773  ...   \n",
              "6                            0.079773                           0.079773  ...   \n",
              "7                            0.079773                           0.079773  ...   \n",
              "\n",
              "       ebtmean  ev_ratiosmean  netinccmnusdmean  log_return_mean_monthlymean  \\\n",
              "3  224000000.0   27606.150391       146000000.0                     0.376648   \n",
              "4  218500000.0   36737.072266       142250000.0                     0.225522   \n",
              "5  213000000.0   41504.401367       138500000.0                     0.034177   \n",
              "6  207500000.0   42694.365234       134750000.0                     0.026639   \n",
              "7  215500000.0   40914.106934       139750000.0                    -0.085685   \n",
              "\n",
              "   cashnequsdmean     ncffmean  ncfinvmean  sharesbasmean  accocimean  \\\n",
              "3    0.000000e+00   16000000.0         0.0    448500000.0         0.0   \n",
              "4    3.420000e+08  310000000.0 -10500000.0    450250000.0  13250000.0   \n",
              "5    6.840000e+08  604000000.0 -21000000.0    452000000.0  26500000.0   \n",
              "6    1.026000e+09  898000000.0 -31500000.0    452000000.0  39750000.0   \n",
              "7    1.270500e+09  891250000.0  -7750000.0    452067992.0  38750000.0   \n",
              "\n",
              "   volume_pct_std_monthlymean  \n",
              "3                   -0.331101  \n",
              "4                   -0.052176  \n",
              "5                   -0.011381  \n",
              "6                    0.407232  \n",
              "7                    0.638891  \n",
              "\n",
              "[5 rows x 46 columns]"
            ],
            "text/html": [
              "\n",
              "  <div id=\"df-b72a09ba-966a-42ce-8ab6-114cdf6c653d\">\n",
              "    <div class=\"colab-df-container\">\n",
              "      <div>\n",
              "<style scoped>\n",
              "    .dataframe tbody tr th:only-of-type {\n",
              "        vertical-align: middle;\n",
              "    }\n",
              "\n",
              "    .dataframe tbody tr th {\n",
              "        vertical-align: top;\n",
              "    }\n",
              "\n",
              "    .dataframe thead th {\n",
              "        text-align: right;\n",
              "    }\n",
              "</style>\n",
              "<table border=\"1\" class=\"dataframe\">\n",
              "  <thead>\n",
              "    <tr style=\"text-align: right;\">\n",
              "      <th></th>\n",
              "      <th>currentratiomean</th>\n",
              "      <th>deferredrevmean</th>\n",
              "      <th>delaymean</th>\n",
              "      <th>divyieldmean</th>\n",
              "      <th>dpsmean</th>\n",
              "      <th>evebitmean</th>\n",
              "      <th>evebitdamean</th>\n",
              "      <th>grossmarginmean</th>\n",
              "      <th>log_return_7_mean_mean_monthlymean</th>\n",
              "      <th>log_return_7_mean_std_monthlymean</th>\n",
              "      <th>...</th>\n",
              "      <th>ebtmean</th>\n",
              "      <th>ev_ratiosmean</th>\n",
              "      <th>netinccmnusdmean</th>\n",
              "      <th>log_return_mean_monthlymean</th>\n",
              "      <th>cashnequsdmean</th>\n",
              "      <th>ncffmean</th>\n",
              "      <th>ncfinvmean</th>\n",
              "      <th>sharesbasmean</th>\n",
              "      <th>accocimean</th>\n",
              "      <th>volume_pct_std_monthlymean</th>\n",
              "    </tr>\n",
              "  </thead>\n",
              "  <tbody>\n",
              "    <tr>\n",
              "      <th>3</th>\n",
              "      <td>2.162109</td>\n",
              "      <td>242500000.0</td>\n",
              "      <td>99.00</td>\n",
              "      <td>0.0</td>\n",
              "      <td>0.0</td>\n",
              "      <td>39.0</td>\n",
              "      <td>24.243999</td>\n",
              "      <td>0.471924</td>\n",
              "      <td>0.079773</td>\n",
              "      <td>0.079773</td>\n",
              "      <td>...</td>\n",
              "      <td>224000000.0</td>\n",
              "      <td>27606.150391</td>\n",
              "      <td>146000000.0</td>\n",
              "      <td>0.376648</td>\n",
              "      <td>0.000000e+00</td>\n",
              "      <td>16000000.0</td>\n",
              "      <td>0.0</td>\n",
              "      <td>448500000.0</td>\n",
              "      <td>0.0</td>\n",
              "      <td>-0.331101</td>\n",
              "    </tr>\n",
              "    <tr>\n",
              "      <th>4</th>\n",
              "      <td>2.209961</td>\n",
              "      <td>251750000.0</td>\n",
              "      <td>82.00</td>\n",
              "      <td>0.0</td>\n",
              "      <td>0.0</td>\n",
              "      <td>39.0</td>\n",
              "      <td>24.243999</td>\n",
              "      <td>0.474915</td>\n",
              "      <td>0.079773</td>\n",
              "      <td>0.079773</td>\n",
              "      <td>...</td>\n",
              "      <td>218500000.0</td>\n",
              "      <td>36737.072266</td>\n",
              "      <td>142250000.0</td>\n",
              "      <td>0.225522</td>\n",
              "      <td>3.420000e+08</td>\n",
              "      <td>310000000.0</td>\n",
              "      <td>-10500000.0</td>\n",
              "      <td>450250000.0</td>\n",
              "      <td>13250000.0</td>\n",
              "      <td>-0.052176</td>\n",
              "    </tr>\n",
              "    <tr>\n",
              "      <th>5</th>\n",
              "      <td>2.257812</td>\n",
              "      <td>261000000.0</td>\n",
              "      <td>65.00</td>\n",
              "      <td>0.0</td>\n",
              "      <td>0.0</td>\n",
              "      <td>39.0</td>\n",
              "      <td>24.243999</td>\n",
              "      <td>0.477905</td>\n",
              "      <td>0.079773</td>\n",
              "      <td>0.079773</td>\n",
              "      <td>...</td>\n",
              "      <td>213000000.0</td>\n",
              "      <td>41504.401367</td>\n",
              "      <td>138500000.0</td>\n",
              "      <td>0.034177</td>\n",
              "      <td>6.840000e+08</td>\n",
              "      <td>604000000.0</td>\n",
              "      <td>-21000000.0</td>\n",
              "      <td>452000000.0</td>\n",
              "      <td>26500000.0</td>\n",
              "      <td>-0.011381</td>\n",
              "    </tr>\n",
              "    <tr>\n",
              "      <th>6</th>\n",
              "      <td>2.333984</td>\n",
              "      <td>271000000.0</td>\n",
              "      <td>54.50</td>\n",
              "      <td>0.0</td>\n",
              "      <td>0.0</td>\n",
              "      <td>39.0</td>\n",
              "      <td>24.243999</td>\n",
              "      <td>0.480896</td>\n",
              "      <td>0.079773</td>\n",
              "      <td>0.079773</td>\n",
              "      <td>...</td>\n",
              "      <td>207500000.0</td>\n",
              "      <td>42694.365234</td>\n",
              "      <td>134750000.0</td>\n",
              "      <td>0.026639</td>\n",
              "      <td>1.026000e+09</td>\n",
              "      <td>898000000.0</td>\n",
              "      <td>-31500000.0</td>\n",
              "      <td>452000000.0</td>\n",
              "      <td>39750000.0</td>\n",
              "      <td>0.407232</td>\n",
              "    </tr>\n",
              "    <tr>\n",
              "      <th>7</th>\n",
              "      <td>2.385742</td>\n",
              "      <td>293000000.0</td>\n",
              "      <td>43.75</td>\n",
              "      <td>0.0</td>\n",
              "      <td>0.0</td>\n",
              "      <td>39.0</td>\n",
              "      <td>24.243999</td>\n",
              "      <td>0.486145</td>\n",
              "      <td>0.079773</td>\n",
              "      <td>0.079773</td>\n",
              "      <td>...</td>\n",
              "      <td>215500000.0</td>\n",
              "      <td>40914.106934</td>\n",
              "      <td>139750000.0</td>\n",
              "      <td>-0.085685</td>\n",
              "      <td>1.270500e+09</td>\n",
              "      <td>891250000.0</td>\n",
              "      <td>-7750000.0</td>\n",
              "      <td>452067992.0</td>\n",
              "      <td>38750000.0</td>\n",
              "      <td>0.638891</td>\n",
              "    </tr>\n",
              "  </tbody>\n",
              "</table>\n",
              "<p>5 rows × 46 columns</p>\n",
              "</div>\n",
              "      <button class=\"colab-df-convert\" onclick=\"convertToInteractive('df-b72a09ba-966a-42ce-8ab6-114cdf6c653d')\"\n",
              "              title=\"Convert this dataframe to an interactive table.\"\n",
              "              style=\"display:none;\">\n",
              "        \n",
              "  <svg xmlns=\"http://www.w3.org/2000/svg\" height=\"24px\"viewBox=\"0 0 24 24\"\n",
              "       width=\"24px\">\n",
              "    <path d=\"M0 0h24v24H0V0z\" fill=\"none\"/>\n",
              "    <path d=\"M18.56 5.44l.94 2.06.94-2.06 2.06-.94-2.06-.94-.94-2.06-.94 2.06-2.06.94zm-11 1L8.5 8.5l.94-2.06 2.06-.94-2.06-.94L8.5 2.5l-.94 2.06-2.06.94zm10 10l.94 2.06.94-2.06 2.06-.94-2.06-.94-.94-2.06-.94 2.06-2.06.94z\"/><path d=\"M17.41 7.96l-1.37-1.37c-.4-.4-.92-.59-1.43-.59-.52 0-1.04.2-1.43.59L10.3 9.45l-7.72 7.72c-.78.78-.78 2.05 0 2.83L4 21.41c.39.39.9.59 1.41.59.51 0 1.02-.2 1.41-.59l7.78-7.78 2.81-2.81c.8-.78.8-2.07 0-2.86zM5.41 20L4 18.59l7.72-7.72 1.47 1.35L5.41 20z\"/>\n",
              "  </svg>\n",
              "      </button>\n",
              "      \n",
              "  <style>\n",
              "    .colab-df-container {\n",
              "      display:flex;\n",
              "      flex-wrap:wrap;\n",
              "      gap: 12px;\n",
              "    }\n",
              "\n",
              "    .colab-df-convert {\n",
              "      background-color: #E8F0FE;\n",
              "      border: none;\n",
              "      border-radius: 50%;\n",
              "      cursor: pointer;\n",
              "      display: none;\n",
              "      fill: #1967D2;\n",
              "      height: 32px;\n",
              "      padding: 0 0 0 0;\n",
              "      width: 32px;\n",
              "    }\n",
              "\n",
              "    .colab-df-convert:hover {\n",
              "      background-color: #E2EBFA;\n",
              "      box-shadow: 0px 1px 2px rgba(60, 64, 67, 0.3), 0px 1px 3px 1px rgba(60, 64, 67, 0.15);\n",
              "      fill: #174EA6;\n",
              "    }\n",
              "\n",
              "    [theme=dark] .colab-df-convert {\n",
              "      background-color: #3B4455;\n",
              "      fill: #D2E3FC;\n",
              "    }\n",
              "\n",
              "    [theme=dark] .colab-df-convert:hover {\n",
              "      background-color: #434B5C;\n",
              "      box-shadow: 0px 1px 3px 1px rgba(0, 0, 0, 0.15);\n",
              "      filter: drop-shadow(0px 1px 2px rgba(0, 0, 0, 0.3));\n",
              "      fill: #FFFFFF;\n",
              "    }\n",
              "  </style>\n",
              "\n",
              "      <script>\n",
              "        const buttonEl =\n",
              "          document.querySelector('#df-b72a09ba-966a-42ce-8ab6-114cdf6c653d button.colab-df-convert');\n",
              "        buttonEl.style.display =\n",
              "          google.colab.kernel.accessAllowed ? 'block' : 'none';\n",
              "\n",
              "        async function convertToInteractive(key) {\n",
              "          const element = document.querySelector('#df-b72a09ba-966a-42ce-8ab6-114cdf6c653d');\n",
              "          const dataTable =\n",
              "            await google.colab.kernel.invokeFunction('convertToInteractive',\n",
              "                                                     [key], {});\n",
              "          if (!dataTable) return;\n",
              "\n",
              "          const docLinkHtml = 'Like what you see? Visit the ' +\n",
              "            '<a target=\"_blank\" href=https://colab.research.google.com/notebooks/data_table.ipynb>data table notebook</a>'\n",
              "            + ' to learn more about interactive tables.';\n",
              "          element.innerHTML = '';\n",
              "          dataTable['output_type'] = 'display_data';\n",
              "          await google.colab.output.renderOutput(dataTable, element);\n",
              "          const docLink = document.createElement('div');\n",
              "          docLink.innerHTML = docLinkHtml;\n",
              "          element.appendChild(docLink);\n",
              "        }\n",
              "      </script>\n",
              "    </div>\n",
              "  </div>\n",
              "  "
            ]
          },
          "metadata": {},
          "execution_count": 147
        }
      ]
    },
    {
      "cell_type": "code",
      "source": [
        "X4 = X2.dropna(axis=0)\n",
        "X4 = X4.reset_index(drop=True)"
      ],
      "metadata": {
        "id": "2pn98Xwpso-R"
      },
      "execution_count": 150,
      "outputs": []
    },
    {
      "cell_type": "code",
      "source": [
        "X4.shape"
      ],
      "metadata": {
        "colab": {
          "base_uri": "https://localhost:8080/"
        },
        "id": "Et2kyWVTs5wT",
        "outputId": "425caaca-e3e4-4be3-9702-cb0b3e4ab457"
      },
      "execution_count": 151,
      "outputs": [
        {
          "output_type": "execute_result",
          "data": {
            "text/plain": [
              "(1266867, 46)"
            ]
          },
          "metadata": {},
          "execution_count": 151
        }
      ]
    },
    {
      "cell_type": "code",
      "source": [
        "X_new = X_new.reset_index(drop=True)"
      ],
      "metadata": {
        "id": "N_lz9ECWtRgB"
      },
      "execution_count": 152,
      "outputs": []
    },
    {
      "cell_type": "code",
      "source": [
        "X4.sample(5,random_state=42)"
      ],
      "metadata": {
        "colab": {
          "base_uri": "https://localhost:8080/",
          "height": 300
        },
        "id": "C8OCaiMwtLQZ",
        "outputId": "c9e7f142-3bb4-44a8-d839-a5c55450c358"
      },
      "execution_count": 155,
      "outputs": [
        {
          "output_type": "execute_result",
          "data": {
            "text/plain": [
              "         currentratio_abcd  deferredrev_abcd  delay_abcd  divyield_abcd  \\\n",
              "594484            0.622070               0.0        46.0            0.0   \n",
              "1105239           2.556641               0.0        45.0            0.0   \n",
              "1244914           2.895996               0.0        33.0            0.0   \n",
              "168202            5.027344               0.0        53.0            0.0   \n",
              "1052987           1.054199               0.0        47.0            0.0   \n",
              "\n",
              "         dps_abcd  evebit_abcd  evebitda_abcd  grossmargin_abcd  \\\n",
              "594484        0.0        -2.00      -2.932000          0.140015   \n",
              "1105239       0.0        38.25      12.770250          0.059746   \n",
              "1244914       0.0         8.75       6.032750          0.340088   \n",
              "168202        0.0        -5.75     -18.442249          0.590820   \n",
              "1052987       0.0        -9.50      -0.571500          0.533447   \n",
              "\n",
              "         log_return_7_mean_mean_monthly_abcd  \\\n",
              "594484                             -0.040790   \n",
              "1105239                             0.006049   \n",
              "1244914                            -0.018784   \n",
              "168202                              0.034838   \n",
              "1052987                            -0.106918   \n",
              "\n",
              "         log_return_7_mean_std_monthly_abcd  ...   ebt_abcd  ev_ratios_abcd  \\\n",
              "594484                            -0.040790  ... -4921000.0       41.482890   \n",
              "1105239                            0.006049  ...   403077.5       36.257811   \n",
              "1244914                           -0.018784  ...  9601250.0      175.866472   \n",
              "168202                             0.034838  ... -2160500.0       54.428518   \n",
              "1052987                           -0.106918  ...  -671334.5        2.909632   \n",
              "\n",
              "         netinccmnusd_abcd  log_return_mean_monthly_abcd  cashnequsd_abcd  \\\n",
              "594484        -14283000.00                      0.118652          41000.0   \n",
              "1105239          284585.25                     -0.031771         118929.5   \n",
              "1244914         9307500.00                     -0.115288      124566250.0   \n",
              "168202         -1494500.00                      0.105684       22483500.0   \n",
              "1052987         -686329.50                     -0.186768        1253234.5   \n",
              "\n",
              "          ncff_abcd  ncfinv_abcd  sharesbas_abcd  accoci_abcd  \\\n",
              "594484   6849000.00          0.0     66738424.00    -380000.0   \n",
              "1105239  2256930.75          0.0      4535244.00          0.0   \n",
              "1244914  4170750.00          0.0     95964042.00     598250.0   \n",
              "168202     56000.00   -5611000.0     12475109.75     -28750.0   \n",
              "1052987        0.00          0.0        60004.00          0.0   \n",
              "\n",
              "         volume_pct_std_monthly_abcd  \n",
              "594484                      0.566257  \n",
              "1105239                     0.034122  \n",
              "1244914                     0.124169  \n",
              "168202                      0.303306  \n",
              "1052987                     4.837614  \n",
              "\n",
              "[5 rows x 46 columns]"
            ],
            "text/html": [
              "\n",
              "  <div id=\"df-1f1866b6-15e4-4e47-ae24-02b729215d0c\">\n",
              "    <div class=\"colab-df-container\">\n",
              "      <div>\n",
              "<style scoped>\n",
              "    .dataframe tbody tr th:only-of-type {\n",
              "        vertical-align: middle;\n",
              "    }\n",
              "\n",
              "    .dataframe tbody tr th {\n",
              "        vertical-align: top;\n",
              "    }\n",
              "\n",
              "    .dataframe thead th {\n",
              "        text-align: right;\n",
              "    }\n",
              "</style>\n",
              "<table border=\"1\" class=\"dataframe\">\n",
              "  <thead>\n",
              "    <tr style=\"text-align: right;\">\n",
              "      <th></th>\n",
              "      <th>currentratio_abcd</th>\n",
              "      <th>deferredrev_abcd</th>\n",
              "      <th>delay_abcd</th>\n",
              "      <th>divyield_abcd</th>\n",
              "      <th>dps_abcd</th>\n",
              "      <th>evebit_abcd</th>\n",
              "      <th>evebitda_abcd</th>\n",
              "      <th>grossmargin_abcd</th>\n",
              "      <th>log_return_7_mean_mean_monthly_abcd</th>\n",
              "      <th>log_return_7_mean_std_monthly_abcd</th>\n",
              "      <th>...</th>\n",
              "      <th>ebt_abcd</th>\n",
              "      <th>ev_ratios_abcd</th>\n",
              "      <th>netinccmnusd_abcd</th>\n",
              "      <th>log_return_mean_monthly_abcd</th>\n",
              "      <th>cashnequsd_abcd</th>\n",
              "      <th>ncff_abcd</th>\n",
              "      <th>ncfinv_abcd</th>\n",
              "      <th>sharesbas_abcd</th>\n",
              "      <th>accoci_abcd</th>\n",
              "      <th>volume_pct_std_monthly_abcd</th>\n",
              "    </tr>\n",
              "  </thead>\n",
              "  <tbody>\n",
              "    <tr>\n",
              "      <th>594484</th>\n",
              "      <td>0.622070</td>\n",
              "      <td>0.0</td>\n",
              "      <td>46.0</td>\n",
              "      <td>0.0</td>\n",
              "      <td>0.0</td>\n",
              "      <td>-2.00</td>\n",
              "      <td>-2.932000</td>\n",
              "      <td>0.140015</td>\n",
              "      <td>-0.040790</td>\n",
              "      <td>-0.040790</td>\n",
              "      <td>...</td>\n",
              "      <td>-4921000.0</td>\n",
              "      <td>41.482890</td>\n",
              "      <td>-14283000.00</td>\n",
              "      <td>0.118652</td>\n",
              "      <td>41000.0</td>\n",
              "      <td>6849000.00</td>\n",
              "      <td>0.0</td>\n",
              "      <td>66738424.00</td>\n",
              "      <td>-380000.0</td>\n",
              "      <td>0.566257</td>\n",
              "    </tr>\n",
              "    <tr>\n",
              "      <th>1105239</th>\n",
              "      <td>2.556641</td>\n",
              "      <td>0.0</td>\n",
              "      <td>45.0</td>\n",
              "      <td>0.0</td>\n",
              "      <td>0.0</td>\n",
              "      <td>38.25</td>\n",
              "      <td>12.770250</td>\n",
              "      <td>0.059746</td>\n",
              "      <td>0.006049</td>\n",
              "      <td>0.006049</td>\n",
              "      <td>...</td>\n",
              "      <td>403077.5</td>\n",
              "      <td>36.257811</td>\n",
              "      <td>284585.25</td>\n",
              "      <td>-0.031771</td>\n",
              "      <td>118929.5</td>\n",
              "      <td>2256930.75</td>\n",
              "      <td>0.0</td>\n",
              "      <td>4535244.00</td>\n",
              "      <td>0.0</td>\n",
              "      <td>0.034122</td>\n",
              "    </tr>\n",
              "    <tr>\n",
              "      <th>1244914</th>\n",
              "      <td>2.895996</td>\n",
              "      <td>0.0</td>\n",
              "      <td>33.0</td>\n",
              "      <td>0.0</td>\n",
              "      <td>0.0</td>\n",
              "      <td>8.75</td>\n",
              "      <td>6.032750</td>\n",
              "      <td>0.340088</td>\n",
              "      <td>-0.018784</td>\n",
              "      <td>-0.018784</td>\n",
              "      <td>...</td>\n",
              "      <td>9601250.0</td>\n",
              "      <td>175.866472</td>\n",
              "      <td>9307500.00</td>\n",
              "      <td>-0.115288</td>\n",
              "      <td>124566250.0</td>\n",
              "      <td>4170750.00</td>\n",
              "      <td>0.0</td>\n",
              "      <td>95964042.00</td>\n",
              "      <td>598250.0</td>\n",
              "      <td>0.124169</td>\n",
              "    </tr>\n",
              "    <tr>\n",
              "      <th>168202</th>\n",
              "      <td>5.027344</td>\n",
              "      <td>0.0</td>\n",
              "      <td>53.0</td>\n",
              "      <td>0.0</td>\n",
              "      <td>0.0</td>\n",
              "      <td>-5.75</td>\n",
              "      <td>-18.442249</td>\n",
              "      <td>0.590820</td>\n",
              "      <td>0.034838</td>\n",
              "      <td>0.034838</td>\n",
              "      <td>...</td>\n",
              "      <td>-2160500.0</td>\n",
              "      <td>54.428518</td>\n",
              "      <td>-1494500.00</td>\n",
              "      <td>0.105684</td>\n",
              "      <td>22483500.0</td>\n",
              "      <td>56000.00</td>\n",
              "      <td>-5611000.0</td>\n",
              "      <td>12475109.75</td>\n",
              "      <td>-28750.0</td>\n",
              "      <td>0.303306</td>\n",
              "    </tr>\n",
              "    <tr>\n",
              "      <th>1052987</th>\n",
              "      <td>1.054199</td>\n",
              "      <td>0.0</td>\n",
              "      <td>47.0</td>\n",
              "      <td>0.0</td>\n",
              "      <td>0.0</td>\n",
              "      <td>-9.50</td>\n",
              "      <td>-0.571500</td>\n",
              "      <td>0.533447</td>\n",
              "      <td>-0.106918</td>\n",
              "      <td>-0.106918</td>\n",
              "      <td>...</td>\n",
              "      <td>-671334.5</td>\n",
              "      <td>2.909632</td>\n",
              "      <td>-686329.50</td>\n",
              "      <td>-0.186768</td>\n",
              "      <td>1253234.5</td>\n",
              "      <td>0.00</td>\n",
              "      <td>0.0</td>\n",
              "      <td>60004.00</td>\n",
              "      <td>0.0</td>\n",
              "      <td>4.837614</td>\n",
              "    </tr>\n",
              "  </tbody>\n",
              "</table>\n",
              "<p>5 rows × 46 columns</p>\n",
              "</div>\n",
              "      <button class=\"colab-df-convert\" onclick=\"convertToInteractive('df-1f1866b6-15e4-4e47-ae24-02b729215d0c')\"\n",
              "              title=\"Convert this dataframe to an interactive table.\"\n",
              "              style=\"display:none;\">\n",
              "        \n",
              "  <svg xmlns=\"http://www.w3.org/2000/svg\" height=\"24px\"viewBox=\"0 0 24 24\"\n",
              "       width=\"24px\">\n",
              "    <path d=\"M0 0h24v24H0V0z\" fill=\"none\"/>\n",
              "    <path d=\"M18.56 5.44l.94 2.06.94-2.06 2.06-.94-2.06-.94-.94-2.06-.94 2.06-2.06.94zm-11 1L8.5 8.5l.94-2.06 2.06-.94-2.06-.94L8.5 2.5l-.94 2.06-2.06.94zm10 10l.94 2.06.94-2.06 2.06-.94-2.06-.94-.94-2.06-.94 2.06-2.06.94z\"/><path d=\"M17.41 7.96l-1.37-1.37c-.4-.4-.92-.59-1.43-.59-.52 0-1.04.2-1.43.59L10.3 9.45l-7.72 7.72c-.78.78-.78 2.05 0 2.83L4 21.41c.39.39.9.59 1.41.59.51 0 1.02-.2 1.41-.59l7.78-7.78 2.81-2.81c.8-.78.8-2.07 0-2.86zM5.41 20L4 18.59l7.72-7.72 1.47 1.35L5.41 20z\"/>\n",
              "  </svg>\n",
              "      </button>\n",
              "      \n",
              "  <style>\n",
              "    .colab-df-container {\n",
              "      display:flex;\n",
              "      flex-wrap:wrap;\n",
              "      gap: 12px;\n",
              "    }\n",
              "\n",
              "    .colab-df-convert {\n",
              "      background-color: #E8F0FE;\n",
              "      border: none;\n",
              "      border-radius: 50%;\n",
              "      cursor: pointer;\n",
              "      display: none;\n",
              "      fill: #1967D2;\n",
              "      height: 32px;\n",
              "      padding: 0 0 0 0;\n",
              "      width: 32px;\n",
              "    }\n",
              "\n",
              "    .colab-df-convert:hover {\n",
              "      background-color: #E2EBFA;\n",
              "      box-shadow: 0px 1px 2px rgba(60, 64, 67, 0.3), 0px 1px 3px 1px rgba(60, 64, 67, 0.15);\n",
              "      fill: #174EA6;\n",
              "    }\n",
              "\n",
              "    [theme=dark] .colab-df-convert {\n",
              "      background-color: #3B4455;\n",
              "      fill: #D2E3FC;\n",
              "    }\n",
              "\n",
              "    [theme=dark] .colab-df-convert:hover {\n",
              "      background-color: #434B5C;\n",
              "      box-shadow: 0px 1px 3px 1px rgba(0, 0, 0, 0.15);\n",
              "      filter: drop-shadow(0px 1px 2px rgba(0, 0, 0, 0.3));\n",
              "      fill: #FFFFFF;\n",
              "    }\n",
              "  </style>\n",
              "\n",
              "      <script>\n",
              "        const buttonEl =\n",
              "          document.querySelector('#df-1f1866b6-15e4-4e47-ae24-02b729215d0c button.colab-df-convert');\n",
              "        buttonEl.style.display =\n",
              "          google.colab.kernel.accessAllowed ? 'block' : 'none';\n",
              "\n",
              "        async function convertToInteractive(key) {\n",
              "          const element = document.querySelector('#df-1f1866b6-15e4-4e47-ae24-02b729215d0c');\n",
              "          const dataTable =\n",
              "            await google.colab.kernel.invokeFunction('convertToInteractive',\n",
              "                                                     [key], {});\n",
              "          if (!dataTable) return;\n",
              "\n",
              "          const docLinkHtml = 'Like what you see? Visit the ' +\n",
              "            '<a target=\"_blank\" href=https://colab.research.google.com/notebooks/data_table.ipynb>data table notebook</a>'\n",
              "            + ' to learn more about interactive tables.';\n",
              "          element.innerHTML = '';\n",
              "          dataTable['output_type'] = 'display_data';\n",
              "          await google.colab.output.renderOutput(dataTable, element);\n",
              "          const docLink = document.createElement('div');\n",
              "          docLink.innerHTML = docLinkHtml;\n",
              "          element.appendChild(docLink);\n",
              "        }\n",
              "      </script>\n",
              "    </div>\n",
              "  </div>\n",
              "  "
            ]
          },
          "metadata": {},
          "execution_count": 155
        }
      ]
    },
    {
      "cell_type": "code",
      "source": [
        "X_new.sample(5,random_state=42)"
      ],
      "metadata": {
        "colab": {
          "base_uri": "https://localhost:8080/",
          "height": 300
        },
        "id": "DdyGatTCtV-P",
        "outputId": "3b1f22c5-f37d-49dd-d431-4c732ffab13f"
      },
      "execution_count": 156,
      "outputs": [
        {
          "output_type": "execute_result",
          "data": {
            "text/plain": [
              "         currentratiomean  deferredrevmean  delaymean  divyieldmean  dpsmean  \\\n",
              "594484           0.622070              0.0       46.0           0.0      0.0   \n",
              "1105239          2.556641              0.0       45.0           0.0      0.0   \n",
              "1244914          2.895996              0.0       33.0           0.0      0.0   \n",
              "168202           5.027344              0.0       53.0           0.0      0.0   \n",
              "1052987          1.054199              0.0       47.0           0.0      0.0   \n",
              "\n",
              "         evebitmean  evebitdamean  grossmarginmean  \\\n",
              "594484        -2.00     -2.932000         0.140015   \n",
              "1105239       38.25     12.770250         0.059746   \n",
              "1244914        8.75      6.032750         0.340088   \n",
              "168202        -5.75    -18.442249         0.590820   \n",
              "1052987       -9.50     -0.571500         0.533447   \n",
              "\n",
              "         log_return_7_mean_mean_monthlymean  \\\n",
              "594484                            -0.040790   \n",
              "1105239                            0.006049   \n",
              "1244914                           -0.018784   \n",
              "168202                             0.034838   \n",
              "1052987                           -0.106918   \n",
              "\n",
              "         log_return_7_mean_std_monthlymean  ...    ebtmean  ev_ratiosmean  \\\n",
              "594484                           -0.040790  ... -4921000.0      41.482890   \n",
              "1105239                           0.006049  ...   403077.5      36.257811   \n",
              "1244914                          -0.018784  ...  9601250.0     175.866472   \n",
              "168202                            0.034838  ... -2160500.0      54.428518   \n",
              "1052987                          -0.106918  ...  -671334.5       2.909632   \n",
              "\n",
              "         netinccmnusdmean  log_return_mean_monthlymean  cashnequsdmean  \\\n",
              "594484       -14283000.00                     0.118652         41000.0   \n",
              "1105239         284585.25                    -0.031771        118929.5   \n",
              "1244914        9307500.00                    -0.115288     124566250.0   \n",
              "168202        -1494500.00                     0.105684      22483500.0   \n",
              "1052987        -686329.50                    -0.186768       1253234.5   \n",
              "\n",
              "           ncffmean  ncfinvmean  sharesbasmean  accocimean  \\\n",
              "594484   6849000.00         0.0    66738424.00   -380000.0   \n",
              "1105239  2256930.75         0.0     4535244.00         0.0   \n",
              "1244914  4170750.00         0.0    95964042.00    598250.0   \n",
              "168202     56000.00  -5611000.0    12475109.75    -28750.0   \n",
              "1052987        0.00         0.0       60004.00         0.0   \n",
              "\n",
              "         volume_pct_std_monthlymean  \n",
              "594484                     0.566257  \n",
              "1105239                    0.034122  \n",
              "1244914                    0.124169  \n",
              "168202                     0.303306  \n",
              "1052987                    4.837614  \n",
              "\n",
              "[5 rows x 46 columns]"
            ],
            "text/html": [
              "\n",
              "  <div id=\"df-e1800f39-8272-4833-b9a4-1bf79595c9a4\">\n",
              "    <div class=\"colab-df-container\">\n",
              "      <div>\n",
              "<style scoped>\n",
              "    .dataframe tbody tr th:only-of-type {\n",
              "        vertical-align: middle;\n",
              "    }\n",
              "\n",
              "    .dataframe tbody tr th {\n",
              "        vertical-align: top;\n",
              "    }\n",
              "\n",
              "    .dataframe thead th {\n",
              "        text-align: right;\n",
              "    }\n",
              "</style>\n",
              "<table border=\"1\" class=\"dataframe\">\n",
              "  <thead>\n",
              "    <tr style=\"text-align: right;\">\n",
              "      <th></th>\n",
              "      <th>currentratiomean</th>\n",
              "      <th>deferredrevmean</th>\n",
              "      <th>delaymean</th>\n",
              "      <th>divyieldmean</th>\n",
              "      <th>dpsmean</th>\n",
              "      <th>evebitmean</th>\n",
              "      <th>evebitdamean</th>\n",
              "      <th>grossmarginmean</th>\n",
              "      <th>log_return_7_mean_mean_monthlymean</th>\n",
              "      <th>log_return_7_mean_std_monthlymean</th>\n",
              "      <th>...</th>\n",
              "      <th>ebtmean</th>\n",
              "      <th>ev_ratiosmean</th>\n",
              "      <th>netinccmnusdmean</th>\n",
              "      <th>log_return_mean_monthlymean</th>\n",
              "      <th>cashnequsdmean</th>\n",
              "      <th>ncffmean</th>\n",
              "      <th>ncfinvmean</th>\n",
              "      <th>sharesbasmean</th>\n",
              "      <th>accocimean</th>\n",
              "      <th>volume_pct_std_monthlymean</th>\n",
              "    </tr>\n",
              "  </thead>\n",
              "  <tbody>\n",
              "    <tr>\n",
              "      <th>594484</th>\n",
              "      <td>0.622070</td>\n",
              "      <td>0.0</td>\n",
              "      <td>46.0</td>\n",
              "      <td>0.0</td>\n",
              "      <td>0.0</td>\n",
              "      <td>-2.00</td>\n",
              "      <td>-2.932000</td>\n",
              "      <td>0.140015</td>\n",
              "      <td>-0.040790</td>\n",
              "      <td>-0.040790</td>\n",
              "      <td>...</td>\n",
              "      <td>-4921000.0</td>\n",
              "      <td>41.482890</td>\n",
              "      <td>-14283000.00</td>\n",
              "      <td>0.118652</td>\n",
              "      <td>41000.0</td>\n",
              "      <td>6849000.00</td>\n",
              "      <td>0.0</td>\n",
              "      <td>66738424.00</td>\n",
              "      <td>-380000.0</td>\n",
              "      <td>0.566257</td>\n",
              "    </tr>\n",
              "    <tr>\n",
              "      <th>1105239</th>\n",
              "      <td>2.556641</td>\n",
              "      <td>0.0</td>\n",
              "      <td>45.0</td>\n",
              "      <td>0.0</td>\n",
              "      <td>0.0</td>\n",
              "      <td>38.25</td>\n",
              "      <td>12.770250</td>\n",
              "      <td>0.059746</td>\n",
              "      <td>0.006049</td>\n",
              "      <td>0.006049</td>\n",
              "      <td>...</td>\n",
              "      <td>403077.5</td>\n",
              "      <td>36.257811</td>\n",
              "      <td>284585.25</td>\n",
              "      <td>-0.031771</td>\n",
              "      <td>118929.5</td>\n",
              "      <td>2256930.75</td>\n",
              "      <td>0.0</td>\n",
              "      <td>4535244.00</td>\n",
              "      <td>0.0</td>\n",
              "      <td>0.034122</td>\n",
              "    </tr>\n",
              "    <tr>\n",
              "      <th>1244914</th>\n",
              "      <td>2.895996</td>\n",
              "      <td>0.0</td>\n",
              "      <td>33.0</td>\n",
              "      <td>0.0</td>\n",
              "      <td>0.0</td>\n",
              "      <td>8.75</td>\n",
              "      <td>6.032750</td>\n",
              "      <td>0.340088</td>\n",
              "      <td>-0.018784</td>\n",
              "      <td>-0.018784</td>\n",
              "      <td>...</td>\n",
              "      <td>9601250.0</td>\n",
              "      <td>175.866472</td>\n",
              "      <td>9307500.00</td>\n",
              "      <td>-0.115288</td>\n",
              "      <td>124566250.0</td>\n",
              "      <td>4170750.00</td>\n",
              "      <td>0.0</td>\n",
              "      <td>95964042.00</td>\n",
              "      <td>598250.0</td>\n",
              "      <td>0.124169</td>\n",
              "    </tr>\n",
              "    <tr>\n",
              "      <th>168202</th>\n",
              "      <td>5.027344</td>\n",
              "      <td>0.0</td>\n",
              "      <td>53.0</td>\n",
              "      <td>0.0</td>\n",
              "      <td>0.0</td>\n",
              "      <td>-5.75</td>\n",
              "      <td>-18.442249</td>\n",
              "      <td>0.590820</td>\n",
              "      <td>0.034838</td>\n",
              "      <td>0.034838</td>\n",
              "      <td>...</td>\n",
              "      <td>-2160500.0</td>\n",
              "      <td>54.428518</td>\n",
              "      <td>-1494500.00</td>\n",
              "      <td>0.105684</td>\n",
              "      <td>22483500.0</td>\n",
              "      <td>56000.00</td>\n",
              "      <td>-5611000.0</td>\n",
              "      <td>12475109.75</td>\n",
              "      <td>-28750.0</td>\n",
              "      <td>0.303306</td>\n",
              "    </tr>\n",
              "    <tr>\n",
              "      <th>1052987</th>\n",
              "      <td>1.054199</td>\n",
              "      <td>0.0</td>\n",
              "      <td>47.0</td>\n",
              "      <td>0.0</td>\n",
              "      <td>0.0</td>\n",
              "      <td>-9.50</td>\n",
              "      <td>-0.571500</td>\n",
              "      <td>0.533447</td>\n",
              "      <td>-0.106918</td>\n",
              "      <td>-0.106918</td>\n",
              "      <td>...</td>\n",
              "      <td>-671334.5</td>\n",
              "      <td>2.909632</td>\n",
              "      <td>-686329.50</td>\n",
              "      <td>-0.186768</td>\n",
              "      <td>1253234.5</td>\n",
              "      <td>0.00</td>\n",
              "      <td>0.0</td>\n",
              "      <td>60004.00</td>\n",
              "      <td>0.0</td>\n",
              "      <td>4.837614</td>\n",
              "    </tr>\n",
              "  </tbody>\n",
              "</table>\n",
              "<p>5 rows × 46 columns</p>\n",
              "</div>\n",
              "      <button class=\"colab-df-convert\" onclick=\"convertToInteractive('df-e1800f39-8272-4833-b9a4-1bf79595c9a4')\"\n",
              "              title=\"Convert this dataframe to an interactive table.\"\n",
              "              style=\"display:none;\">\n",
              "        \n",
              "  <svg xmlns=\"http://www.w3.org/2000/svg\" height=\"24px\"viewBox=\"0 0 24 24\"\n",
              "       width=\"24px\">\n",
              "    <path d=\"M0 0h24v24H0V0z\" fill=\"none\"/>\n",
              "    <path d=\"M18.56 5.44l.94 2.06.94-2.06 2.06-.94-2.06-.94-.94-2.06-.94 2.06-2.06.94zm-11 1L8.5 8.5l.94-2.06 2.06-.94-2.06-.94L8.5 2.5l-.94 2.06-2.06.94zm10 10l.94 2.06.94-2.06 2.06-.94-2.06-.94-.94-2.06-.94 2.06-2.06.94z\"/><path d=\"M17.41 7.96l-1.37-1.37c-.4-.4-.92-.59-1.43-.59-.52 0-1.04.2-1.43.59L10.3 9.45l-7.72 7.72c-.78.78-.78 2.05 0 2.83L4 21.41c.39.39.9.59 1.41.59.51 0 1.02-.2 1.41-.59l7.78-7.78 2.81-2.81c.8-.78.8-2.07 0-2.86zM5.41 20L4 18.59l7.72-7.72 1.47 1.35L5.41 20z\"/>\n",
              "  </svg>\n",
              "      </button>\n",
              "      \n",
              "  <style>\n",
              "    .colab-df-container {\n",
              "      display:flex;\n",
              "      flex-wrap:wrap;\n",
              "      gap: 12px;\n",
              "    }\n",
              "\n",
              "    .colab-df-convert {\n",
              "      background-color: #E8F0FE;\n",
              "      border: none;\n",
              "      border-radius: 50%;\n",
              "      cursor: pointer;\n",
              "      display: none;\n",
              "      fill: #1967D2;\n",
              "      height: 32px;\n",
              "      padding: 0 0 0 0;\n",
              "      width: 32px;\n",
              "    }\n",
              "\n",
              "    .colab-df-convert:hover {\n",
              "      background-color: #E2EBFA;\n",
              "      box-shadow: 0px 1px 2px rgba(60, 64, 67, 0.3), 0px 1px 3px 1px rgba(60, 64, 67, 0.15);\n",
              "      fill: #174EA6;\n",
              "    }\n",
              "\n",
              "    [theme=dark] .colab-df-convert {\n",
              "      background-color: #3B4455;\n",
              "      fill: #D2E3FC;\n",
              "    }\n",
              "\n",
              "    [theme=dark] .colab-df-convert:hover {\n",
              "      background-color: #434B5C;\n",
              "      box-shadow: 0px 1px 3px 1px rgba(0, 0, 0, 0.15);\n",
              "      filter: drop-shadow(0px 1px 2px rgba(0, 0, 0, 0.3));\n",
              "      fill: #FFFFFF;\n",
              "    }\n",
              "  </style>\n",
              "\n",
              "      <script>\n",
              "        const buttonEl =\n",
              "          document.querySelector('#df-e1800f39-8272-4833-b9a4-1bf79595c9a4 button.colab-df-convert');\n",
              "        buttonEl.style.display =\n",
              "          google.colab.kernel.accessAllowed ? 'block' : 'none';\n",
              "\n",
              "        async function convertToInteractive(key) {\n",
              "          const element = document.querySelector('#df-e1800f39-8272-4833-b9a4-1bf79595c9a4');\n",
              "          const dataTable =\n",
              "            await google.colab.kernel.invokeFunction('convertToInteractive',\n",
              "                                                     [key], {});\n",
              "          if (!dataTable) return;\n",
              "\n",
              "          const docLinkHtml = 'Like what you see? Visit the ' +\n",
              "            '<a target=\"_blank\" href=https://colab.research.google.com/notebooks/data_table.ipynb>data table notebook</a>'\n",
              "            + ' to learn more about interactive tables.';\n",
              "          element.innerHTML = '';\n",
              "          dataTable['output_type'] = 'display_data';\n",
              "          await google.colab.output.renderOutput(dataTable, element);\n",
              "          const docLink = document.createElement('div');\n",
              "          docLink.innerHTML = docLinkHtml;\n",
              "          element.appendChild(docLink);\n",
              "        }\n",
              "      </script>\n",
              "    </div>\n",
              "  </div>\n",
              "  "
            ]
          },
          "metadata": {},
          "execution_count": 156
        }
      ]
    },
    {
      "cell_type": "code",
      "source": [],
      "metadata": {
        "id": "wyAEd0XUtadr"
      },
      "execution_count": null,
      "outputs": []
    }
  ],
  "metadata": {
    "colab": {
      "collapsed_sections": [
        "WM3tFMxCAsG6",
        "zF1Cg6-Xyfmp",
        "duuI0pByyfms",
        "SlSNwWqpF_Ze",
        "r2wE_xd6F_Zi",
        "8FbB_CSbF_Zk",
        "2cwV8afaF_Zm",
        "tUXEtdaDcqjX",
        "xRBXwxZBbBcx",
        "LvMr_k7YpsvK",
        "EuKFPu3MMfMK",
        "Ld-sF72qNO7M",
        "F0NEFSzRNVN8",
        "II1TuqtVe2rC"
      ],
      "provenance": [],
      "authorship_tag": "ABX9TyOZXlZ2P/yoX7y4iz3b2P5V"
    },
    "kernelspec": {
      "display_name": "Python 3",
      "name": "python3"
    },
    "language_info": {
      "name": "python"
    }
  },
  "nbformat": 4,
  "nbformat_minor": 0
}